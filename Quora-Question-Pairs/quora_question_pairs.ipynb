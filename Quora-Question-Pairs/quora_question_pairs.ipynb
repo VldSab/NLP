{
  "nbformat": 4,
  "nbformat_minor": 0,
  "metadata": {
    "colab": {
      "name": "quora_question_pairs.ipynb",
      "provenance": [],
      "collapsed_sections": []
    },
    "kernelspec": {
      "name": "python3",
      "display_name": "Python 3"
    },
    "language_info": {
      "name": "python"
    },
    "accelerator": "GPU"
  },
  "cells": [
    {
      "cell_type": "markdown",
      "source": [
        "#Quora Question Pairs\n",
        "##Can you identify question pairs that have the same intent?"
      ],
      "metadata": {
        "id": "LY7iFfi01VDw"
      }
    },
    {
      "cell_type": "markdown",
      "source": [
        "The goal of this competition is to predict which of the provided pairs of questions contain two questions with the same meaning. The ground truth is the set of labels that have been supplied by human experts. The ground truth labels are inherently subjective, as the true meaning of sentences can never be known with certainty. Human labeling is also a 'noisy' process, and reasonable people will disagree. As a result, the ground truth labels on this dataset should be taken to be 'informed' but not 100% accurate, and may include incorrect labeling. We believe the labels, on the whole, to represent a reasonable consensus, but this may often not be true on a case by case basis for individual items in the dataset."
      ],
      "metadata": {
        "id": "lpBtNyx81eEk"
      }
    },
    {
      "cell_type": "markdown",
      "source": [
        "## I want to compare several approaches to meashure sentences similarity in this paper:\n",
        "  1. Words embedding and cosine similarity;\n",
        "  2. Sentence encoder (BiLSTM) + simple classifier (FeedForward NN);\n",
        "  3. Transformers;  "
      ],
      "metadata": {
        "id": "fUsWaU-l1yTS"
      }
    },
    {
      "cell_type": "code",
      "execution_count": 2,
      "metadata": {
        "id": "Cfovb8boCVfo"
      },
      "outputs": [],
      "source": [
        "import spacy\n",
        "from spacy.tokens import Doc\n",
        "from spacy.vocab import Vocab\n",
        "import numpy as np\n",
        "from scipy import spatial\n",
        "import pandas as pd\n",
        "import array\n",
        "from sklearn import metrics\n",
        "import torch\n",
        "import torch.nn as nn\n",
        "from torch.autograd import Variable\n",
        "from torch.utils.data import Dataset, DataLoader, TensorDataset, random_split\n",
        "import matplotlib.pyplot as plt\n",
        "import seaborn as sns\n",
        "import gensim.downloader as api\n",
        "import torch.onnx\n",
        "import onnx"
      ]
    },
    {
      "cell_type": "code",
      "source": [
        "!pip install onnx"
      ],
      "metadata": {
        "colab": {
          "base_uri": "https://localhost:8080/"
        },
        "id": "Lu7a7HHjDp6O",
        "outputId": "18d31eda-ba67-4d88-bf71-07ba8d7fcd57"
      },
      "execution_count": 1,
      "outputs": [
        {
          "output_type": "stream",
          "name": "stdout",
          "text": [
            "Collecting onnx\n",
            "  Downloading onnx-1.11.0-cp37-cp37m-manylinux_2_12_x86_64.manylinux2010_x86_64.whl (12.8 MB)\n",
            "\u001b[K     |████████████████████████████████| 12.8 MB 4.1 MB/s \n",
            "\u001b[?25hRequirement already satisfied: numpy>=1.16.6 in /usr/local/lib/python3.7/dist-packages (from onnx) (1.21.5)\n",
            "Requirement already satisfied: typing-extensions>=3.6.2.1 in /usr/local/lib/python3.7/dist-packages (from onnx) (4.1.1)\n",
            "Requirement already satisfied: protobuf>=3.12.2 in /usr/local/lib/python3.7/dist-packages (from onnx) (3.17.3)\n",
            "Requirement already satisfied: six>=1.9 in /usr/local/lib/python3.7/dist-packages (from protobuf>=3.12.2->onnx) (1.15.0)\n",
            "Installing collected packages: onnx\n",
            "Successfully installed onnx-1.11.0\n"
          ]
        }
      ]
    },
    {
      "cell_type": "code",
      "source": [
        "!python -m spacy download en_core_web_md"
      ],
      "metadata": {
        "colab": {
          "base_uri": "https://localhost:8080/"
        },
        "id": "yUeqY8i9E33a",
        "outputId": "f0111091-162f-4361-a9fb-52bca4b75897"
      },
      "execution_count": null,
      "outputs": [
        {
          "output_type": "stream",
          "name": "stdout",
          "text": [
            "\u001b[38;5;3m⚠ Skipping model package dependencies and setting `--no-deps`. You\n",
            "don't seem to have the spaCy package itself installed (maybe because you've\n",
            "built from source?), so installing the model dependencies would cause spaCy to\n",
            "be downloaded, which probably isn't what you want. If the model package has\n",
            "other dependencies, you'll have to install them manually.\u001b[0m\n",
            "Collecting en_core_web_md==2.2.5\n",
            "  Downloading https://github.com/explosion/spacy-models/releases/download/en_core_web_md-2.2.5/en_core_web_md-2.2.5.tar.gz (96.4 MB)\n",
            "\u001b[K     |████████████████████████████████| 96.4 MB 1.7 MB/s \n",
            "\u001b[31mERROR: Operation cancelled by user\u001b[0m\n",
            "\u001b[?25h^C\n"
          ]
        }
      ]
    },
    {
      "cell_type": "markdown",
      "source": [
        "## Prepare data\n"
      ],
      "metadata": {
        "id": "3ILgL2cI2_xs"
      }
    },
    {
      "cell_type": "code",
      "source": [
        "nlp = spacy.load(\"en_core_web_md\")"
      ],
      "metadata": {
        "id": "maJcdlwuCc88"
      },
      "execution_count": null,
      "outputs": []
    },
    {
      "cell_type": "code",
      "source": [
        "df = pd.read_csv(\"train.csv\", engine='python', error_bad_lines=False, index_col='id')"
      ],
      "metadata": {
        "colab": {
          "base_uri": "https://localhost:8080/"
        },
        "id": "DTkbPKGl2-ko",
        "outputId": "d8e3ca24-46d2-44a5-e205-7b055f8be441"
      },
      "execution_count": 3,
      "outputs": [
        {
          "output_type": "stream",
          "name": "stderr",
          "text": [
            "/usr/local/lib/python3.7/dist-packages/IPython/core/interactiveshell.py:2882: FutureWarning: The error_bad_lines argument has been deprecated and will be removed in a future version.\n",
            "\n",
            "\n",
            "  exec(code_obj, self.user_global_ns, self.user_ns)\n"
          ]
        }
      ]
    },
    {
      "cell_type": "code",
      "source": [
        "df.head()"
      ],
      "metadata": {
        "colab": {
          "base_uri": "https://localhost:8080/",
          "height": 237
        },
        "id": "54otxXJE3Dpe",
        "outputId": "7ebc7617-6475-4f3f-827e-d0a16db68ba3"
      },
      "execution_count": 4,
      "outputs": [
        {
          "output_type": "execute_result",
          "data": {
            "text/plain": [
              "    qid1  qid2                                          question1  \\\n",
              "id                                                                  \n",
              "0      1     2  What is the step by step guide to invest in sh...   \n",
              "1      3     4  What is the story of Kohinoor (Koh-i-Noor) Dia...   \n",
              "2      5     6  How can I increase the speed of my internet co...   \n",
              "3      7     8  Why am I mentally very lonely? How can I solve...   \n",
              "4      9    10  Which one dissolve in water quikly sugar, salt...   \n",
              "\n",
              "                                            question2  is_duplicate  \n",
              "id                                                                   \n",
              "0   What is the step by step guide to invest in sh...             0  \n",
              "1   What would happen if the Indian government sto...             0  \n",
              "2   How can Internet speed be increased by hacking...             0  \n",
              "3   Find the remainder when [math]23^{24}[/math] i...             0  \n",
              "4             Which fish would survive in salt water?             0  "
            ],
            "text/html": [
              "\n",
              "  <div id=\"df-97b050b1-8ef7-4386-a54a-f85f0496d8e0\">\n",
              "    <div class=\"colab-df-container\">\n",
              "      <div>\n",
              "<style scoped>\n",
              "    .dataframe tbody tr th:only-of-type {\n",
              "        vertical-align: middle;\n",
              "    }\n",
              "\n",
              "    .dataframe tbody tr th {\n",
              "        vertical-align: top;\n",
              "    }\n",
              "\n",
              "    .dataframe thead th {\n",
              "        text-align: right;\n",
              "    }\n",
              "</style>\n",
              "<table border=\"1\" class=\"dataframe\">\n",
              "  <thead>\n",
              "    <tr style=\"text-align: right;\">\n",
              "      <th></th>\n",
              "      <th>qid1</th>\n",
              "      <th>qid2</th>\n",
              "      <th>question1</th>\n",
              "      <th>question2</th>\n",
              "      <th>is_duplicate</th>\n",
              "    </tr>\n",
              "    <tr>\n",
              "      <th>id</th>\n",
              "      <th></th>\n",
              "      <th></th>\n",
              "      <th></th>\n",
              "      <th></th>\n",
              "      <th></th>\n",
              "    </tr>\n",
              "  </thead>\n",
              "  <tbody>\n",
              "    <tr>\n",
              "      <th>0</th>\n",
              "      <td>1</td>\n",
              "      <td>2</td>\n",
              "      <td>What is the step by step guide to invest in sh...</td>\n",
              "      <td>What is the step by step guide to invest in sh...</td>\n",
              "      <td>0</td>\n",
              "    </tr>\n",
              "    <tr>\n",
              "      <th>1</th>\n",
              "      <td>3</td>\n",
              "      <td>4</td>\n",
              "      <td>What is the story of Kohinoor (Koh-i-Noor) Dia...</td>\n",
              "      <td>What would happen if the Indian government sto...</td>\n",
              "      <td>0</td>\n",
              "    </tr>\n",
              "    <tr>\n",
              "      <th>2</th>\n",
              "      <td>5</td>\n",
              "      <td>6</td>\n",
              "      <td>How can I increase the speed of my internet co...</td>\n",
              "      <td>How can Internet speed be increased by hacking...</td>\n",
              "      <td>0</td>\n",
              "    </tr>\n",
              "    <tr>\n",
              "      <th>3</th>\n",
              "      <td>7</td>\n",
              "      <td>8</td>\n",
              "      <td>Why am I mentally very lonely? How can I solve...</td>\n",
              "      <td>Find the remainder when [math]23^{24}[/math] i...</td>\n",
              "      <td>0</td>\n",
              "    </tr>\n",
              "    <tr>\n",
              "      <th>4</th>\n",
              "      <td>9</td>\n",
              "      <td>10</td>\n",
              "      <td>Which one dissolve in water quikly sugar, salt...</td>\n",
              "      <td>Which fish would survive in salt water?</td>\n",
              "      <td>0</td>\n",
              "    </tr>\n",
              "  </tbody>\n",
              "</table>\n",
              "</div>\n",
              "      <button class=\"colab-df-convert\" onclick=\"convertToInteractive('df-97b050b1-8ef7-4386-a54a-f85f0496d8e0')\"\n",
              "              title=\"Convert this dataframe to an interactive table.\"\n",
              "              style=\"display:none;\">\n",
              "        \n",
              "  <svg xmlns=\"http://www.w3.org/2000/svg\" height=\"24px\"viewBox=\"0 0 24 24\"\n",
              "       width=\"24px\">\n",
              "    <path d=\"M0 0h24v24H0V0z\" fill=\"none\"/>\n",
              "    <path d=\"M18.56 5.44l.94 2.06.94-2.06 2.06-.94-2.06-.94-.94-2.06-.94 2.06-2.06.94zm-11 1L8.5 8.5l.94-2.06 2.06-.94-2.06-.94L8.5 2.5l-.94 2.06-2.06.94zm10 10l.94 2.06.94-2.06 2.06-.94-2.06-.94-.94-2.06-.94 2.06-2.06.94z\"/><path d=\"M17.41 7.96l-1.37-1.37c-.4-.4-.92-.59-1.43-.59-.52 0-1.04.2-1.43.59L10.3 9.45l-7.72 7.72c-.78.78-.78 2.05 0 2.83L4 21.41c.39.39.9.59 1.41.59.51 0 1.02-.2 1.41-.59l7.78-7.78 2.81-2.81c.8-.78.8-2.07 0-2.86zM5.41 20L4 18.59l7.72-7.72 1.47 1.35L5.41 20z\"/>\n",
              "  </svg>\n",
              "      </button>\n",
              "      \n",
              "  <style>\n",
              "    .colab-df-container {\n",
              "      display:flex;\n",
              "      flex-wrap:wrap;\n",
              "      gap: 12px;\n",
              "    }\n",
              "\n",
              "    .colab-df-convert {\n",
              "      background-color: #E8F0FE;\n",
              "      border: none;\n",
              "      border-radius: 50%;\n",
              "      cursor: pointer;\n",
              "      display: none;\n",
              "      fill: #1967D2;\n",
              "      height: 32px;\n",
              "      padding: 0 0 0 0;\n",
              "      width: 32px;\n",
              "    }\n",
              "\n",
              "    .colab-df-convert:hover {\n",
              "      background-color: #E2EBFA;\n",
              "      box-shadow: 0px 1px 2px rgba(60, 64, 67, 0.3), 0px 1px 3px 1px rgba(60, 64, 67, 0.15);\n",
              "      fill: #174EA6;\n",
              "    }\n",
              "\n",
              "    [theme=dark] .colab-df-convert {\n",
              "      background-color: #3B4455;\n",
              "      fill: #D2E3FC;\n",
              "    }\n",
              "\n",
              "    [theme=dark] .colab-df-convert:hover {\n",
              "      background-color: #434B5C;\n",
              "      box-shadow: 0px 1px 3px 1px rgba(0, 0, 0, 0.15);\n",
              "      filter: drop-shadow(0px 1px 2px rgba(0, 0, 0, 0.3));\n",
              "      fill: #FFFFFF;\n",
              "    }\n",
              "  </style>\n",
              "\n",
              "      <script>\n",
              "        const buttonEl =\n",
              "          document.querySelector('#df-97b050b1-8ef7-4386-a54a-f85f0496d8e0 button.colab-df-convert');\n",
              "        buttonEl.style.display =\n",
              "          google.colab.kernel.accessAllowed ? 'block' : 'none';\n",
              "\n",
              "        async function convertToInteractive(key) {\n",
              "          const element = document.querySelector('#df-97b050b1-8ef7-4386-a54a-f85f0496d8e0');\n",
              "          const dataTable =\n",
              "            await google.colab.kernel.invokeFunction('convertToInteractive',\n",
              "                                                     [key], {});\n",
              "          if (!dataTable) return;\n",
              "\n",
              "          const docLinkHtml = 'Like what you see? Visit the ' +\n",
              "            '<a target=\"_blank\" href=https://colab.research.google.com/notebooks/data_table.ipynb>data table notebook</a>'\n",
              "            + ' to learn more about interactive tables.';\n",
              "          element.innerHTML = '';\n",
              "          dataTable['output_type'] = 'display_data';\n",
              "          await google.colab.output.renderOutput(dataTable, element);\n",
              "          const docLink = document.createElement('div');\n",
              "          docLink.innerHTML = docLinkHtml;\n",
              "          element.appendChild(docLink);\n",
              "        }\n",
              "      </script>\n",
              "    </div>\n",
              "  </div>\n",
              "  "
            ]
          },
          "metadata": {},
          "execution_count": 4
        }
      ]
    },
    {
      "cell_type": "code",
      "source": [
        "data = df[['question1', 'question2']]"
      ],
      "metadata": {
        "id": "9zqbPVRj3HEU"
      },
      "execution_count": 4,
      "outputs": []
    },
    {
      "cell_type": "code",
      "source": [
        "data.head()"
      ],
      "metadata": {
        "colab": {
          "base_uri": "https://localhost:8080/",
          "height": 237
        },
        "id": "MtDDDaYX7hFp",
        "outputId": "622db273-8dd9-4e87-c613-9d913803a404"
      },
      "execution_count": 6,
      "outputs": [
        {
          "output_type": "execute_result",
          "data": {
            "text/plain": [
              "                                            question1  \\\n",
              "id                                                      \n",
              "0   What is the step by step guide to invest in sh...   \n",
              "1   What is the story of Kohinoor (Koh-i-Noor) Dia...   \n",
              "2   How can I increase the speed of my internet co...   \n",
              "3   Why am I mentally very lonely? How can I solve...   \n",
              "4   Which one dissolve in water quikly sugar, salt...   \n",
              "\n",
              "                                            question2  \n",
              "id                                                     \n",
              "0   What is the step by step guide to invest in sh...  \n",
              "1   What would happen if the Indian government sto...  \n",
              "2   How can Internet speed be increased by hacking...  \n",
              "3   Find the remainder when [math]23^{24}[/math] i...  \n",
              "4             Which fish would survive in salt water?  "
            ],
            "text/html": [
              "\n",
              "  <div id=\"df-d2259e47-5c53-41f0-99fc-2bbe527934fe\">\n",
              "    <div class=\"colab-df-container\">\n",
              "      <div>\n",
              "<style scoped>\n",
              "    .dataframe tbody tr th:only-of-type {\n",
              "        vertical-align: middle;\n",
              "    }\n",
              "\n",
              "    .dataframe tbody tr th {\n",
              "        vertical-align: top;\n",
              "    }\n",
              "\n",
              "    .dataframe thead th {\n",
              "        text-align: right;\n",
              "    }\n",
              "</style>\n",
              "<table border=\"1\" class=\"dataframe\">\n",
              "  <thead>\n",
              "    <tr style=\"text-align: right;\">\n",
              "      <th></th>\n",
              "      <th>question1</th>\n",
              "      <th>question2</th>\n",
              "    </tr>\n",
              "    <tr>\n",
              "      <th>id</th>\n",
              "      <th></th>\n",
              "      <th></th>\n",
              "    </tr>\n",
              "  </thead>\n",
              "  <tbody>\n",
              "    <tr>\n",
              "      <th>0</th>\n",
              "      <td>What is the step by step guide to invest in sh...</td>\n",
              "      <td>What is the step by step guide to invest in sh...</td>\n",
              "    </tr>\n",
              "    <tr>\n",
              "      <th>1</th>\n",
              "      <td>What is the story of Kohinoor (Koh-i-Noor) Dia...</td>\n",
              "      <td>What would happen if the Indian government sto...</td>\n",
              "    </tr>\n",
              "    <tr>\n",
              "      <th>2</th>\n",
              "      <td>How can I increase the speed of my internet co...</td>\n",
              "      <td>How can Internet speed be increased by hacking...</td>\n",
              "    </tr>\n",
              "    <tr>\n",
              "      <th>3</th>\n",
              "      <td>Why am I mentally very lonely? How can I solve...</td>\n",
              "      <td>Find the remainder when [math]23^{24}[/math] i...</td>\n",
              "    </tr>\n",
              "    <tr>\n",
              "      <th>4</th>\n",
              "      <td>Which one dissolve in water quikly sugar, salt...</td>\n",
              "      <td>Which fish would survive in salt water?</td>\n",
              "    </tr>\n",
              "  </tbody>\n",
              "</table>\n",
              "</div>\n",
              "      <button class=\"colab-df-convert\" onclick=\"convertToInteractive('df-d2259e47-5c53-41f0-99fc-2bbe527934fe')\"\n",
              "              title=\"Convert this dataframe to an interactive table.\"\n",
              "              style=\"display:none;\">\n",
              "        \n",
              "  <svg xmlns=\"http://www.w3.org/2000/svg\" height=\"24px\"viewBox=\"0 0 24 24\"\n",
              "       width=\"24px\">\n",
              "    <path d=\"M0 0h24v24H0V0z\" fill=\"none\"/>\n",
              "    <path d=\"M18.56 5.44l.94 2.06.94-2.06 2.06-.94-2.06-.94-.94-2.06-.94 2.06-2.06.94zm-11 1L8.5 8.5l.94-2.06 2.06-.94-2.06-.94L8.5 2.5l-.94 2.06-2.06.94zm10 10l.94 2.06.94-2.06 2.06-.94-2.06-.94-.94-2.06-.94 2.06-2.06.94z\"/><path d=\"M17.41 7.96l-1.37-1.37c-.4-.4-.92-.59-1.43-.59-.52 0-1.04.2-1.43.59L10.3 9.45l-7.72 7.72c-.78.78-.78 2.05 0 2.83L4 21.41c.39.39.9.59 1.41.59.51 0 1.02-.2 1.41-.59l7.78-7.78 2.81-2.81c.8-.78.8-2.07 0-2.86zM5.41 20L4 18.59l7.72-7.72 1.47 1.35L5.41 20z\"/>\n",
              "  </svg>\n",
              "      </button>\n",
              "      \n",
              "  <style>\n",
              "    .colab-df-container {\n",
              "      display:flex;\n",
              "      flex-wrap:wrap;\n",
              "      gap: 12px;\n",
              "    }\n",
              "\n",
              "    .colab-df-convert {\n",
              "      background-color: #E8F0FE;\n",
              "      border: none;\n",
              "      border-radius: 50%;\n",
              "      cursor: pointer;\n",
              "      display: none;\n",
              "      fill: #1967D2;\n",
              "      height: 32px;\n",
              "      padding: 0 0 0 0;\n",
              "      width: 32px;\n",
              "    }\n",
              "\n",
              "    .colab-df-convert:hover {\n",
              "      background-color: #E2EBFA;\n",
              "      box-shadow: 0px 1px 2px rgba(60, 64, 67, 0.3), 0px 1px 3px 1px rgba(60, 64, 67, 0.15);\n",
              "      fill: #174EA6;\n",
              "    }\n",
              "\n",
              "    [theme=dark] .colab-df-convert {\n",
              "      background-color: #3B4455;\n",
              "      fill: #D2E3FC;\n",
              "    }\n",
              "\n",
              "    [theme=dark] .colab-df-convert:hover {\n",
              "      background-color: #434B5C;\n",
              "      box-shadow: 0px 1px 3px 1px rgba(0, 0, 0, 0.15);\n",
              "      filter: drop-shadow(0px 1px 2px rgba(0, 0, 0, 0.3));\n",
              "      fill: #FFFFFF;\n",
              "    }\n",
              "  </style>\n",
              "\n",
              "      <script>\n",
              "        const buttonEl =\n",
              "          document.querySelector('#df-d2259e47-5c53-41f0-99fc-2bbe527934fe button.colab-df-convert');\n",
              "        buttonEl.style.display =\n",
              "          google.colab.kernel.accessAllowed ? 'block' : 'none';\n",
              "\n",
              "        async function convertToInteractive(key) {\n",
              "          const element = document.querySelector('#df-d2259e47-5c53-41f0-99fc-2bbe527934fe');\n",
              "          const dataTable =\n",
              "            await google.colab.kernel.invokeFunction('convertToInteractive',\n",
              "                                                     [key], {});\n",
              "          if (!dataTable) return;\n",
              "\n",
              "          const docLinkHtml = 'Like what you see? Visit the ' +\n",
              "            '<a target=\"_blank\" href=https://colab.research.google.com/notebooks/data_table.ipynb>data table notebook</a>'\n",
              "            + ' to learn more about interactive tables.';\n",
              "          element.innerHTML = '';\n",
              "          dataTable['output_type'] = 'display_data';\n",
              "          await google.colab.output.renderOutput(dataTable, element);\n",
              "          const docLink = document.createElement('div');\n",
              "          docLink.innerHTML = docLinkHtml;\n",
              "          element.appendChild(docLink);\n",
              "        }\n",
              "      </script>\n",
              "    </div>\n",
              "  </div>\n",
              "  "
            ]
          },
          "metadata": {},
          "execution_count": 6
        }
      ]
    },
    {
      "cell_type": "code",
      "source": [
        "data_list = list(zip(list(data['question1']), list(data['question2'])))"
      ],
      "metadata": {
        "id": "pv6z2GH63KKl"
      },
      "execution_count": 5,
      "outputs": []
    },
    {
      "cell_type": "code",
      "source": [
        "data_list[0]"
      ],
      "metadata": {
        "colab": {
          "base_uri": "https://localhost:8080/"
        },
        "id": "WZQr_2H0TuJY",
        "outputId": "f69f6a73-c281-4e6a-a790-5ba3d3cd8a64"
      },
      "execution_count": 8,
      "outputs": [
        {
          "output_type": "execute_result",
          "data": {
            "text/plain": [
              "('What is the step by step guide to invest in share market in india?',\n",
              " 'What is the step by step guide to invest in share market?')"
            ]
          },
          "metadata": {},
          "execution_count": 8
        }
      ]
    },
    {
      "cell_type": "markdown",
      "source": [
        "## First approach \n",
        "Make embeddings for each word in sentence, then calculate mean value for sentence. Finally calculate cosine distance between two vectors."
      ],
      "metadata": {
        "id": "ObxC-zGx2upE"
      }
    },
    {
      "cell_type": "code",
      "source": [
        "# delete stop words, lowercase and tokenize\n",
        "def tokenize(sentence: str, nlp):\n",
        "  stop_words = nlp.Defaults.stop_words\n",
        "  tokens = sentence.split()\n",
        "  sentence_without_sw = ' '.join([token.lower() for token in tokens if token not in stop_words])\n",
        "  tokens_without_sw = nlp(sentence_without_sw)\n",
        "  return tokens_without_sw"
      ],
      "metadata": {
        "id": "OomwqsAQgw7D"
      },
      "execution_count": null,
      "outputs": []
    },
    {
      "cell_type": "code",
      "source": [
        "def cosine_similarity(sentence1: str, sentence2: str, nlp) -> int:\n",
        "  embedding1 = tokenize(sentence1, nlp).tensor.mean(axis=0)\n",
        "  embedding2 = tokenize(sentence2, nlp).tensor.mean(axis=0)\n",
        "  return spatial.distance.cosine(embedding1, embedding2)"
      ],
      "metadata": {
        "id": "9FhgvdlnHoIr"
      },
      "execution_count": null,
      "outputs": []
    },
    {
      "cell_type": "code",
      "source": [
        "def predict(data_list, nlp):\n",
        "  result = []\n",
        "  for tup in data_list[:10000]:\n",
        "    result.append(cosine_similarity(tup[0], tup[1], nlp))\n",
        "  result = np.array(result)\n",
        "  result /= max(result)\n",
        "\n",
        "  return (result > 0.5).astype(int)"
      ],
      "metadata": {
        "id": "c99mXsd8OAgy"
      },
      "execution_count": null,
      "outputs": []
    },
    {
      "cell_type": "code",
      "source": [
        "predicted_list = predict(data_list, nlp)"
      ],
      "metadata": {
        "id": "9uv38vk9v2Z8"
      },
      "execution_count": null,
      "outputs": []
    },
    {
      "cell_type": "code",
      "source": [
        "labels = np.array(df['is_duplicate'][:10000])"
      ],
      "metadata": {
        "id": "2ENTRyyWzedN"
      },
      "execution_count": null,
      "outputs": []
    },
    {
      "cell_type": "code",
      "source": [
        "metrics.accuracy_score(predicted_list, labels)"
      ],
      "metadata": {
        "colab": {
          "base_uri": "https://localhost:8080/"
        },
        "id": "h0hQIElf0I3u",
        "outputId": "afe8797b-3975-45f3-f345-a220d4f064d3"
      },
      "execution_count": null,
      "outputs": [
        {
          "output_type": "execute_result",
          "data": {
            "text/plain": [
              "0.5445"
            ]
          },
          "metadata": {},
          "execution_count": 90
        }
      ]
    },
    {
      "cell_type": "markdown",
      "source": [
        "As we can see, it is not good approach for this task. Accuracy 0.54 is too small."
      ],
      "metadata": {
        "id": "ScUlOeKLrr_k"
      }
    },
    {
      "cell_type": "markdown",
      "source": [
        "Now use spacy method."
      ],
      "metadata": {
        "id": "7nUmaDNopWP0"
      }
    },
    {
      "cell_type": "code",
      "source": [
        "sentence = 'My name is definetly Vova'\n",
        "sentence2 = 'My name is Vova'\n",
        "toks1 = nlp(sentence)\n",
        "toks2 = nlp(sentence2)\n",
        "toks1.similarity(toks2)"
      ],
      "metadata": {
        "colab": {
          "base_uri": "https://localhost:8080/"
        },
        "id": "-YcwH9EUpqxT",
        "outputId": "ae166a81-644d-4728-abee-2af450a1bbcc"
      },
      "execution_count": null,
      "outputs": [
        {
          "output_type": "execute_result",
          "data": {
            "text/plain": [
              "0.9631748208608146"
            ]
          },
          "metadata": {},
          "execution_count": 91
        }
      ]
    },
    {
      "cell_type": "code",
      "source": [
        "def predict_spacy(data_list, nlp):\n",
        "  result = []\n",
        "  for tup in data_list[:10000]:\n",
        "    result.append(nlp(tup[0]).similarity(nlp(tup[1])))\n",
        "  result = np.array(result)\n",
        "  return (result < 0.5).astype(int)"
      ],
      "metadata": {
        "id": "pfCgOF1ipVJ3"
      },
      "execution_count": null,
      "outputs": []
    },
    {
      "cell_type": "code",
      "source": [
        "predicted_list_spacy = predict_spacy(data_list, nlp)"
      ],
      "metadata": {
        "id": "wD2vAiJeqdjs"
      },
      "execution_count": null,
      "outputs": []
    },
    {
      "cell_type": "code",
      "source": [
        "metrics.accuracy_score(predicted_list_spacy, labels)"
      ],
      "metadata": {
        "colab": {
          "base_uri": "https://localhost:8080/"
        },
        "id": "3OynLYk7qzgq",
        "outputId": "03f01d75-1f38-4425-8aef-29c2a25d1445"
      },
      "execution_count": null,
      "outputs": [
        {
          "output_type": "execute_result",
          "data": {
            "text/plain": [
              "0.6274"
            ]
          },
          "metadata": {},
          "execution_count": 98
        }
      ]
    },
    {
      "cell_type": "markdown",
      "source": [
        "Results with spaCy approach a bit better. "
      ],
      "metadata": {
        "id": "usQqVZ0w3Pxt"
      }
    },
    {
      "cell_type": "markdown",
      "source": [
        "## Second approach: LSTM\n",
        "Train our own model for encoding, then use simple classifier to check similarity."
      ],
      "metadata": {
        "id": "O-TlzjWB3m1Q"
      }
    },
    {
      "cell_type": "markdown",
      "source": [
        "![Screenshot 2022-04-19 at 14.55.29.png](data:image/png;base64,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)"
      ],
      "metadata": {
        "id": "jIHAfmzorhjh"
      }
    },
    {
      "cell_type": "code",
      "source": [
        "device = torch.device(\"cuda:0\" if torch.cuda.is_available() else \"cpu\")"
      ],
      "metadata": {
        "id": "NLiYTywE3ciV"
      },
      "execution_count": 6,
      "outputs": []
    },
    {
      "cell_type": "markdown",
      "source": [
        "### Build own encoder\n",
        "We vectorize each sentence in dataset with gensim W2V. Then training encoder model. Now in evaluation mode we can vectorise sentences with this model, by getting output from N-1 model layer.\n"
      ],
      "metadata": {
        "id": "sxSXmbIgx1LF"
      }
    },
    {
      "cell_type": "code",
      "source": [
        "NUM_EPOCH = 80\n",
        "NUM_LAYERS = 3\n",
        "NUM_CLASSES = 6\n",
        "\n",
        "BATCH_SIZE = 256\n",
        "#INPUT_SIZE = 96\n",
        "INPUT_SIZE = 300\n",
        "HIDDEN_SIZE = 128\n",
        "SEQUENCE_LEN = 25\n",
        "\n",
        "LEARNING_RATE = 0.001"
      ],
      "metadata": {
        "id": "5mElsahFZErc"
      },
      "execution_count": 7,
      "outputs": []
    },
    {
      "cell_type": "code",
      "source": [
        "# create embeddings with spaCy\n",
        "def create_embeddings(data, nlp, column_number, number_of_examples):\n",
        "  embeddings_list = []\n",
        "  idx = 0\n",
        "  for sentence in list(data.iloc[:, column_number])[:number_of_examples]:\n",
        "    if not isinstance(sentence, str):\n",
        "      work_sentence = str(sentence)[:SEQUENCE_LEN]\n",
        "    else:\n",
        "      work_sentence = sentence[:SEQUENCE_LEN]\n",
        "    if idx != 0 and idx % 2000 == 0:\n",
        "      print(idx)\n",
        "    #try:\n",
        "    spacy_embedded_sentence = nlp(work_sentence)\n",
        "    #except Exception:\n",
        "    #  print(Exception)\n",
        "    #  continue\n",
        "    tensor_width = spacy_embedded_sentence.tensor.shape[0]\n",
        "    #if tensor_width < SEQUENCE_LEN:\n",
        "    embedded_sentence = torch.zeros(SEQUENCE_LEN, INPUT_SIZE)\n",
        "    embedded_sentence[:tensor_width, :] = torch.from_numpy(spacy_embedded_sentence.tensor)\n",
        "    # else:\n",
        "    #   embedded_sentence = torch.zeros(SEQUENCE_LEN, INPUT_SIZE)\n",
        "    #   embedded_sentence = torch.from_numpy(spacy_embedded_sentence.tensor[:SEQUENCE_LEN, :])\n",
        "    embeddings_list.append(torch.unsqueeze(embedded_sentence, 0))\n",
        "    idx += 1\n",
        "  return torch.cat(embeddings_list, dim=0)"
      ],
      "metadata": {
        "id": "rma40eWSXeA5"
      },
      "execution_count": 8,
      "outputs": []
    },
    {
      "cell_type": "code",
      "source": [
        "# download gensim w2v \n",
        "model_w2v = api.load(\"word2vec-google-news-300\") "
      ],
      "metadata": {
        "id": "0F_nFRQt1sxh"
      },
      "execution_count": 156,
      "outputs": []
    },
    {
      "cell_type": "code",
      "source": [
        "#create embeddings with gensim\n",
        "def create_embeddings_gensim(data, column_number, number_of_examples):\n",
        "  embedded_sentences = []\n",
        "  for i, sentence in enumerate(list(data.iloc[:, column_number])[:number_of_examples]):\n",
        "    if i % 2000 == 0:\n",
        "      print(i)\n",
        "    temp_sentence = []\n",
        "    if not isinstance(sentence, str):\n",
        "      temp_sentence = str(sentence)[:SEQUENCE_LEN]\n",
        "      if len(temp_sentence) < SEQUENCE_LEN:\n",
        "        temp_sentence += ' ' * (SEQUENCE_LEN - len(temp_sentence))\n",
        "    else:\n",
        "      temp_sentence = sentence[:SEQUENCE_LEN]\n",
        "      if len(temp_sentence) < SEQUENCE_LEN:\n",
        "        temp_sentence += ' ' * (SEQUENCE_LEN - len(temp_sentence))\n",
        "    embedded_sentence = []\n",
        "    for word in temp_sentence:\n",
        "      try:\n",
        "        embedding = model_w2v.get_vector(word)\n",
        "      except:\n",
        "        embedding = np.zeros(300)\n",
        "      embedded_sentence.append(torch.unsqueeze(torch.tensor(embedding, dtype=torch.float), 0))\n",
        "    embedded_sentences.append(torch.unsqueeze(torch.cat(embedded_sentence, dim=0), 0))\n",
        "  return torch.cat(embedded_sentences, dim=0)"
      ],
      "metadata": {
        "id": "Y4WfisJwWsvn"
      },
      "execution_count": 10,
      "outputs": []
    },
    {
      "cell_type": "code",
      "source": [
        "# here is bidirectional LSTM\n",
        "class LSTM(nn.Module):\n",
        "  def __init__(self, input_size, hidden_size, num_layers, num_classes) -> None:\n",
        "      super(LSTM, self).__init__()\n",
        "      self.input_size = input_size\n",
        "      self.hidden_size = hidden_size\n",
        "      self.num_layers = num_layers\n",
        "      self.dropout = 0.3\n",
        "      self.LSTM = nn.LSTM(input_size, hidden_size, num_layers, batch_first=True, bidirectional=True, dropout = self.dropout)\n",
        "      self.fc_1 = nn.Linear(hidden_size * 2, 128)\n",
        "      self.fc_2 = nn.Linear(128, 128)\n",
        "      self.fc = nn.Linear(128, num_classes)\n",
        "      # x needs to be: (batch_size, seq, input_size)\n",
        "  \n",
        "  def forward(self, x):\n",
        "    #init hidden and cell states for lstm\n",
        "    #(num_layers, batch_size, hidden_size)\n",
        "    # multiply x2 because here is BIDIRECTIONAL LSTM\n",
        "    h0 = torch.zeros(self.num_layers * 2, x.size(0), self.hidden_size).to(device) \n",
        "    c0 = torch.zeros(self.num_layers * 2, x.size(0), self.hidden_size).to(device) \n",
        "\n",
        "    x = x.to(device)\n",
        "    out, _ = self.LSTM(x, (h0, c0)) \n",
        "    #out -> (batch_size, seq_length, hidden_size)\n",
        "    #Decode the hidden state of the last time step\n",
        "    out = out[:, -1, :]\n",
        "    out = self.fc_1(out)\n",
        "    out = self.fc_2(out)\n",
        "    out = self.fc(out)\n",
        "    # out: (n, num_classes)\n",
        "    return out\n",
        "\n",
        "  def backward(self, out, labels, criterion, optimizer):\n",
        "    optimizer.zero_grad()\n",
        "    labels = labels.to(device)\n",
        "    loss = criterion(out, labels)\n",
        "    loss.backward()\n",
        "    optimizer.step()\n",
        "    return loss"
      ],
      "metadata": {
        "id": "cmV2JH6X_PVC"
      },
      "execution_count": 11,
      "outputs": []
    },
    {
      "cell_type": "code",
      "source": [
        "def train_model(model, num_epochs, data_loader, criterion, optimizer):\n",
        "  total_loss = 0\n",
        "  loss_list = []\n",
        "  total_steps = num_epochs * len(data_loader)\n",
        "  for epoch in range(num_epochs):\n",
        "    for i, (x, labels) in enumerate(data_loader):\n",
        "      out = model.forward(x)\n",
        "      loss = model.backward(out, labels, criterion, optimizer)\n",
        "      total_loss += loss.item()\n",
        "      loss_list.append(loss.item())\n",
        "      if (i+1) % 10 == 0:\n",
        "            print (f'Epoch [{epoch+1}/{num_epochs}], Step [{epoch}/{total_steps}], Loss: {loss.item():.4f}')\n",
        "  return loss_list, total_loss"
      ],
      "metadata": {
        "id": "XHJTl6CrG7X_"
      },
      "execution_count": 12,
      "outputs": []
    },
    {
      "cell_type": "markdown",
      "source": [
        "### Prepare dataset\n",
        "I use dataset for sentiment analysis."
      ],
      "metadata": {
        "id": "LTaTn2L20FyL"
      }
    },
    {
      "cell_type": "code",
      "source": [
        "#prepare train dataset\n",
        "data_encoder = pd.read_csv('train_encoder.csv', index_col='id')\n",
        "data_encoder.dropna()"
      ],
      "metadata": {
        "colab": {
          "base_uri": "https://localhost:8080/",
          "height": 455
        },
        "id": "_spS7bjnOdKj",
        "outputId": "634442c4-8528-4a49-d324-8aea580c1670"
      },
      "execution_count": 13,
      "outputs": [
        {
          "output_type": "execute_result",
          "data": {
            "text/plain": [
              "                                            comment_text  toxicity\n",
              "id                                                                \n",
              "0                     fuck you you self righteous creep          3\n",
              "1       stop stop the goddam vandalism or there ll be...         2\n",
              "2      i agree rt does have a few shortcomings  but i...         0\n",
              "3      if you would like verfiability here is the lin...         0\n",
              "4      do you think there s consensus for me to be on...         0\n",
              "...                                                  ...       ...\n",
              "34642  huy i am kyle robbins i think albert pujols is...         4\n",
              "34643  unlike the ancient greeks  the idiot who  bloc...         4\n",
              "34644  no it isn t  so if you wish to delete my accou...         1\n",
              "34645    you haven t been paying attention  i don t c...         1\n",
              "34646   you are the racist piece of dirt buckley  and...         3\n",
              "\n",
              "[34646 rows x 2 columns]"
            ],
            "text/html": [
              "\n",
              "  <div id=\"df-e3fcb0a4-3d68-4f63-ba51-baa4beeb7e2c\">\n",
              "    <div class=\"colab-df-container\">\n",
              "      <div>\n",
              "<style scoped>\n",
              "    .dataframe tbody tr th:only-of-type {\n",
              "        vertical-align: middle;\n",
              "    }\n",
              "\n",
              "    .dataframe tbody tr th {\n",
              "        vertical-align: top;\n",
              "    }\n",
              "\n",
              "    .dataframe thead th {\n",
              "        text-align: right;\n",
              "    }\n",
              "</style>\n",
              "<table border=\"1\" class=\"dataframe\">\n",
              "  <thead>\n",
              "    <tr style=\"text-align: right;\">\n",
              "      <th></th>\n",
              "      <th>comment_text</th>\n",
              "      <th>toxicity</th>\n",
              "    </tr>\n",
              "    <tr>\n",
              "      <th>id</th>\n",
              "      <th></th>\n",
              "      <th></th>\n",
              "    </tr>\n",
              "  </thead>\n",
              "  <tbody>\n",
              "    <tr>\n",
              "      <th>0</th>\n",
              "      <td>fuck you you self righteous creep</td>\n",
              "      <td>3</td>\n",
              "    </tr>\n",
              "    <tr>\n",
              "      <th>1</th>\n",
              "      <td>stop stop the goddam vandalism or there ll be...</td>\n",
              "      <td>2</td>\n",
              "    </tr>\n",
              "    <tr>\n",
              "      <th>2</th>\n",
              "      <td>i agree rt does have a few shortcomings  but i...</td>\n",
              "      <td>0</td>\n",
              "    </tr>\n",
              "    <tr>\n",
              "      <th>3</th>\n",
              "      <td>if you would like verfiability here is the lin...</td>\n",
              "      <td>0</td>\n",
              "    </tr>\n",
              "    <tr>\n",
              "      <th>4</th>\n",
              "      <td>do you think there s consensus for me to be on...</td>\n",
              "      <td>0</td>\n",
              "    </tr>\n",
              "    <tr>\n",
              "      <th>...</th>\n",
              "      <td>...</td>\n",
              "      <td>...</td>\n",
              "    </tr>\n",
              "    <tr>\n",
              "      <th>34642</th>\n",
              "      <td>huy i am kyle robbins i think albert pujols is...</td>\n",
              "      <td>4</td>\n",
              "    </tr>\n",
              "    <tr>\n",
              "      <th>34643</th>\n",
              "      <td>unlike the ancient greeks  the idiot who  bloc...</td>\n",
              "      <td>4</td>\n",
              "    </tr>\n",
              "    <tr>\n",
              "      <th>34644</th>\n",
              "      <td>no it isn t  so if you wish to delete my accou...</td>\n",
              "      <td>1</td>\n",
              "    </tr>\n",
              "    <tr>\n",
              "      <th>34645</th>\n",
              "      <td>you haven t been paying attention  i don t c...</td>\n",
              "      <td>1</td>\n",
              "    </tr>\n",
              "    <tr>\n",
              "      <th>34646</th>\n",
              "      <td>you are the racist piece of dirt buckley  and...</td>\n",
              "      <td>3</td>\n",
              "    </tr>\n",
              "  </tbody>\n",
              "</table>\n",
              "<p>34646 rows × 2 columns</p>\n",
              "</div>\n",
              "      <button class=\"colab-df-convert\" onclick=\"convertToInteractive('df-e3fcb0a4-3d68-4f63-ba51-baa4beeb7e2c')\"\n",
              "              title=\"Convert this dataframe to an interactive table.\"\n",
              "              style=\"display:none;\">\n",
              "        \n",
              "  <svg xmlns=\"http://www.w3.org/2000/svg\" height=\"24px\"viewBox=\"0 0 24 24\"\n",
              "       width=\"24px\">\n",
              "    <path d=\"M0 0h24v24H0V0z\" fill=\"none\"/>\n",
              "    <path d=\"M18.56 5.44l.94 2.06.94-2.06 2.06-.94-2.06-.94-.94-2.06-.94 2.06-2.06.94zm-11 1L8.5 8.5l.94-2.06 2.06-.94-2.06-.94L8.5 2.5l-.94 2.06-2.06.94zm10 10l.94 2.06.94-2.06 2.06-.94-2.06-.94-.94-2.06-.94 2.06-2.06.94z\"/><path d=\"M17.41 7.96l-1.37-1.37c-.4-.4-.92-.59-1.43-.59-.52 0-1.04.2-1.43.59L10.3 9.45l-7.72 7.72c-.78.78-.78 2.05 0 2.83L4 21.41c.39.39.9.59 1.41.59.51 0 1.02-.2 1.41-.59l7.78-7.78 2.81-2.81c.8-.78.8-2.07 0-2.86zM5.41 20L4 18.59l7.72-7.72 1.47 1.35L5.41 20z\"/>\n",
              "  </svg>\n",
              "      </button>\n",
              "      \n",
              "  <style>\n",
              "    .colab-df-container {\n",
              "      display:flex;\n",
              "      flex-wrap:wrap;\n",
              "      gap: 12px;\n",
              "    }\n",
              "\n",
              "    .colab-df-convert {\n",
              "      background-color: #E8F0FE;\n",
              "      border: none;\n",
              "      border-radius: 50%;\n",
              "      cursor: pointer;\n",
              "      display: none;\n",
              "      fill: #1967D2;\n",
              "      height: 32px;\n",
              "      padding: 0 0 0 0;\n",
              "      width: 32px;\n",
              "    }\n",
              "\n",
              "    .colab-df-convert:hover {\n",
              "      background-color: #E2EBFA;\n",
              "      box-shadow: 0px 1px 2px rgba(60, 64, 67, 0.3), 0px 1px 3px 1px rgba(60, 64, 67, 0.15);\n",
              "      fill: #174EA6;\n",
              "    }\n",
              "\n",
              "    [theme=dark] .colab-df-convert {\n",
              "      background-color: #3B4455;\n",
              "      fill: #D2E3FC;\n",
              "    }\n",
              "\n",
              "    [theme=dark] .colab-df-convert:hover {\n",
              "      background-color: #434B5C;\n",
              "      box-shadow: 0px 1px 3px 1px rgba(0, 0, 0, 0.15);\n",
              "      filter: drop-shadow(0px 1px 2px rgba(0, 0, 0, 0.3));\n",
              "      fill: #FFFFFF;\n",
              "    }\n",
              "  </style>\n",
              "\n",
              "      <script>\n",
              "        const buttonEl =\n",
              "          document.querySelector('#df-e3fcb0a4-3d68-4f63-ba51-baa4beeb7e2c button.colab-df-convert');\n",
              "        buttonEl.style.display =\n",
              "          google.colab.kernel.accessAllowed ? 'block' : 'none';\n",
              "\n",
              "        async function convertToInteractive(key) {\n",
              "          const element = document.querySelector('#df-e3fcb0a4-3d68-4f63-ba51-baa4beeb7e2c');\n",
              "          const dataTable =\n",
              "            await google.colab.kernel.invokeFunction('convertToInteractive',\n",
              "                                                     [key], {});\n",
              "          if (!dataTable) return;\n",
              "\n",
              "          const docLinkHtml = 'Like what you see? Visit the ' +\n",
              "            '<a target=\"_blank\" href=https://colab.research.google.com/notebooks/data_table.ipynb>data table notebook</a>'\n",
              "            + ' to learn more about interactive tables.';\n",
              "          element.innerHTML = '';\n",
              "          dataTable['output_type'] = 'display_data';\n",
              "          await google.colab.output.renderOutput(dataTable, element);\n",
              "          const docLink = document.createElement('div');\n",
              "          docLink.innerHTML = docLinkHtml;\n",
              "          element.appendChild(docLink);\n",
              "        }\n",
              "      </script>\n",
              "    </div>\n",
              "  </div>\n",
              "  "
            ]
          },
          "metadata": {},
          "execution_count": 13
        }
      ]
    },
    {
      "cell_type": "code",
      "source": [
        "features = create_embeddings_gensim(data_encoder, 0, 25000)"
      ],
      "metadata": {
        "colab": {
          "base_uri": "https://localhost:8080/"
        },
        "id": "x5H4457AyfBt",
        "outputId": "0d5dbf8e-5f75-42b7-ffa5-382bc4746396"
      },
      "execution_count": null,
      "outputs": [
        {
          "output_type": "stream",
          "name": "stdout",
          "text": [
            "0\n",
            "2000\n",
            "4000\n",
            "6000\n",
            "8000\n",
            "10000\n",
            "12000\n",
            "14000\n",
            "16000\n",
            "18000\n",
            "20000\n",
            "22000\n",
            "24000\n"
          ]
        }
      ]
    },
    {
      "cell_type": "code",
      "source": [
        "features[0].shape"
      ],
      "metadata": {
        "colab": {
          "base_uri": "https://localhost:8080/"
        },
        "id": "JV2rEot5CErl",
        "outputId": "cc182611-46a7-482d-ae9e-51b0e94b6913"
      },
      "execution_count": null,
      "outputs": [
        {
          "output_type": "execute_result",
          "data": {
            "text/plain": [
              "torch.Size([25, 300])"
            ]
          },
          "metadata": {},
          "execution_count": 60
        }
      ]
    },
    {
      "cell_type": "code",
      "source": [
        "# prepare dataloader\n",
        "labels = torch.tensor(list(data_encoder['toxicity']), dtype=torch.long)\n",
        "train_tensor_dataset = TensorDataset(features, labels[:25000])\n",
        "train_dataloader = torch.utils.data.DataLoader(dataset=train_tensor_dataset, \n",
        "                                           batch_size=BATCH_SIZE, \n",
        "                                           shuffle=True)"
      ],
      "metadata": {
        "id": "HaeiI46wPE1h"
      },
      "execution_count": null,
      "outputs": []
    },
    {
      "cell_type": "code",
      "source": [
        "#train \n",
        "model = LSTM(INPUT_SIZE, HIDDEN_SIZE, NUM_LAYERS, NUM_CLASSES).to(device)\n",
        "criterion = nn.CrossEntropyLoss()\n",
        "optimizer = torch.optim.Adam(model.parameters(), lr=LEARNING_RATE)  "
      ],
      "metadata": {
        "id": "pfwTYoZvUDUr"
      },
      "execution_count": null,
      "outputs": []
    },
    {
      "cell_type": "markdown",
      "source": [
        "### Train encoder model"
      ],
      "metadata": {
        "id": "5zY6_TeRyuby"
      }
    },
    {
      "cell_type": "code",
      "source": [
        "loss_list, _ = train_model(model, NUM_EPOCH, train_dataloader, criterion, optimizer)"
      ],
      "metadata": {
        "colab": {
          "base_uri": "https://localhost:8080/"
        },
        "id": "J9zjW6JYUDWx",
        "outputId": "189ba978-02e6-4b39-a5ed-900d9837b882"
      },
      "execution_count": null,
      "outputs": [
        {
          "output_type": "stream",
          "name": "stdout",
          "text": [
            "Epoch [1/80], Step [0/7840], Loss: 1.4750\n",
            "Epoch [1/80], Step [0/7840], Loss: 1.4892\n",
            "Epoch [1/80], Step [0/7840], Loss: 1.4505\n",
            "Epoch [1/80], Step [0/7840], Loss: 1.4005\n",
            "Epoch [1/80], Step [0/7840], Loss: 1.4131\n",
            "Epoch [1/80], Step [0/7840], Loss: 1.3178\n",
            "Epoch [1/80], Step [0/7840], Loss: 1.3785\n",
            "Epoch [1/80], Step [0/7840], Loss: 1.3571\n",
            "Epoch [1/80], Step [0/7840], Loss: 1.3542\n",
            "Epoch [2/80], Step [1/7840], Loss: 1.2900\n",
            "Epoch [2/80], Step [1/7840], Loss: 1.3703\n",
            "Epoch [2/80], Step [1/7840], Loss: 1.2739\n",
            "Epoch [2/80], Step [1/7840], Loss: 1.2951\n",
            "Epoch [2/80], Step [1/7840], Loss: 1.3515\n",
            "Epoch [2/80], Step [1/7840], Loss: 1.3207\n",
            "Epoch [2/80], Step [1/7840], Loss: 1.3887\n",
            "Epoch [2/80], Step [1/7840], Loss: 1.2386\n",
            "Epoch [2/80], Step [1/7840], Loss: 1.2702\n",
            "Epoch [3/80], Step [2/7840], Loss: 1.2757\n",
            "Epoch [3/80], Step [2/7840], Loss: 1.3516\n",
            "Epoch [3/80], Step [2/7840], Loss: 1.2166\n",
            "Epoch [3/80], Step [2/7840], Loss: 1.2058\n",
            "Epoch [3/80], Step [2/7840], Loss: 1.2979\n",
            "Epoch [3/80], Step [2/7840], Loss: 1.2546\n",
            "Epoch [3/80], Step [2/7840], Loss: 1.2972\n",
            "Epoch [3/80], Step [2/7840], Loss: 1.2950\n",
            "Epoch [3/80], Step [2/7840], Loss: 1.2710\n",
            "Epoch [4/80], Step [3/7840], Loss: 1.3391\n",
            "Epoch [4/80], Step [3/7840], Loss: 1.3568\n",
            "Epoch [4/80], Step [3/7840], Loss: 1.2913\n",
            "Epoch [4/80], Step [3/7840], Loss: 1.2719\n",
            "Epoch [4/80], Step [3/7840], Loss: 1.2089\n",
            "Epoch [4/80], Step [3/7840], Loss: 1.2399\n",
            "Epoch [4/80], Step [3/7840], Loss: 1.2855\n",
            "Epoch [4/80], Step [3/7840], Loss: 1.2441\n",
            "Epoch [4/80], Step [3/7840], Loss: 1.2635\n",
            "Epoch [5/80], Step [4/7840], Loss: 1.1957\n",
            "Epoch [5/80], Step [4/7840], Loss: 1.2963\n",
            "Epoch [5/80], Step [4/7840], Loss: 1.2366\n",
            "Epoch [5/80], Step [4/7840], Loss: 1.2493\n",
            "Epoch [5/80], Step [4/7840], Loss: 1.2717\n",
            "Epoch [5/80], Step [4/7840], Loss: 1.2959\n",
            "Epoch [5/80], Step [4/7840], Loss: 1.2648\n",
            "Epoch [5/80], Step [4/7840], Loss: 1.2848\n",
            "Epoch [5/80], Step [4/7840], Loss: 1.2647\n",
            "Epoch [6/80], Step [5/7840], Loss: 1.2697\n",
            "Epoch [6/80], Step [5/7840], Loss: 1.2313\n",
            "Epoch [6/80], Step [5/7840], Loss: 1.2260\n",
            "Epoch [6/80], Step [5/7840], Loss: 1.2540\n",
            "Epoch [6/80], Step [5/7840], Loss: 1.2055\n",
            "Epoch [6/80], Step [5/7840], Loss: 1.2283\n",
            "Epoch [6/80], Step [5/7840], Loss: 1.3469\n",
            "Epoch [6/80], Step [5/7840], Loss: 1.2140\n",
            "Epoch [6/80], Step [5/7840], Loss: 1.1874\n",
            "Epoch [7/80], Step [6/7840], Loss: 1.1583\n",
            "Epoch [7/80], Step [6/7840], Loss: 1.2292\n",
            "Epoch [7/80], Step [6/7840], Loss: 1.2239\n",
            "Epoch [7/80], Step [6/7840], Loss: 1.2126\n",
            "Epoch [7/80], Step [6/7840], Loss: 1.2224\n",
            "Epoch [7/80], Step [6/7840], Loss: 1.1762\n",
            "Epoch [7/80], Step [6/7840], Loss: 1.2432\n",
            "Epoch [7/80], Step [6/7840], Loss: 1.1700\n",
            "Epoch [7/80], Step [6/7840], Loss: 1.2130\n",
            "Epoch [8/80], Step [7/7840], Loss: 1.3255\n",
            "Epoch [8/80], Step [7/7840], Loss: 1.1730\n",
            "Epoch [8/80], Step [7/7840], Loss: 1.1251\n",
            "Epoch [8/80], Step [7/7840], Loss: 1.1547\n",
            "Epoch [8/80], Step [7/7840], Loss: 1.2822\n",
            "Epoch [8/80], Step [7/7840], Loss: 1.1221\n",
            "Epoch [8/80], Step [7/7840], Loss: 1.2295\n",
            "Epoch [8/80], Step [7/7840], Loss: 1.0972\n",
            "Epoch [8/80], Step [7/7840], Loss: 1.1759\n",
            "Epoch [9/80], Step [8/7840], Loss: 1.1192\n",
            "Epoch [9/80], Step [8/7840], Loss: 1.1793\n",
            "Epoch [9/80], Step [8/7840], Loss: 1.2253\n",
            "Epoch [9/80], Step [8/7840], Loss: 1.0898\n",
            "Epoch [9/80], Step [8/7840], Loss: 1.0707\n",
            "Epoch [9/80], Step [8/7840], Loss: 1.2038\n",
            "Epoch [9/80], Step [8/7840], Loss: 1.2470\n",
            "Epoch [9/80], Step [8/7840], Loss: 1.1908\n",
            "Epoch [9/80], Step [8/7840], Loss: 1.2996\n",
            "Epoch [10/80], Step [9/7840], Loss: 1.1594\n",
            "Epoch [10/80], Step [9/7840], Loss: 1.2383\n",
            "Epoch [10/80], Step [9/7840], Loss: 1.2045\n",
            "Epoch [10/80], Step [9/7840], Loss: 1.1520\n",
            "Epoch [10/80], Step [9/7840], Loss: 1.1296\n",
            "Epoch [10/80], Step [9/7840], Loss: 1.2253\n",
            "Epoch [10/80], Step [9/7840], Loss: 1.1235\n",
            "Epoch [10/80], Step [9/7840], Loss: 1.2668\n",
            "Epoch [10/80], Step [9/7840], Loss: 1.1492\n",
            "Epoch [11/80], Step [10/7840], Loss: 1.1340\n",
            "Epoch [11/80], Step [10/7840], Loss: 1.2333\n",
            "Epoch [11/80], Step [10/7840], Loss: 1.1650\n",
            "Epoch [11/80], Step [10/7840], Loss: 1.1498\n",
            "Epoch [11/80], Step [10/7840], Loss: 1.1982\n",
            "Epoch [11/80], Step [10/7840], Loss: 1.1786\n",
            "Epoch [11/80], Step [10/7840], Loss: 1.1765\n",
            "Epoch [11/80], Step [10/7840], Loss: 1.1293\n",
            "Epoch [11/80], Step [10/7840], Loss: 1.1599\n",
            "Epoch [12/80], Step [11/7840], Loss: 1.0357\n",
            "Epoch [12/80], Step [11/7840], Loss: 1.1383\n",
            "Epoch [12/80], Step [11/7840], Loss: 1.1791\n",
            "Epoch [12/80], Step [11/7840], Loss: 1.1230\n",
            "Epoch [12/80], Step [11/7840], Loss: 1.1195\n",
            "Epoch [12/80], Step [11/7840], Loss: 1.0836\n",
            "Epoch [12/80], Step [11/7840], Loss: 1.1745\n",
            "Epoch [12/80], Step [11/7840], Loss: 1.0522\n",
            "Epoch [12/80], Step [11/7840], Loss: 1.1900\n",
            "Epoch [13/80], Step [12/7840], Loss: 1.0081\n",
            "Epoch [13/80], Step [12/7840], Loss: 1.1034\n",
            "Epoch [13/80], Step [12/7840], Loss: 1.1927\n",
            "Epoch [13/80], Step [12/7840], Loss: 1.0133\n",
            "Epoch [13/80], Step [12/7840], Loss: 1.1024\n",
            "Epoch [13/80], Step [12/7840], Loss: 1.0866\n",
            "Epoch [13/80], Step [12/7840], Loss: 1.1619\n",
            "Epoch [13/80], Step [12/7840], Loss: 1.1285\n",
            "Epoch [13/80], Step [12/7840], Loss: 1.2409\n",
            "Epoch [14/80], Step [13/7840], Loss: 0.9926\n",
            "Epoch [14/80], Step [13/7840], Loss: 1.0614\n",
            "Epoch [14/80], Step [13/7840], Loss: 1.1126\n",
            "Epoch [14/80], Step [13/7840], Loss: 1.1222\n",
            "Epoch [14/80], Step [13/7840], Loss: 1.1220\n",
            "Epoch [14/80], Step [13/7840], Loss: 1.0916\n",
            "Epoch [14/80], Step [13/7840], Loss: 1.0599\n",
            "Epoch [14/80], Step [13/7840], Loss: 1.1013\n",
            "Epoch [14/80], Step [13/7840], Loss: 1.0650\n",
            "Epoch [15/80], Step [14/7840], Loss: 0.9845\n",
            "Epoch [15/80], Step [14/7840], Loss: 1.0615\n",
            "Epoch [15/80], Step [14/7840], Loss: 1.0909\n",
            "Epoch [15/80], Step [14/7840], Loss: 1.1301\n",
            "Epoch [15/80], Step [14/7840], Loss: 1.0989\n",
            "Epoch [15/80], Step [14/7840], Loss: 1.0836\n",
            "Epoch [15/80], Step [14/7840], Loss: 1.0211\n",
            "Epoch [15/80], Step [14/7840], Loss: 1.1157\n",
            "Epoch [15/80], Step [14/7840], Loss: 1.1444\n",
            "Epoch [16/80], Step [15/7840], Loss: 1.0743\n",
            "Epoch [16/80], Step [15/7840], Loss: 1.0766\n",
            "Epoch [16/80], Step [15/7840], Loss: 1.1053\n",
            "Epoch [16/80], Step [15/7840], Loss: 1.0504\n",
            "Epoch [16/80], Step [15/7840], Loss: 1.0139\n",
            "Epoch [16/80], Step [15/7840], Loss: 1.1388\n",
            "Epoch [16/80], Step [15/7840], Loss: 1.0748\n",
            "Epoch [16/80], Step [15/7840], Loss: 1.1017\n",
            "Epoch [16/80], Step [15/7840], Loss: 1.1555\n",
            "Epoch [17/80], Step [16/7840], Loss: 1.1133\n",
            "Epoch [17/80], Step [16/7840], Loss: 1.1544\n",
            "Epoch [17/80], Step [16/7840], Loss: 1.0275\n",
            "Epoch [17/80], Step [16/7840], Loss: 1.0387\n",
            "Epoch [17/80], Step [16/7840], Loss: 1.0422\n",
            "Epoch [17/80], Step [16/7840], Loss: 1.1134\n",
            "Epoch [17/80], Step [16/7840], Loss: 1.0634\n",
            "Epoch [17/80], Step [16/7840], Loss: 1.0885\n",
            "Epoch [17/80], Step [16/7840], Loss: 1.0576\n",
            "Epoch [18/80], Step [17/7840], Loss: 0.9849\n",
            "Epoch [18/80], Step [17/7840], Loss: 0.9249\n",
            "Epoch [18/80], Step [17/7840], Loss: 0.9572\n",
            "Epoch [18/80], Step [17/7840], Loss: 0.9993\n",
            "Epoch [18/80], Step [17/7840], Loss: 1.0550\n",
            "Epoch [18/80], Step [17/7840], Loss: 1.0232\n",
            "Epoch [18/80], Step [17/7840], Loss: 0.9792\n",
            "Epoch [18/80], Step [17/7840], Loss: 1.0507\n",
            "Epoch [18/80], Step [17/7840], Loss: 1.1073\n",
            "Epoch [19/80], Step [18/7840], Loss: 1.0564\n",
            "Epoch [19/80], Step [18/7840], Loss: 0.9767\n",
            "Epoch [19/80], Step [18/7840], Loss: 1.0798\n",
            "Epoch [19/80], Step [18/7840], Loss: 0.9856\n",
            "Epoch [19/80], Step [18/7840], Loss: 0.9966\n",
            "Epoch [19/80], Step [18/7840], Loss: 0.9718\n",
            "Epoch [19/80], Step [18/7840], Loss: 0.9848\n",
            "Epoch [19/80], Step [18/7840], Loss: 1.0230\n",
            "Epoch [19/80], Step [18/7840], Loss: 1.0635\n",
            "Epoch [20/80], Step [19/7840], Loss: 0.9460\n",
            "Epoch [20/80], Step [19/7840], Loss: 1.0344\n",
            "Epoch [20/80], Step [19/7840], Loss: 0.9338\n",
            "Epoch [20/80], Step [19/7840], Loss: 1.0541\n",
            "Epoch [20/80], Step [19/7840], Loss: 1.0118\n",
            "Epoch [20/80], Step [19/7840], Loss: 0.8859\n",
            "Epoch [20/80], Step [19/7840], Loss: 1.0266\n",
            "Epoch [20/80], Step [19/7840], Loss: 1.0005\n",
            "Epoch [20/80], Step [19/7840], Loss: 0.9390\n",
            "Epoch [21/80], Step [20/7840], Loss: 0.8394\n",
            "Epoch [21/80], Step [20/7840], Loss: 1.0463\n",
            "Epoch [21/80], Step [20/7840], Loss: 0.9728\n",
            "Epoch [21/80], Step [20/7840], Loss: 0.9786\n",
            "Epoch [21/80], Step [20/7840], Loss: 1.0330\n",
            "Epoch [21/80], Step [20/7840], Loss: 1.0222\n",
            "Epoch [21/80], Step [20/7840], Loss: 1.0138\n",
            "Epoch [21/80], Step [20/7840], Loss: 1.0080\n",
            "Epoch [21/80], Step [20/7840], Loss: 1.0025\n",
            "Epoch [22/80], Step [21/7840], Loss: 0.8423\n",
            "Epoch [22/80], Step [21/7840], Loss: 0.9253\n",
            "Epoch [22/80], Step [21/7840], Loss: 1.0477\n",
            "Epoch [22/80], Step [21/7840], Loss: 0.9082\n",
            "Epoch [22/80], Step [21/7840], Loss: 0.9787\n",
            "Epoch [22/80], Step [21/7840], Loss: 1.0398\n",
            "Epoch [22/80], Step [21/7840], Loss: 0.9611\n",
            "Epoch [22/80], Step [21/7840], Loss: 0.9378\n",
            "Epoch [22/80], Step [21/7840], Loss: 0.9677\n",
            "Epoch [23/80], Step [22/7840], Loss: 0.8126\n",
            "Epoch [23/80], Step [22/7840], Loss: 0.9335\n",
            "Epoch [23/80], Step [22/7840], Loss: 0.9132\n",
            "Epoch [23/80], Step [22/7840], Loss: 0.9867\n",
            "Epoch [23/80], Step [22/7840], Loss: 0.8502\n",
            "Epoch [23/80], Step [22/7840], Loss: 0.9889\n",
            "Epoch [23/80], Step [22/7840], Loss: 0.9487\n",
            "Epoch [23/80], Step [22/7840], Loss: 1.0046\n",
            "Epoch [23/80], Step [22/7840], Loss: 0.9544\n",
            "Epoch [24/80], Step [23/7840], Loss: 0.9539\n",
            "Epoch [24/80], Step [23/7840], Loss: 0.8680\n",
            "Epoch [24/80], Step [23/7840], Loss: 0.9791\n",
            "Epoch [24/80], Step [23/7840], Loss: 0.9523\n",
            "Epoch [24/80], Step [23/7840], Loss: 0.8160\n",
            "Epoch [24/80], Step [23/7840], Loss: 1.0077\n",
            "Epoch [24/80], Step [23/7840], Loss: 0.8596\n",
            "Epoch [24/80], Step [23/7840], Loss: 0.8934\n",
            "Epoch [24/80], Step [23/7840], Loss: 0.9419\n",
            "Epoch [25/80], Step [24/7840], Loss: 0.7169\n",
            "Epoch [25/80], Step [24/7840], Loss: 0.8495\n",
            "Epoch [25/80], Step [24/7840], Loss: 0.9020\n",
            "Epoch [25/80], Step [24/7840], Loss: 0.8540\n",
            "Epoch [25/80], Step [24/7840], Loss: 0.8348\n",
            "Epoch [25/80], Step [24/7840], Loss: 1.0045\n",
            "Epoch [25/80], Step [24/7840], Loss: 0.8778\n",
            "Epoch [25/80], Step [24/7840], Loss: 0.8511\n",
            "Epoch [25/80], Step [24/7840], Loss: 0.8059\n",
            "Epoch [26/80], Step [25/7840], Loss: 0.9165\n",
            "Epoch [26/80], Step [25/7840], Loss: 0.7706\n",
            "Epoch [26/80], Step [25/7840], Loss: 0.8733\n",
            "Epoch [26/80], Step [25/7840], Loss: 0.8476\n",
            "Epoch [26/80], Step [25/7840], Loss: 0.7902\n",
            "Epoch [26/80], Step [25/7840], Loss: 0.8549\n",
            "Epoch [26/80], Step [25/7840], Loss: 0.8424\n",
            "Epoch [26/80], Step [25/7840], Loss: 0.8813\n",
            "Epoch [26/80], Step [25/7840], Loss: 0.8828\n",
            "Epoch [27/80], Step [26/7840], Loss: 0.7035\n",
            "Epoch [27/80], Step [26/7840], Loss: 0.8047\n",
            "Epoch [27/80], Step [26/7840], Loss: 0.7952\n",
            "Epoch [27/80], Step [26/7840], Loss: 0.8388\n",
            "Epoch [27/80], Step [26/7840], Loss: 0.7211\n",
            "Epoch [27/80], Step [26/7840], Loss: 0.8470\n",
            "Epoch [27/80], Step [26/7840], Loss: 0.7249\n",
            "Epoch [27/80], Step [26/7840], Loss: 0.7542\n",
            "Epoch [27/80], Step [26/7840], Loss: 0.8256\n",
            "Epoch [28/80], Step [27/7840], Loss: 0.6720\n",
            "Epoch [28/80], Step [27/7840], Loss: 0.7865\n",
            "Epoch [28/80], Step [27/7840], Loss: 0.8219\n",
            "Epoch [28/80], Step [27/7840], Loss: 0.7892\n",
            "Epoch [28/80], Step [27/7840], Loss: 0.6930\n",
            "Epoch [28/80], Step [27/7840], Loss: 0.7412\n",
            "Epoch [28/80], Step [27/7840], Loss: 0.7465\n",
            "Epoch [28/80], Step [27/7840], Loss: 0.8163\n",
            "Epoch [28/80], Step [27/7840], Loss: 0.8650\n",
            "Epoch [29/80], Step [28/7840], Loss: 0.7412\n",
            "Epoch [29/80], Step [28/7840], Loss: 0.8430\n",
            "Epoch [29/80], Step [28/7840], Loss: 0.7101\n",
            "Epoch [29/80], Step [28/7840], Loss: 0.5590\n",
            "Epoch [29/80], Step [28/7840], Loss: 0.6997\n",
            "Epoch [29/80], Step [28/7840], Loss: 0.7454\n",
            "Epoch [29/80], Step [28/7840], Loss: 0.7759\n",
            "Epoch [29/80], Step [28/7840], Loss: 0.7562\n",
            "Epoch [29/80], Step [28/7840], Loss: 0.6874\n",
            "Epoch [30/80], Step [29/7840], Loss: 0.6174\n",
            "Epoch [30/80], Step [29/7840], Loss: 0.5887\n",
            "Epoch [30/80], Step [29/7840], Loss: 0.7783\n",
            "Epoch [30/80], Step [29/7840], Loss: 0.5038\n",
            "Epoch [30/80], Step [29/7840], Loss: 0.5646\n",
            "Epoch [30/80], Step [29/7840], Loss: 0.5884\n",
            "Epoch [30/80], Step [29/7840], Loss: 0.8369\n",
            "Epoch [30/80], Step [29/7840], Loss: 0.6945\n",
            "Epoch [30/80], Step [29/7840], Loss: 0.6419\n",
            "Epoch [31/80], Step [30/7840], Loss: 0.4766\n",
            "Epoch [31/80], Step [30/7840], Loss: 0.5510\n",
            "Epoch [31/80], Step [30/7840], Loss: 0.5479\n",
            "Epoch [31/80], Step [30/7840], Loss: 0.5615\n",
            "Epoch [31/80], Step [30/7840], Loss: 0.6712\n",
            "Epoch [31/80], Step [30/7840], Loss: 0.7374\n",
            "Epoch [31/80], Step [30/7840], Loss: 0.6725\n",
            "Epoch [31/80], Step [30/7840], Loss: 0.5601\n",
            "Epoch [31/80], Step [30/7840], Loss: 0.7411\n",
            "Epoch [32/80], Step [31/7840], Loss: 0.5475\n",
            "Epoch [32/80], Step [31/7840], Loss: 0.6434\n",
            "Epoch [32/80], Step [31/7840], Loss: 0.6067\n",
            "Epoch [32/80], Step [31/7840], Loss: 0.6577\n",
            "Epoch [32/80], Step [31/7840], Loss: 0.6461\n",
            "Epoch [32/80], Step [31/7840], Loss: 0.5337\n",
            "Epoch [32/80], Step [31/7840], Loss: 0.6360\n",
            "Epoch [32/80], Step [31/7840], Loss: 0.6096\n",
            "Epoch [32/80], Step [31/7840], Loss: 0.6809\n",
            "Epoch [33/80], Step [32/7840], Loss: 0.4215\n",
            "Epoch [33/80], Step [32/7840], Loss: 0.5158\n",
            "Epoch [33/80], Step [32/7840], Loss: 0.5765\n",
            "Epoch [33/80], Step [32/7840], Loss: 0.5816\n",
            "Epoch [33/80], Step [32/7840], Loss: 0.5017\n",
            "Epoch [33/80], Step [32/7840], Loss: 0.6135\n",
            "Epoch [33/80], Step [32/7840], Loss: 0.5846\n",
            "Epoch [33/80], Step [32/7840], Loss: 0.5591\n",
            "Epoch [33/80], Step [32/7840], Loss: 0.5247\n",
            "Epoch [34/80], Step [33/7840], Loss: 0.5060\n",
            "Epoch [34/80], Step [33/7840], Loss: 0.4635\n",
            "Epoch [34/80], Step [33/7840], Loss: 0.4716\n",
            "Epoch [34/80], Step [33/7840], Loss: 0.4510\n",
            "Epoch [34/80], Step [33/7840], Loss: 0.4348\n",
            "Epoch [34/80], Step [33/7840], Loss: 0.5097\n",
            "Epoch [34/80], Step [33/7840], Loss: 0.5528\n",
            "Epoch [34/80], Step [33/7840], Loss: 0.6308\n",
            "Epoch [34/80], Step [33/7840], Loss: 0.4936\n",
            "Epoch [35/80], Step [34/7840], Loss: 0.4357\n",
            "Epoch [35/80], Step [34/7840], Loss: 0.5013\n",
            "Epoch [35/80], Step [34/7840], Loss: 0.4070\n",
            "Epoch [35/80], Step [34/7840], Loss: 0.5572\n",
            "Epoch [35/80], Step [34/7840], Loss: 0.5733\n",
            "Epoch [35/80], Step [34/7840], Loss: 0.5340\n",
            "Epoch [35/80], Step [34/7840], Loss: 0.4702\n",
            "Epoch [35/80], Step [34/7840], Loss: 0.5196\n",
            "Epoch [35/80], Step [34/7840], Loss: 0.4207\n",
            "Epoch [36/80], Step [35/7840], Loss: 0.4041\n",
            "Epoch [36/80], Step [35/7840], Loss: 0.4415\n",
            "Epoch [36/80], Step [35/7840], Loss: 0.4012\n",
            "Epoch [36/80], Step [35/7840], Loss: 0.3445\n",
            "Epoch [36/80], Step [35/7840], Loss: 0.4057\n",
            "Epoch [36/80], Step [35/7840], Loss: 0.3792\n",
            "Epoch [36/80], Step [35/7840], Loss: 0.4111\n",
            "Epoch [36/80], Step [35/7840], Loss: 0.4497\n",
            "Epoch [36/80], Step [35/7840], Loss: 0.4339\n",
            "Epoch [37/80], Step [36/7840], Loss: 0.4519\n",
            "Epoch [37/80], Step [36/7840], Loss: 0.3966\n",
            "Epoch [37/80], Step [36/7840], Loss: 0.4045\n",
            "Epoch [37/80], Step [36/7840], Loss: 0.4230\n",
            "Epoch [37/80], Step [36/7840], Loss: 0.4475\n",
            "Epoch [37/80], Step [36/7840], Loss: 0.5563\n",
            "Epoch [37/80], Step [36/7840], Loss: 0.4502\n",
            "Epoch [37/80], Step [36/7840], Loss: 0.4956\n",
            "Epoch [37/80], Step [36/7840], Loss: 0.4342\n",
            "Epoch [38/80], Step [37/7840], Loss: 0.3887\n",
            "Epoch [38/80], Step [37/7840], Loss: 0.5169\n",
            "Epoch [38/80], Step [37/7840], Loss: 0.4082\n",
            "Epoch [38/80], Step [37/7840], Loss: 0.3583\n",
            "Epoch [38/80], Step [37/7840], Loss: 0.5039\n",
            "Epoch [38/80], Step [37/7840], Loss: 0.4389\n",
            "Epoch [38/80], Step [37/7840], Loss: 0.4691\n",
            "Epoch [38/80], Step [37/7840], Loss: 0.3977\n",
            "Epoch [38/80], Step [37/7840], Loss: 0.3733\n",
            "Epoch [39/80], Step [38/7840], Loss: 0.3560\n",
            "Epoch [39/80], Step [38/7840], Loss: 0.3229\n",
            "Epoch [39/80], Step [38/7840], Loss: 0.3239\n",
            "Epoch [39/80], Step [38/7840], Loss: 0.2980\n",
            "Epoch [39/80], Step [38/7840], Loss: 0.2935\n",
            "Epoch [39/80], Step [38/7840], Loss: 0.3365\n",
            "Epoch [39/80], Step [38/7840], Loss: 0.3784\n",
            "Epoch [39/80], Step [38/7840], Loss: 0.4487\n",
            "Epoch [39/80], Step [38/7840], Loss: 0.3202\n",
            "Epoch [40/80], Step [39/7840], Loss: 0.2899\n",
            "Epoch [40/80], Step [39/7840], Loss: 0.2909\n",
            "Epoch [40/80], Step [39/7840], Loss: 0.2810\n",
            "Epoch [40/80], Step [39/7840], Loss: 0.3209\n",
            "Epoch [40/80], Step [39/7840], Loss: 0.3746\n",
            "Epoch [40/80], Step [39/7840], Loss: 0.4276\n",
            "Epoch [40/80], Step [39/7840], Loss: 0.3028\n",
            "Epoch [40/80], Step [39/7840], Loss: 0.2617\n",
            "Epoch [40/80], Step [39/7840], Loss: 0.3494\n",
            "Epoch [41/80], Step [40/7840], Loss: 0.3010\n",
            "Epoch [41/80], Step [40/7840], Loss: 0.2653\n",
            "Epoch [41/80], Step [40/7840], Loss: 0.2846\n",
            "Epoch [41/80], Step [40/7840], Loss: 0.3579\n",
            "Epoch [41/80], Step [40/7840], Loss: 0.4346\n",
            "Epoch [41/80], Step [40/7840], Loss: 0.3740\n",
            "Epoch [41/80], Step [40/7840], Loss: 0.4062\n",
            "Epoch [41/80], Step [40/7840], Loss: 0.2856\n",
            "Epoch [41/80], Step [40/7840], Loss: 0.2516\n",
            "Epoch [42/80], Step [41/7840], Loss: 0.3283\n",
            "Epoch [42/80], Step [41/7840], Loss: 0.2235\n",
            "Epoch [42/80], Step [41/7840], Loss: 0.3515\n",
            "Epoch [42/80], Step [41/7840], Loss: 0.2710\n",
            "Epoch [42/80], Step [41/7840], Loss: 0.3663\n",
            "Epoch [42/80], Step [41/7840], Loss: 0.4122\n",
            "Epoch [42/80], Step [41/7840], Loss: 0.3627\n",
            "Epoch [42/80], Step [41/7840], Loss: 0.2889\n",
            "Epoch [42/80], Step [41/7840], Loss: 0.3647\n",
            "Epoch [43/80], Step [42/7840], Loss: 0.1834\n",
            "Epoch [43/80], Step [42/7840], Loss: 0.2154\n",
            "Epoch [43/80], Step [42/7840], Loss: 0.2594\n",
            "Epoch [43/80], Step [42/7840], Loss: 0.2921\n",
            "Epoch [43/80], Step [42/7840], Loss: 0.3371\n",
            "Epoch [43/80], Step [42/7840], Loss: 0.2309\n",
            "Epoch [43/80], Step [42/7840], Loss: 0.2673\n",
            "Epoch [43/80], Step [42/7840], Loss: 0.2750\n",
            "Epoch [43/80], Step [42/7840], Loss: 0.2837\n",
            "Epoch [44/80], Step [43/7840], Loss: 0.2538\n",
            "Epoch [44/80], Step [43/7840], Loss: 0.1592\n",
            "Epoch [44/80], Step [43/7840], Loss: 0.2792\n",
            "Epoch [44/80], Step [43/7840], Loss: 0.2806\n",
            "Epoch [44/80], Step [43/7840], Loss: 0.2484\n",
            "Epoch [44/80], Step [43/7840], Loss: 0.2415\n",
            "Epoch [44/80], Step [43/7840], Loss: 0.2584\n",
            "Epoch [44/80], Step [43/7840], Loss: 0.2414\n",
            "Epoch [44/80], Step [43/7840], Loss: 0.2943\n",
            "Epoch [45/80], Step [44/7840], Loss: 0.2213\n",
            "Epoch [45/80], Step [44/7840], Loss: 0.2325\n",
            "Epoch [45/80], Step [44/7840], Loss: 0.1644\n",
            "Epoch [45/80], Step [44/7840], Loss: 0.2167\n",
            "Epoch [45/80], Step [44/7840], Loss: 0.2333\n",
            "Epoch [45/80], Step [44/7840], Loss: 0.2813\n",
            "Epoch [45/80], Step [44/7840], Loss: 0.2365\n",
            "Epoch [45/80], Step [44/7840], Loss: 0.1994\n",
            "Epoch [45/80], Step [44/7840], Loss: 0.2226\n",
            "Epoch [46/80], Step [45/7840], Loss: 0.1872\n",
            "Epoch [46/80], Step [45/7840], Loss: 0.2448\n",
            "Epoch [46/80], Step [45/7840], Loss: 0.2696\n",
            "Epoch [46/80], Step [45/7840], Loss: 0.1987\n",
            "Epoch [46/80], Step [45/7840], Loss: 0.2239\n",
            "Epoch [46/80], Step [45/7840], Loss: 0.2754\n",
            "Epoch [46/80], Step [45/7840], Loss: 0.2080\n",
            "Epoch [46/80], Step [45/7840], Loss: 0.2465\n",
            "Epoch [46/80], Step [45/7840], Loss: 0.2574\n",
            "Epoch [47/80], Step [46/7840], Loss: 0.1320\n",
            "Epoch [47/80], Step [46/7840], Loss: 0.2082\n",
            "Epoch [47/80], Step [46/7840], Loss: 0.1776\n",
            "Epoch [47/80], Step [46/7840], Loss: 0.2408\n",
            "Epoch [47/80], Step [46/7840], Loss: 0.2184\n",
            "Epoch [47/80], Step [46/7840], Loss: 0.2869\n",
            "Epoch [47/80], Step [46/7840], Loss: 0.2920\n",
            "Epoch [47/80], Step [46/7840], Loss: 0.2805\n",
            "Epoch [47/80], Step [46/7840], Loss: 0.2420\n",
            "Epoch [48/80], Step [47/7840], Loss: 0.2264\n",
            "Epoch [48/80], Step [47/7840], Loss: 0.2039\n",
            "Epoch [48/80], Step [47/7840], Loss: 0.1778\n",
            "Epoch [48/80], Step [47/7840], Loss: 0.2410\n",
            "Epoch [48/80], Step [47/7840], Loss: 0.1797\n",
            "Epoch [48/80], Step [47/7840], Loss: 0.1930\n",
            "Epoch [48/80], Step [47/7840], Loss: 0.2162\n",
            "Epoch [48/80], Step [47/7840], Loss: 0.2334\n",
            "Epoch [48/80], Step [47/7840], Loss: 0.1961\n",
            "Epoch [49/80], Step [48/7840], Loss: 0.1549\n",
            "Epoch [49/80], Step [48/7840], Loss: 0.1874\n",
            "Epoch [49/80], Step [48/7840], Loss: 0.1622\n",
            "Epoch [49/80], Step [48/7840], Loss: 0.1524\n",
            "Epoch [49/80], Step [48/7840], Loss: 0.2479\n",
            "Epoch [49/80], Step [48/7840], Loss: 0.2905\n",
            "Epoch [49/80], Step [48/7840], Loss: 0.1673\n",
            "Epoch [49/80], Step [48/7840], Loss: 0.2037\n",
            "Epoch [49/80], Step [48/7840], Loss: 0.1558\n",
            "Epoch [50/80], Step [49/7840], Loss: 0.1983\n",
            "Epoch [50/80], Step [49/7840], Loss: 0.1613\n",
            "Epoch [50/80], Step [49/7840], Loss: 0.1468\n",
            "Epoch [50/80], Step [49/7840], Loss: 0.1479\n",
            "Epoch [50/80], Step [49/7840], Loss: 0.1536\n",
            "Epoch [50/80], Step [49/7840], Loss: 0.2722\n",
            "Epoch [50/80], Step [49/7840], Loss: 0.2058\n",
            "Epoch [50/80], Step [49/7840], Loss: 0.2055\n",
            "Epoch [50/80], Step [49/7840], Loss: 0.1947\n",
            "Epoch [51/80], Step [50/7840], Loss: 0.1242\n",
            "Epoch [51/80], Step [50/7840], Loss: 0.1577\n",
            "Epoch [51/80], Step [50/7840], Loss: 0.1533\n",
            "Epoch [51/80], Step [50/7840], Loss: 0.2077\n",
            "Epoch [51/80], Step [50/7840], Loss: 0.1863\n",
            "Epoch [51/80], Step [50/7840], Loss: 0.2130\n",
            "Epoch [51/80], Step [50/7840], Loss: 0.1417\n",
            "Epoch [51/80], Step [50/7840], Loss: 0.1853\n",
            "Epoch [51/80], Step [50/7840], Loss: 0.1803\n",
            "Epoch [52/80], Step [51/7840], Loss: 0.1439\n",
            "Epoch [52/80], Step [51/7840], Loss: 0.1541\n",
            "Epoch [52/80], Step [51/7840], Loss: 0.2497\n",
            "Epoch [52/80], Step [51/7840], Loss: 0.1422\n",
            "Epoch [52/80], Step [51/7840], Loss: 0.1648\n",
            "Epoch [52/80], Step [51/7840], Loss: 0.1950\n",
            "Epoch [52/80], Step [51/7840], Loss: 0.1180\n",
            "Epoch [52/80], Step [51/7840], Loss: 0.1312\n",
            "Epoch [52/80], Step [51/7840], Loss: 0.1475\n",
            "Epoch [53/80], Step [52/7840], Loss: 0.2225\n",
            "Epoch [53/80], Step [52/7840], Loss: 0.2018\n",
            "Epoch [53/80], Step [52/7840], Loss: 0.1477\n",
            "Epoch [53/80], Step [52/7840], Loss: 0.1351\n",
            "Epoch [53/80], Step [52/7840], Loss: 0.1821\n",
            "Epoch [53/80], Step [52/7840], Loss: 0.1771\n",
            "Epoch [53/80], Step [52/7840], Loss: 0.1530\n",
            "Epoch [53/80], Step [52/7840], Loss: 0.1806\n",
            "Epoch [53/80], Step [52/7840], Loss: 0.1841\n",
            "Epoch [54/80], Step [53/7840], Loss: 0.1198\n",
            "Epoch [54/80], Step [53/7840], Loss: 0.1318\n",
            "Epoch [54/80], Step [53/7840], Loss: 0.1564\n",
            "Epoch [54/80], Step [53/7840], Loss: 0.1441\n",
            "Epoch [54/80], Step [53/7840], Loss: 0.1318\n",
            "Epoch [54/80], Step [53/7840], Loss: 0.0871\n",
            "Epoch [54/80], Step [53/7840], Loss: 0.1121\n",
            "Epoch [54/80], Step [53/7840], Loss: 0.1014\n",
            "Epoch [54/80], Step [53/7840], Loss: 0.1303\n",
            "Epoch [55/80], Step [54/7840], Loss: 0.1255\n",
            "Epoch [55/80], Step [54/7840], Loss: 0.1708\n",
            "Epoch [55/80], Step [54/7840], Loss: 0.2513\n",
            "Epoch [55/80], Step [54/7840], Loss: 0.1202\n",
            "Epoch [55/80], Step [54/7840], Loss: 0.1547\n",
            "Epoch [55/80], Step [54/7840], Loss: 0.1016\n",
            "Epoch [55/80], Step [54/7840], Loss: 0.1463\n",
            "Epoch [55/80], Step [54/7840], Loss: 0.1402\n",
            "Epoch [55/80], Step [54/7840], Loss: 0.1864\n",
            "Epoch [56/80], Step [55/7840], Loss: 0.1351\n",
            "Epoch [56/80], Step [55/7840], Loss: 0.1264\n",
            "Epoch [56/80], Step [55/7840], Loss: 0.1330\n",
            "Epoch [56/80], Step [55/7840], Loss: 0.1434\n",
            "Epoch [56/80], Step [55/7840], Loss: 0.1453\n",
            "Epoch [56/80], Step [55/7840], Loss: 0.2078\n",
            "Epoch [56/80], Step [55/7840], Loss: 0.1657\n",
            "Epoch [56/80], Step [55/7840], Loss: 0.1540\n",
            "Epoch [56/80], Step [55/7840], Loss: 0.1818\n",
            "Epoch [57/80], Step [56/7840], Loss: 0.0993\n",
            "Epoch [57/80], Step [56/7840], Loss: 0.1291\n",
            "Epoch [57/80], Step [56/7840], Loss: 0.1288\n",
            "Epoch [57/80], Step [56/7840], Loss: 0.1411\n",
            "Epoch [57/80], Step [56/7840], Loss: 0.1752\n",
            "Epoch [57/80], Step [56/7840], Loss: 0.1124\n",
            "Epoch [57/80], Step [56/7840], Loss: 0.1153\n",
            "Epoch [57/80], Step [56/7840], Loss: 0.1684\n",
            "Epoch [57/80], Step [56/7840], Loss: 0.1189\n",
            "Epoch [58/80], Step [57/7840], Loss: 0.1359\n",
            "Epoch [58/80], Step [57/7840], Loss: 0.1368\n",
            "Epoch [58/80], Step [57/7840], Loss: 0.1813\n",
            "Epoch [58/80], Step [57/7840], Loss: 0.1082\n",
            "Epoch [58/80], Step [57/7840], Loss: 0.1644\n",
            "Epoch [58/80], Step [57/7840], Loss: 0.0657\n",
            "Epoch [58/80], Step [57/7840], Loss: 0.1430\n",
            "Epoch [58/80], Step [57/7840], Loss: 0.0957\n",
            "Epoch [58/80], Step [57/7840], Loss: 0.1036\n",
            "Epoch [59/80], Step [58/7840], Loss: 0.2013\n",
            "Epoch [59/80], Step [58/7840], Loss: 0.1985\n",
            "Epoch [59/80], Step [58/7840], Loss: 0.0628\n",
            "Epoch [59/80], Step [58/7840], Loss: 0.1210\n",
            "Epoch [59/80], Step [58/7840], Loss: 0.1473\n",
            "Epoch [59/80], Step [58/7840], Loss: 0.1057\n",
            "Epoch [59/80], Step [58/7840], Loss: 0.1838\n",
            "Epoch [59/80], Step [58/7840], Loss: 0.0988\n",
            "Epoch [59/80], Step [58/7840], Loss: 0.1490\n",
            "Epoch [60/80], Step [59/7840], Loss: 0.0914\n",
            "Epoch [60/80], Step [59/7840], Loss: 0.0919\n",
            "Epoch [60/80], Step [59/7840], Loss: 0.1351\n",
            "Epoch [60/80], Step [59/7840], Loss: 0.1730\n",
            "Epoch [60/80], Step [59/7840], Loss: 0.1060\n",
            "Epoch [60/80], Step [59/7840], Loss: 0.2242\n",
            "Epoch [60/80], Step [59/7840], Loss: 0.1186\n",
            "Epoch [60/80], Step [59/7840], Loss: 0.1187\n",
            "Epoch [60/80], Step [59/7840], Loss: 0.0985\n",
            "Epoch [61/80], Step [60/7840], Loss: 0.1039\n",
            "Epoch [61/80], Step [60/7840], Loss: 0.1505\n",
            "Epoch [61/80], Step [60/7840], Loss: 0.0850\n",
            "Epoch [61/80], Step [60/7840], Loss: 0.1178\n",
            "Epoch [61/80], Step [60/7840], Loss: 0.1170\n",
            "Epoch [61/80], Step [60/7840], Loss: 0.1177\n",
            "Epoch [61/80], Step [60/7840], Loss: 0.1645\n",
            "Epoch [61/80], Step [60/7840], Loss: 0.1240\n",
            "Epoch [61/80], Step [60/7840], Loss: 0.1527\n",
            "Epoch [62/80], Step [61/7840], Loss: 0.1200\n",
            "Epoch [62/80], Step [61/7840], Loss: 0.0943\n",
            "Epoch [62/80], Step [61/7840], Loss: 0.1077\n",
            "Epoch [62/80], Step [61/7840], Loss: 0.1387\n",
            "Epoch [62/80], Step [61/7840], Loss: 0.0778\n",
            "Epoch [62/80], Step [61/7840], Loss: 0.0850\n",
            "Epoch [62/80], Step [61/7840], Loss: 0.1252\n",
            "Epoch [62/80], Step [61/7840], Loss: 0.0933\n",
            "Epoch [62/80], Step [61/7840], Loss: 0.1664\n",
            "Epoch [63/80], Step [62/7840], Loss: 0.1446\n",
            "Epoch [63/80], Step [62/7840], Loss: 0.0939\n",
            "Epoch [63/80], Step [62/7840], Loss: 0.1907\n",
            "Epoch [63/80], Step [62/7840], Loss: 0.1184\n",
            "Epoch [63/80], Step [62/7840], Loss: 0.1457\n",
            "Epoch [63/80], Step [62/7840], Loss: 0.0948\n",
            "Epoch [63/80], Step [62/7840], Loss: 0.1471\n",
            "Epoch [63/80], Step [62/7840], Loss: 0.1446\n",
            "Epoch [63/80], Step [62/7840], Loss: 0.0839\n",
            "Epoch [64/80], Step [63/7840], Loss: 0.1454\n",
            "Epoch [64/80], Step [63/7840], Loss: 0.1086\n",
            "Epoch [64/80], Step [63/7840], Loss: 0.0707\n",
            "Epoch [64/80], Step [63/7840], Loss: 0.0830\n",
            "Epoch [64/80], Step [63/7840], Loss: 0.1182\n",
            "Epoch [64/80], Step [63/7840], Loss: 0.0651\n",
            "Epoch [64/80], Step [63/7840], Loss: 0.1369\n",
            "Epoch [64/80], Step [63/7840], Loss: 0.1298\n",
            "Epoch [64/80], Step [63/7840], Loss: 0.1369\n",
            "Epoch [65/80], Step [64/7840], Loss: 0.0914\n",
            "Epoch [65/80], Step [64/7840], Loss: 0.0744\n",
            "Epoch [65/80], Step [64/7840], Loss: 0.1275\n",
            "Epoch [65/80], Step [64/7840], Loss: 0.0846\n",
            "Epoch [65/80], Step [64/7840], Loss: 0.1008\n",
            "Epoch [65/80], Step [64/7840], Loss: 0.1571\n",
            "Epoch [65/80], Step [64/7840], Loss: 0.1125\n",
            "Epoch [65/80], Step [64/7840], Loss: 0.0825\n",
            "Epoch [65/80], Step [64/7840], Loss: 0.1077\n",
            "Epoch [66/80], Step [65/7840], Loss: 0.1485\n",
            "Epoch [66/80], Step [65/7840], Loss: 0.1005\n",
            "Epoch [66/80], Step [65/7840], Loss: 0.1069\n",
            "Epoch [66/80], Step [65/7840], Loss: 0.0932\n",
            "Epoch [66/80], Step [65/7840], Loss: 0.1386\n",
            "Epoch [66/80], Step [65/7840], Loss: 0.1607\n",
            "Epoch [66/80], Step [65/7840], Loss: 0.1486\n",
            "Epoch [66/80], Step [65/7840], Loss: 0.1129\n",
            "Epoch [66/80], Step [65/7840], Loss: 0.0803\n",
            "Epoch [67/80], Step [66/7840], Loss: 0.0591\n",
            "Epoch [67/80], Step [66/7840], Loss: 0.0651\n",
            "Epoch [67/80], Step [66/7840], Loss: 0.0875\n",
            "Epoch [67/80], Step [66/7840], Loss: 0.0872\n",
            "Epoch [67/80], Step [66/7840], Loss: 0.1215\n",
            "Epoch [67/80], Step [66/7840], Loss: 0.0970\n",
            "Epoch [67/80], Step [66/7840], Loss: 0.0972\n",
            "Epoch [67/80], Step [66/7840], Loss: 0.1079\n",
            "Epoch [67/80], Step [66/7840], Loss: 0.0847\n",
            "Epoch [68/80], Step [67/7840], Loss: 0.1617\n",
            "Epoch [68/80], Step [67/7840], Loss: 0.1210\n",
            "Epoch [68/80], Step [67/7840], Loss: 0.1369\n",
            "Epoch [68/80], Step [67/7840], Loss: 0.1359\n",
            "Epoch [68/80], Step [67/7840], Loss: 0.0872\n",
            "Epoch [68/80], Step [67/7840], Loss: 0.1208\n",
            "Epoch [68/80], Step [67/7840], Loss: 0.1064\n",
            "Epoch [68/80], Step [67/7840], Loss: 0.0836\n",
            "Epoch [68/80], Step [67/7840], Loss: 0.0884\n",
            "Epoch [69/80], Step [68/7840], Loss: 0.0917\n",
            "Epoch [69/80], Step [68/7840], Loss: 0.1763\n",
            "Epoch [69/80], Step [68/7840], Loss: 0.0602\n",
            "Epoch [69/80], Step [68/7840], Loss: 0.1481\n",
            "Epoch [69/80], Step [68/7840], Loss: 0.0943\n",
            "Epoch [69/80], Step [68/7840], Loss: 0.0872\n",
            "Epoch [69/80], Step [68/7840], Loss: 0.0953\n",
            "Epoch [69/80], Step [68/7840], Loss: 0.0879\n",
            "Epoch [69/80], Step [68/7840], Loss: 0.0588\n",
            "Epoch [70/80], Step [69/7840], Loss: 0.1127\n",
            "Epoch [70/80], Step [69/7840], Loss: 0.0990\n",
            "Epoch [70/80], Step [69/7840], Loss: 0.0544\n",
            "Epoch [70/80], Step [69/7840], Loss: 0.1014\n",
            "Epoch [70/80], Step [69/7840], Loss: 0.1314\n",
            "Epoch [70/80], Step [69/7840], Loss: 0.1144\n",
            "Epoch [70/80], Step [69/7840], Loss: 0.1265\n",
            "Epoch [70/80], Step [69/7840], Loss: 0.1389\n",
            "Epoch [70/80], Step [69/7840], Loss: 0.1207\n",
            "Epoch [71/80], Step [70/7840], Loss: 0.1047\n",
            "Epoch [71/80], Step [70/7840], Loss: 0.0692\n",
            "Epoch [71/80], Step [70/7840], Loss: 0.0720\n",
            "Epoch [71/80], Step [70/7840], Loss: 0.1765\n",
            "Epoch [71/80], Step [70/7840], Loss: 0.1163\n",
            "Epoch [71/80], Step [70/7840], Loss: 0.0881\n",
            "Epoch [71/80], Step [70/7840], Loss: 0.1446\n",
            "Epoch [71/80], Step [70/7840], Loss: 0.1887\n",
            "Epoch [71/80], Step [70/7840], Loss: 0.1310\n",
            "Epoch [72/80], Step [71/7840], Loss: 0.0950\n",
            "Epoch [72/80], Step [71/7840], Loss: 0.0839\n",
            "Epoch [72/80], Step [71/7840], Loss: 0.0727\n",
            "Epoch [72/80], Step [71/7840], Loss: 0.0744\n",
            "Epoch [72/80], Step [71/7840], Loss: 0.1398\n",
            "Epoch [72/80], Step [71/7840], Loss: 0.1049\n",
            "Epoch [72/80], Step [71/7840], Loss: 0.1013\n",
            "Epoch [72/80], Step [71/7840], Loss: 0.0851\n",
            "Epoch [72/80], Step [71/7840], Loss: 0.0704\n",
            "Epoch [73/80], Step [72/7840], Loss: 0.0827\n",
            "Epoch [73/80], Step [72/7840], Loss: 0.0782\n",
            "Epoch [73/80], Step [72/7840], Loss: 0.1644\n",
            "Epoch [73/80], Step [72/7840], Loss: 0.0884\n",
            "Epoch [73/80], Step [72/7840], Loss: 0.1006\n",
            "Epoch [73/80], Step [72/7840], Loss: 0.0662\n",
            "Epoch [73/80], Step [72/7840], Loss: 0.0760\n",
            "Epoch [73/80], Step [72/7840], Loss: 0.1094\n",
            "Epoch [73/80], Step [72/7840], Loss: 0.1113\n",
            "Epoch [74/80], Step [73/7840], Loss: 0.1009\n",
            "Epoch [74/80], Step [73/7840], Loss: 0.1184\n",
            "Epoch [74/80], Step [73/7840], Loss: 0.1067\n",
            "Epoch [74/80], Step [73/7840], Loss: 0.0406\n",
            "Epoch [74/80], Step [73/7840], Loss: 0.0957\n",
            "Epoch [74/80], Step [73/7840], Loss: 0.0863\n",
            "Epoch [74/80], Step [73/7840], Loss: 0.0763\n",
            "Epoch [74/80], Step [73/7840], Loss: 0.0836\n",
            "Epoch [74/80], Step [73/7840], Loss: 0.1080\n",
            "Epoch [75/80], Step [74/7840], Loss: 0.0675\n",
            "Epoch [75/80], Step [74/7840], Loss: 0.1149\n",
            "Epoch [75/80], Step [74/7840], Loss: 0.0798\n",
            "Epoch [75/80], Step [74/7840], Loss: 0.1108\n",
            "Epoch [75/80], Step [74/7840], Loss: 0.1413\n",
            "Epoch [75/80], Step [74/7840], Loss: 0.1467\n",
            "Epoch [75/80], Step [74/7840], Loss: 0.1088\n",
            "Epoch [75/80], Step [74/7840], Loss: 0.0876\n",
            "Epoch [75/80], Step [74/7840], Loss: 0.0519\n",
            "Epoch [76/80], Step [75/7840], Loss: 0.1426\n",
            "Epoch [76/80], Step [75/7840], Loss: 0.0827\n",
            "Epoch [76/80], Step [75/7840], Loss: 0.0738\n",
            "Epoch [76/80], Step [75/7840], Loss: 0.1899\n",
            "Epoch [76/80], Step [75/7840], Loss: 0.1433\n",
            "Epoch [76/80], Step [75/7840], Loss: 0.1082\n",
            "Epoch [76/80], Step [75/7840], Loss: 0.0802\n",
            "Epoch [76/80], Step [75/7840], Loss: 0.0637\n",
            "Epoch [76/80], Step [75/7840], Loss: 0.1477\n",
            "Epoch [77/80], Step [76/7840], Loss: 0.1036\n",
            "Epoch [77/80], Step [76/7840], Loss: 0.0995\n",
            "Epoch [77/80], Step [76/7840], Loss: 0.0776\n",
            "Epoch [77/80], Step [76/7840], Loss: 0.0908\n",
            "Epoch [77/80], Step [76/7840], Loss: 0.0739\n",
            "Epoch [77/80], Step [76/7840], Loss: 0.0776\n",
            "Epoch [77/80], Step [76/7840], Loss: 0.1301\n",
            "Epoch [77/80], Step [76/7840], Loss: 0.1116\n",
            "Epoch [77/80], Step [76/7840], Loss: 0.1260\n",
            "Epoch [78/80], Step [77/7840], Loss: 0.1465\n",
            "Epoch [78/80], Step [77/7840], Loss: 0.0699\n",
            "Epoch [78/80], Step [77/7840], Loss: 0.1059\n",
            "Epoch [78/80], Step [77/7840], Loss: 0.1134\n",
            "Epoch [78/80], Step [77/7840], Loss: 0.1223\n",
            "Epoch [78/80], Step [77/7840], Loss: 0.0843\n",
            "Epoch [78/80], Step [77/7840], Loss: 0.0790\n",
            "Epoch [78/80], Step [77/7840], Loss: 0.1036\n",
            "Epoch [78/80], Step [77/7840], Loss: 0.1059\n",
            "Epoch [79/80], Step [78/7840], Loss: 0.0669\n",
            "Epoch [79/80], Step [78/7840], Loss: 0.1241\n",
            "Epoch [79/80], Step [78/7840], Loss: 0.0800\n",
            "Epoch [79/80], Step [78/7840], Loss: 0.0857\n",
            "Epoch [79/80], Step [78/7840], Loss: 0.0663\n",
            "Epoch [79/80], Step [78/7840], Loss: 0.0474\n",
            "Epoch [79/80], Step [78/7840], Loss: 0.0763\n",
            "Epoch [79/80], Step [78/7840], Loss: 0.0873\n",
            "Epoch [79/80], Step [78/7840], Loss: 0.0658\n",
            "Epoch [80/80], Step [79/7840], Loss: 0.0735\n",
            "Epoch [80/80], Step [79/7840], Loss: 0.1113\n",
            "Epoch [80/80], Step [79/7840], Loss: 0.1222\n",
            "Epoch [80/80], Step [79/7840], Loss: 0.0838\n",
            "Epoch [80/80], Step [79/7840], Loss: 0.1214\n",
            "Epoch [80/80], Step [79/7840], Loss: 0.1112\n",
            "Epoch [80/80], Step [79/7840], Loss: 0.0890\n",
            "Epoch [80/80], Step [79/7840], Loss: 0.1166\n",
            "Epoch [80/80], Step [79/7840], Loss: 0.0928\n"
          ]
        }
      ]
    },
    {
      "cell_type": "code",
      "source": [
        "#Use plot styling from seaborn.\n",
        "sns.set(style='darkgrid')\n",
        "\n",
        "#Increase the plot size and font size.\n",
        "sns.set(font_scale=1.5)\n",
        "plt.rcParams[\"figure.figsize\"] = (12,6)\n",
        "\n",
        "#Plot the learning curve.\n",
        "plt.plot(loss_list, 'b-o')\n",
        "\n",
        "#Label the plot.\n",
        "plt.title(\"Training loss\")\n",
        "plt.xlabel(\"Epoch\")\n",
        "plt.ylabel(\"Loss\")\n",
        "\n",
        "plt.show()"
      ],
      "metadata": {
        "colab": {
          "base_uri": "https://localhost:8080/",
          "height": 427
        },
        "id": "ON4jXiRRUDZS",
        "outputId": "793f134c-67fb-42aa-d308-f58744f97030"
      },
      "execution_count": null,
      "outputs": [
        {
          "output_type": "display_data",
          "data": {
            "text/plain": [
              "<Figure size 864x432 with 1 Axes>"
            ],
            "image/png": "[encoded data removed]"
          },
          "metadata": {}
        }
      ]
    },
    {
      "cell_type": "code",
      "source": [
        "# prepare test dataloader\n",
        "labels_test = torch.tensor(list(data_encoder_test['toxicity']), dtype=torch.long)\n",
        "test_tensor_dataset = TensorDataset(features_test, labels_test)\n",
        "test_dataloader = torch.utils.data.DataLoader(dataset=test_tensor_dataset, \n",
        "                                           batch_size=BATCH_SIZE, \n",
        "                                           shuffle=False)"
      ],
      "metadata": {
        "id": "ku8qzF4qiKzX"
      },
      "execution_count": null,
      "outputs": []
    },
    {
      "cell_type": "code",
      "source": [
        "with torch.no_grad():\n",
        "    n_correct = 0\n",
        "    n_samples = 0\n",
        "    predicted_list = []\n",
        "    for x, labels in test_dataloader:\n",
        "        x = x.to(device)\n",
        "        labels = labels.to(device)\n",
        "        outputs = model(x)\n",
        "        #max returns (value ,index)\n",
        "        _, predicted = torch.max(outputs.data, 1)\n",
        "        predicted_list.extend(predicted.tolist())\n",
        "        n_samples += labels.size(0)\n",
        "        n_correct += (predicted == labels).sum().item()\n",
        "\n",
        "    print(metrics.accuracy_score(predicted_list, labels_test[:9000].tolist()))"
      ],
      "metadata": {
        "colab": {
          "base_uri": "https://localhost:8080/"
        },
        "id": "gz_QoAWdiK1w",
        "outputId": "66b1ca9e-7278-4cef-89f6-70e15e48ee4b"
      },
      "execution_count": null,
      "outputs": [
        {
          "output_type": "stream",
          "name": "stdout",
          "text": [
            "0.473\n"
          ]
        }
      ]
    },
    {
      "cell_type": "code",
      "source": [
        "# save model as pth and onnx\n",
        "torch.save(model.state_dict(), 'model_encoder.pth')\n",
        "dummy_input = Variable(torch.randn(1, 25, 300)).cuda()\n",
        "torch.onnx.export(model, dummy_input, \"model_encoder.onnx\")"
      ],
      "metadata": {
        "colab": {
          "base_uri": "https://localhost:8080/"
        },
        "id": "pZ4Q4xcDKGra",
        "outputId": "f81a73ea-3a9f-4932-8914-decdde64210b"
      },
      "execution_count": null,
      "outputs": [
        {
          "output_type": "stream",
          "name": "stderr",
          "text": [
            "/usr/local/lib/python3.7/dist-packages/torch/onnx/symbolic_opset9.py:2123: UserWarning: Exporting a model to ONNX with a batch_size other than 1, with a variable length with LSTM can cause an error when running the ONNX model with a different batch size. Make sure to save the model with a batch size of 1, or define the initial states (h0/c0) as inputs of the model. \n",
            "  \"or define the initial states (h0/c0) as inputs of the model. \")\n"
          ]
        }
      ]
    },
    {
      "cell_type": "code",
      "source": [
        "# download model\n",
        "model = LSTM(INPUT_SIZE, HIDDEN_SIZE, NUM_LAYERS, NUM_CLASSES).to(device)\n",
        "model.load_state_dict(torch.load('/content/model_encoder.pth'))\n",
        "model.eval()"
      ],
      "metadata": {
        "colab": {
          "base_uri": "https://localhost:8080/"
        },
        "id": "P6Ji_SjY8Syv",
        "outputId": "03b4636b-d06e-456f-81c5-00e547e79829"
      },
      "execution_count": 17,
      "outputs": [
        {
          "output_type": "execute_result",
          "data": {
            "text/plain": [
              "LSTM(\n",
              "  (LSTM): LSTM(300, 128, num_layers=3, batch_first=True, dropout=0.3, bidirectional=True)\n",
              "  (fc_1): Linear(in_features=256, out_features=128, bias=True)\n",
              "  (fc_2): Linear(in_features=128, out_features=128, bias=True)\n",
              "  (fc): Linear(in_features=128, out_features=6, bias=True)\n",
              ")"
            ]
          },
          "metadata": {},
          "execution_count": 17
        }
      ]
    },
    {
      "cell_type": "markdown",
      "source": [
        "### Create vectorised dataset for classification (text similarity) "
      ],
      "metadata": {
        "id": "GfjWe3Q40c00"
      }
    },
    {
      "cell_type": "code",
      "source": [
        "# this code extract encoded vector from n-th layer of nn\n",
        "activation = {}\n",
        "def get_activation(name):\n",
        "    def hook(model, input, output):\n",
        "        activation[name] = output.detach()\n",
        "    return hook\n",
        "\n",
        "def get_encoded_sentences(dataloader, model):\n",
        "  model.fc_2.register_forward_hook(get_activation('fc_2'))\n",
        "  vectors = []\n",
        "  #sentence here is vector of embeddings\n",
        "  for i, (sentence_batch, label) in enumerate(dataloader):\n",
        "    if i % 1000 == 0:\n",
        "      print('Iteration: {}'.format(i))\n",
        "    for sentence in sentence_batch:\n",
        "      #vectors.append(tensor) \n",
        "      output = model(torch.unsqueeze(sentence, 0))\n",
        "      vectors.append(torch.unsqueeze(activation['fc_2'], 0))\n",
        "  return torch.cat(vectors, dim=0)"
      ],
      "metadata": {
        "id": "GsEEcVHz1D12"
      },
      "execution_count": 28,
      "outputs": []
    },
    {
      "cell_type": "code",
      "source": [
        "encoded_vectors1 = get_encoded_sentences(test_dataloader, model)"
      ],
      "metadata": {
        "id": "y5likIPp1D7j"
      },
      "execution_count": null,
      "outputs": []
    },
    {
      "cell_type": "code",
      "source": [
        "data.iloc[:100, :]"
      ],
      "metadata": {
        "colab": {
          "base_uri": "https://localhost:8080/",
          "height": 455
        },
        "id": "rfBiK_EA8FFf",
        "outputId": "c332f723-792e-499e-d51a-4a93d5c7489a"
      },
      "execution_count": 19,
      "outputs": [
        {
          "output_type": "execute_result",
          "data": {
            "text/plain": [
              "                                            question1  \\\n",
              "id                                                      \n",
              "0   What is the step by step guide to invest in sh...   \n",
              "1   What is the story of Kohinoor (Koh-i-Noor) Dia...   \n",
              "2   How can I increase the speed of my internet co...   \n",
              "3   Why am I mentally very lonely? How can I solve...   \n",
              "4   Which one dissolve in water quikly sugar, salt...   \n",
              "..                                                ...   \n",
              "95                         How does 3D printing work?   \n",
              "96  What was it like to attend Caltech with Jeremy...   \n",
              "97                    Why did harry become a horcrux?   \n",
              "98  What are the best associate product manager (A...   \n",
              "99  Why is the number for Skype at 1-855-425-3768 ...   \n",
              "\n",
              "                                            question2  \n",
              "id                                                     \n",
              "0   What is the step by step guide to invest in sh...  \n",
              "1   What would happen if the Indian government sto...  \n",
              "2   How can Internet speed be increased by hacking...  \n",
              "3   Find the remainder when [math]23^{24}[/math] i...  \n",
              "4             Which fish would survive in salt water?  \n",
              "..                                                ...  \n",
              "95                           How do 3D printing work?  \n",
              "96   Who are some notable folks who attended Caltech?  \n",
              "97                                 What is a Horcrux?  \n",
              "98  What are the general requirement to become a P...  \n",
              "99  How could I get Skype to work on an android 4....  \n",
              "\n",
              "[100 rows x 2 columns]"
            ],
            "text/html": [
              "\n",
              "  <div id=\"df-bf9c436e-f95a-4a3a-94b1-9e9cded10832\">\n",
              "    <div class=\"colab-df-container\">\n",
              "      <div>\n",
              "<style scoped>\n",
              "    .dataframe tbody tr th:only-of-type {\n",
              "        vertical-align: middle;\n",
              "    }\n",
              "\n",
              "    .dataframe tbody tr th {\n",
              "        vertical-align: top;\n",
              "    }\n",
              "\n",
              "    .dataframe thead th {\n",
              "        text-align: right;\n",
              "    }\n",
              "</style>\n",
              "<table border=\"1\" class=\"dataframe\">\n",
              "  <thead>\n",
              "    <tr style=\"text-align: right;\">\n",
              "      <th></th>\n",
              "      <th>question1</th>\n",
              "      <th>question2</th>\n",
              "    </tr>\n",
              "    <tr>\n",
              "      <th>id</th>\n",
              "      <th></th>\n",
              "      <th></th>\n",
              "    </tr>\n",
              "  </thead>\n",
              "  <tbody>\n",
              "    <tr>\n",
              "      <th>0</th>\n",
              "      <td>What is the step by step guide to invest in sh...</td>\n",
              "      <td>What is the step by step guide to invest in sh...</td>\n",
              "    </tr>\n",
              "    <tr>\n",
              "      <th>1</th>\n",
              "      <td>What is the story of Kohinoor (Koh-i-Noor) Dia...</td>\n",
              "      <td>What would happen if the Indian government sto...</td>\n",
              "    </tr>\n",
              "    <tr>\n",
              "      <th>2</th>\n",
              "      <td>How can I increase the speed of my internet co...</td>\n",
              "      <td>How can Internet speed be increased by hacking...</td>\n",
              "    </tr>\n",
              "    <tr>\n",
              "      <th>3</th>\n",
              "      <td>Why am I mentally very lonely? How can I solve...</td>\n",
              "      <td>Find the remainder when [math]23^{24}[/math] i...</td>\n",
              "    </tr>\n",
              "    <tr>\n",
              "      <th>4</th>\n",
              "      <td>Which one dissolve in water quikly sugar, salt...</td>\n",
              "      <td>Which fish would survive in salt water?</td>\n",
              "    </tr>\n",
              "    <tr>\n",
              "      <th>...</th>\n",
              "      <td>...</td>\n",
              "      <td>...</td>\n",
              "    </tr>\n",
              "    <tr>\n",
              "      <th>95</th>\n",
              "      <td>How does 3D printing work?</td>\n",
              "      <td>How do 3D printing work?</td>\n",
              "    </tr>\n",
              "    <tr>\n",
              "      <th>96</th>\n",
              "      <td>What was it like to attend Caltech with Jeremy...</td>\n",
              "      <td>Who are some notable folks who attended Caltech?</td>\n",
              "    </tr>\n",
              "    <tr>\n",
              "      <th>97</th>\n",
              "      <td>Why did harry become a horcrux?</td>\n",
              "      <td>What is a Horcrux?</td>\n",
              "    </tr>\n",
              "    <tr>\n",
              "      <th>98</th>\n",
              "      <td>What are the best associate product manager (A...</td>\n",
              "      <td>What are the general requirement to become a P...</td>\n",
              "    </tr>\n",
              "    <tr>\n",
              "      <th>99</th>\n",
              "      <td>Why is the number for Skype at 1-855-425-3768 ...</td>\n",
              "      <td>How could I get Skype to work on an android 4....</td>\n",
              "    </tr>\n",
              "  </tbody>\n",
              "</table>\n",
              "<p>100 rows × 2 columns</p>\n",
              "</div>\n",
              "      <button class=\"colab-df-convert\" onclick=\"convertToInteractive('df-bf9c436e-f95a-4a3a-94b1-9e9cded10832')\"\n",
              "              title=\"Convert this dataframe to an interactive table.\"\n",
              "              style=\"display:none;\">\n",
              "        \n",
              "  <svg xmlns=\"http://www.w3.org/2000/svg\" height=\"24px\"viewBox=\"0 0 24 24\"\n",
              "       width=\"24px\">\n",
              "    <path d=\"M0 0h24v24H0V0z\" fill=\"none\"/>\n",
              "    <path d=\"M18.56 5.44l.94 2.06.94-2.06 2.06-.94-2.06-.94-.94-2.06-.94 2.06-2.06.94zm-11 1L8.5 8.5l.94-2.06 2.06-.94-2.06-.94L8.5 2.5l-.94 2.06-2.06.94zm10 10l.94 2.06.94-2.06 2.06-.94-2.06-.94-.94-2.06-.94 2.06-2.06.94z\"/><path d=\"M17.41 7.96l-1.37-1.37c-.4-.4-.92-.59-1.43-.59-.52 0-1.04.2-1.43.59L10.3 9.45l-7.72 7.72c-.78.78-.78 2.05 0 2.83L4 21.41c.39.39.9.59 1.41.59.51 0 1.02-.2 1.41-.59l7.78-7.78 2.81-2.81c.8-.78.8-2.07 0-2.86zM5.41 20L4 18.59l7.72-7.72 1.47 1.35L5.41 20z\"/>\n",
              "  </svg>\n",
              "      </button>\n",
              "      \n",
              "  <style>\n",
              "    .colab-df-container {\n",
              "      display:flex;\n",
              "      flex-wrap:wrap;\n",
              "      gap: 12px;\n",
              "    }\n",
              "\n",
              "    .colab-df-convert {\n",
              "      background-color: #E8F0FE;\n",
              "      border: none;\n",
              "      border-radius: 50%;\n",
              "      cursor: pointer;\n",
              "      display: none;\n",
              "      fill: #1967D2;\n",
              "      height: 32px;\n",
              "      padding: 0 0 0 0;\n",
              "      width: 32px;\n",
              "    }\n",
              "\n",
              "    .colab-df-convert:hover {\n",
              "      background-color: #E2EBFA;\n",
              "      box-shadow: 0px 1px 2px rgba(60, 64, 67, 0.3), 0px 1px 3px 1px rgba(60, 64, 67, 0.15);\n",
              "      fill: #174EA6;\n",
              "    }\n",
              "\n",
              "    [theme=dark] .colab-df-convert {\n",
              "      background-color: #3B4455;\n",
              "      fill: #D2E3FC;\n",
              "    }\n",
              "\n",
              "    [theme=dark] .colab-df-convert:hover {\n",
              "      background-color: #434B5C;\n",
              "      box-shadow: 0px 1px 3px 1px rgba(0, 0, 0, 0.15);\n",
              "      filter: drop-shadow(0px 1px 2px rgba(0, 0, 0, 0.3));\n",
              "      fill: #FFFFFF;\n",
              "    }\n",
              "  </style>\n",
              "\n",
              "      <script>\n",
              "        const buttonEl =\n",
              "          document.querySelector('#df-bf9c436e-f95a-4a3a-94b1-9e9cded10832 button.colab-df-convert');\n",
              "        buttonEl.style.display =\n",
              "          google.colab.kernel.accessAllowed ? 'block' : 'none';\n",
              "\n",
              "        async function convertToInteractive(key) {\n",
              "          const element = document.querySelector('#df-bf9c436e-f95a-4a3a-94b1-9e9cded10832');\n",
              "          const dataTable =\n",
              "            await google.colab.kernel.invokeFunction('convertToInteractive',\n",
              "                                                     [key], {});\n",
              "          if (!dataTable) return;\n",
              "\n",
              "          const docLinkHtml = 'Like what you see? Visit the ' +\n",
              "            '<a target=\"_blank\" href=https://colab.research.google.com/notebooks/data_table.ipynb>data table notebook</a>'\n",
              "            + ' to learn more about interactive tables.';\n",
              "          element.innerHTML = '';\n",
              "          dataTable['output_type'] = 'display_data';\n",
              "          await google.colab.output.renderOutput(dataTable, element);\n",
              "          const docLink = document.createElement('div');\n",
              "          docLink.innerHTML = docLinkHtml;\n",
              "          element.appendChild(docLink);\n",
              "        }\n",
              "      </script>\n",
              "    </div>\n",
              "  </div>\n",
              "  "
            ]
          },
          "metadata": {},
          "execution_count": 19
        }
      ]
    },
    {
      "cell_type": "code",
      "source": [
        "#encoded dataset: V, U, V*U, |V-U|\n",
        "def create_encoded_dataset(data, model):\n",
        "  #create features\n",
        "  features1 = create_embeddings_gensim(data, 0, len(data))\n",
        "  features2 = create_embeddings_gensim(data, 1, len(data))\n",
        "  #create dataloaders\n",
        "  tensor_dataset1 = TensorDataset(features1, torch.zeros(len(features1)))\n",
        "  dataloader1 = torch.utils.data.DataLoader(dataset=tensor_dataset1, \n",
        "                                                 batch_size=BATCH_SIZE, \n",
        "                                                 shuffle=False)\n",
        "  tensor_dataset2 = TensorDataset(features2, torch.zeros(len(features2)))\n",
        "  dataloader2 = torch.utils.data.DataLoader(dataset=tensor_dataset2, \n",
        "                                                 batch_size=BATCH_SIZE, \n",
        "                                                 shuffle=False)\n",
        "  print(\"Dataloaders completed. Encoding started...\")\n",
        "  encoded_vector1 = get_encoded_sentences(dataloader1, model)\n",
        "  encoded_vector2 = get_encoded_sentences(dataloader2, model)\n",
        "  print(\"Encoding completed!\")\n",
        "  vector_multiplicated = encoded_vector1 * encoded_vector2\n",
        "  vector_difference = torch.abs(encoded_vector1 - encoded_vector2)\n",
        "  return encoded_vector1, encoded_vector2, vector_multiplicated, vector_difference"
      ],
      "metadata": {
        "id": "AltOT_SFywWq"
      },
      "execution_count": 19,
      "outputs": []
    },
    {
      "cell_type": "code",
      "source": [
        "encoded_vector1, encoded_vector2, vector_multiplicated, vector_difference = create_encoded_dataset(data.iloc[:50000, :], model)"
      ],
      "metadata": {
        "colab": {
          "base_uri": "https://localhost:8080/"
        },
        "id": "xmipFjw-7qT-",
        "outputId": "c0178400-8204-4a21-9e22-b4101515ae42"
      },
      "execution_count": 87,
      "outputs": [
        {
          "output_type": "stream",
          "name": "stdout",
          "text": [
            "0\n",
            "2000\n",
            "4000\n",
            "6000\n",
            "8000\n",
            "10000\n",
            "12000\n",
            "14000\n",
            "16000\n",
            "18000\n",
            "20000\n",
            "22000\n",
            "24000\n",
            "26000\n",
            "28000\n",
            "30000\n",
            "32000\n",
            "34000\n",
            "36000\n",
            "38000\n",
            "40000\n",
            "42000\n",
            "44000\n",
            "46000\n",
            "48000\n",
            "0\n",
            "2000\n",
            "4000\n",
            "6000\n",
            "8000\n",
            "10000\n",
            "12000\n",
            "14000\n",
            "16000\n",
            "18000\n",
            "20000\n",
            "22000\n",
            "24000\n",
            "26000\n",
            "28000\n",
            "30000\n",
            "32000\n",
            "34000\n",
            "36000\n",
            "38000\n",
            "40000\n",
            "42000\n",
            "44000\n",
            "46000\n",
            "48000\n",
            "Dataloaders completed. Encoding started...\n",
            "Iteration: 0\n",
            "Iteration: 0\n",
            "Encoding completed!\n"
          ]
        }
      ]
    },
    {
      "cell_type": "code",
      "source": [
        "encoded_vector1.shape"
      ],
      "metadata": {
        "colab": {
          "base_uri": "https://localhost:8080/"
        },
        "id": "9vyRNPQtfVqt",
        "outputId": "0829440f-6009-4ae6-e9f0-65272df8bf4e"
      },
      "execution_count": 124,
      "outputs": [
        {
          "output_type": "execute_result",
          "data": {
            "text/plain": [
              "torch.Size([50000, 1, 128])"
            ]
          },
          "metadata": {},
          "execution_count": 124
        }
      ]
    },
    {
      "cell_type": "code",
      "source": [
        "encoded_dataset = torch.cat([encoded_vector1, encoded_vector2, vector_multiplicated, vector_difference], 1)"
      ],
      "metadata": {
        "id": "PEnUMgJgcJjW"
      },
      "execution_count": 146,
      "outputs": []
    },
    {
      "cell_type": "markdown",
      "source": [
        "### Create simple classifier model"
      ],
      "metadata": {
        "id": "vLYKTi7X1I5t"
      }
    },
    {
      "cell_type": "code",
      "source": [
        "class Classifier(nn.Module):\n",
        "  def __init__(self, input_size):\n",
        "    super(Classifier, self).__init__()\n",
        "    self.fc1 = nn.Linear(input_size, 128)\n",
        "    self.dropout = nn.Dropout(0.1)\n",
        "    self.fc2 = nn.Linear(128, 64)\n",
        "    self.fc3 = nn.Linear(64, 2)\n",
        "\n",
        "  def forward(self, x):\n",
        "    x = x.to(device)\n",
        "    out = self.fc1(x)\n",
        "    out = self.dropout(out)\n",
        "    out = self.fc2(out)\n",
        "    out = self.fc3(out)\n",
        "    return out\n",
        "\n",
        "  def backward(self, out, labels, criterion, optimizer):\n",
        "    optimizer.zero_grad()\n",
        "    labels = labels.to(device)\n",
        "    loss = criterion(out, labels)\n",
        "    loss.backward()\n",
        "    optimizer.step()\n",
        "    return loss\n",
        "  "
      ],
      "metadata": {
        "id": "2Skxz4T4g6pd"
      },
      "execution_count": 148,
      "outputs": []
    },
    {
      "cell_type": "code",
      "source": [
        "# train classiffier function\n",
        "def train_classifier(model, dataloader, num_epochs, criterion, optimizer):\n",
        "  loss_list = []\n",
        "  total_steps = num_epochs * len(dataloader)\n",
        "  for i_epoch, epoch in enumerate(range(num_epochs)):\n",
        "    for i, (values, labels) in enumerate(dataloader):\n",
        "      out = model.forward(values)\n",
        "      loss = model.backward(out, labels, criterion, optimizer)\n",
        "      loss_list.append(loss.item())\n",
        "    print('Epoch: {}/{}, Step: {}/{}, Loss: {}'.format(i_epoch, num_epochs, i*(epoch+1), total_steps, loss_list[-1]))\n",
        "  return loss_list\n",
        "  \n",
        "# get predictions with classifier\n",
        "def classify(model, dataloader):\n",
        "  model.to(device)\n",
        "  model.eval()\n",
        "  predicted_list = []\n",
        "  with torch.no_grad():\n",
        "    for i, (value, label) in enumerate(dataloader):\n",
        "      # max returns (value ,index)\n",
        "      value.to(device)\n",
        "      label.to(device)\n",
        "      outputs = model(value)\n",
        "      _, predicted = torch.max(outputs.data, 1)\n",
        "      predicted_list.extend(predicted.tolist())\n",
        "  return predicted_list"
      ],
      "metadata": {
        "id": "lsB_F3-Yg6sD"
      },
      "execution_count": 149,
      "outputs": []
    },
    {
      "cell_type": "code",
      "source": [
        "# flutten input vectors \n",
        "fluttened_encoded_values = torch.flatten(encoded_dataset, start_dim=1)\n",
        "print(fluttened_encoded_values.shape)\n",
        "input_size = int(fluttened_encoded_values.shape[1])\n",
        "print(input_size)"
      ],
      "metadata": {
        "colab": {
          "base_uri": "https://localhost:8080/"
        },
        "id": "vINE1U0t3zc7",
        "outputId": "fc1a631a-a34e-4b23-cd47-ecf2e8622bfd"
      },
      "execution_count": 150,
      "outputs": [
        {
          "output_type": "stream",
          "name": "stdout",
          "text": [
            "torch.Size([50000, 512])\n",
            "512\n"
          ]
        }
      ]
    },
    {
      "cell_type": "code",
      "source": [
        "# prepare learning\n",
        "lr = 10**-4\n",
        "batch_classifier = 512\n",
        "train_len = int(0.8 * len(fluttened_encoded_values))\n",
        "num_epoch = 100\n",
        "\n",
        "labels_classifier = torch.tensor(list(df['is_duplicate'][:len(fluttened_encoded_values)]), dtype=torch.long)\n",
        "train_tensor_dataset_cls = TensorDataset(fluttened_encoded_values[:train_len], labels_classifier[:train_len])\n",
        "test_tensor_dataset_cls = TensorDataset(fluttened_encoded_values[train_len:], labels_classifier[train_len:])\n",
        "\n",
        "train_dataloader_cls = torch.utils.data.DataLoader(dataset=train_tensor_dataset_cls, \n",
        "                                           batch_size=batch_classifier, \n",
        "                                           shuffle=True)\n",
        "test_dataloader_cls = torch.utils.data.DataLoader(dataset=test_tensor_dataset_cls, \n",
        "                                           batch_size=batch_classifier, \n",
        "                                           shuffle=False)\n",
        "\n",
        "criterion = nn.CrossEntropyLoss()\n",
        "optimizer = torch.optim.Adam(model.parameters(), lr=lr)  "
      ],
      "metadata": {
        "id": "C4L1NzoShopq"
      },
      "execution_count": 151,
      "outputs": []
    },
    {
      "cell_type": "code",
      "source": [
        "# create classifier\n",
        "classifier = Classifier(input_size).to(device)"
      ],
      "metadata": {
        "id": "t3YogpcCg6vX"
      },
      "execution_count": 152,
      "outputs": []
    },
    {
      "cell_type": "code",
      "source": [
        "loss_list_classifier = train_classifier(classifier, train_dataloader_cls, num_epoch, criterion, optimizer)"
      ],
      "metadata": {
        "colab": {
          "base_uri": "https://localhost:8080/"
        },
        "id": "8AwgYDZlll_e",
        "outputId": "194375f7-84a2-47f5-b28c-535db4add6c1"
      },
      "execution_count": 153,
      "outputs": [
        {
          "output_type": "stream",
          "name": "stdout",
          "text": [
            "Epoch: 0/100, Step: 78/7900, Loss: 0.7230342030525208\n",
            "Epoch: 1/100, Step: 156/7900, Loss: 0.7634301781654358\n",
            "Epoch: 2/100, Step: 234/7900, Loss: 0.6942362189292908\n",
            "Epoch: 3/100, Step: 312/7900, Loss: 0.7127643823623657\n",
            "Epoch: 4/100, Step: 390/7900, Loss: 0.728026807308197\n",
            "Epoch: 5/100, Step: 468/7900, Loss: 0.7054671049118042\n",
            "Epoch: 6/100, Step: 546/7900, Loss: 0.702765703201294\n",
            "Epoch: 7/100, Step: 624/7900, Loss: 0.7327144742012024\n",
            "Epoch: 8/100, Step: 702/7900, Loss: 0.7352213859558105\n",
            "Epoch: 9/100, Step: 780/7900, Loss: 0.7313041687011719\n",
            "Epoch: 10/100, Step: 858/7900, Loss: 0.7331843376159668\n",
            "Epoch: 11/100, Step: 936/7900, Loss: 0.7041925191879272\n",
            "Epoch: 12/100, Step: 1014/7900, Loss: 0.7041435837745667\n",
            "Epoch: 13/100, Step: 1092/7900, Loss: 0.7364386916160583\n",
            "Epoch: 14/100, Step: 1170/7900, Loss: 0.7408301830291748\n",
            "Epoch: 15/100, Step: 1248/7900, Loss: 0.7055040597915649\n",
            "Epoch: 16/100, Step: 1326/7900, Loss: 0.7488868832588196\n",
            "Epoch: 17/100, Step: 1404/7900, Loss: 0.7229365110397339\n",
            "Epoch: 18/100, Step: 1482/7900, Loss: 0.7824507355690002\n",
            "Epoch: 19/100, Step: 1560/7900, Loss: 0.7304879426956177\n",
            "Epoch: 20/100, Step: 1638/7900, Loss: 0.7185341119766235\n",
            "Epoch: 21/100, Step: 1716/7900, Loss: 0.7054078578948975\n",
            "Epoch: 22/100, Step: 1794/7900, Loss: 0.7392075061798096\n",
            "Epoch: 23/100, Step: 1872/7900, Loss: 0.7298011183738708\n",
            "Epoch: 24/100, Step: 1950/7900, Loss: 0.7688449025154114\n",
            "Epoch: 25/100, Step: 2028/7900, Loss: 0.735167384147644\n",
            "Epoch: 26/100, Step: 2106/7900, Loss: 0.7226784825325012\n",
            "Epoch: 27/100, Step: 2184/7900, Loss: 0.7536467909812927\n",
            "Epoch: 28/100, Step: 2262/7900, Loss: 0.7415318489074707\n",
            "Epoch: 29/100, Step: 2340/7900, Loss: 0.7446441650390625\n",
            "Epoch: 30/100, Step: 2418/7900, Loss: 0.7114911079406738\n",
            "Epoch: 31/100, Step: 2496/7900, Loss: 0.7522772550582886\n",
            "Epoch: 32/100, Step: 2574/7900, Loss: 0.7311074733734131\n",
            "Epoch: 33/100, Step: 2652/7900, Loss: 0.7280847430229187\n",
            "Epoch: 34/100, Step: 2730/7900, Loss: 0.7052410244941711\n",
            "Epoch: 35/100, Step: 2808/7900, Loss: 0.7017174363136292\n",
            "Epoch: 36/100, Step: 2886/7900, Loss: 0.7196842432022095\n",
            "Epoch: 37/100, Step: 2964/7900, Loss: 0.7229299545288086\n",
            "Epoch: 38/100, Step: 3042/7900, Loss: 0.7170706391334534\n",
            "Epoch: 39/100, Step: 3120/7900, Loss: 0.719790518283844\n",
            "Epoch: 40/100, Step: 3198/7900, Loss: 0.726481020450592\n",
            "Epoch: 41/100, Step: 3276/7900, Loss: 0.748108983039856\n",
            "Epoch: 42/100, Step: 3354/7900, Loss: 0.757689356803894\n",
            "Epoch: 43/100, Step: 3432/7900, Loss: 0.7045441269874573\n",
            "Epoch: 44/100, Step: 3510/7900, Loss: 0.7627476453781128\n",
            "Epoch: 45/100, Step: 3588/7900, Loss: 0.7326046228408813\n",
            "Epoch: 46/100, Step: 3666/7900, Loss: 0.7323247194290161\n",
            "Epoch: 47/100, Step: 3744/7900, Loss: 0.7250784635543823\n",
            "Epoch: 48/100, Step: 3822/7900, Loss: 0.7088890671730042\n",
            "Epoch: 49/100, Step: 3900/7900, Loss: 0.69312983751297\n",
            "Epoch: 50/100, Step: 3978/7900, Loss: 0.7092005014419556\n",
            "Epoch: 51/100, Step: 4056/7900, Loss: 0.7329663038253784\n",
            "Epoch: 52/100, Step: 4134/7900, Loss: 0.6929501891136169\n",
            "Epoch: 53/100, Step: 4212/7900, Loss: 0.7622248530387878\n",
            "Epoch: 54/100, Step: 4290/7900, Loss: 0.725292444229126\n",
            "Epoch: 55/100, Step: 4368/7900, Loss: 0.6999521255493164\n",
            "Epoch: 56/100, Step: 4446/7900, Loss: 0.717692494392395\n",
            "Epoch: 57/100, Step: 4524/7900, Loss: 0.7270289659500122\n",
            "Epoch: 58/100, Step: 4602/7900, Loss: 0.737133264541626\n",
            "Epoch: 59/100, Step: 4680/7900, Loss: 0.6969428658485413\n",
            "Epoch: 60/100, Step: 4758/7900, Loss: 0.6844139099121094\n",
            "Epoch: 61/100, Step: 4836/7900, Loss: 0.7054498791694641\n",
            "Epoch: 62/100, Step: 4914/7900, Loss: 0.7117708921432495\n",
            "Epoch: 63/100, Step: 4992/7900, Loss: 0.7597690224647522\n",
            "Epoch: 64/100, Step: 5070/7900, Loss: 0.7258997559547424\n",
            "Epoch: 65/100, Step: 5148/7900, Loss: 0.7568979263305664\n",
            "Epoch: 66/100, Step: 5226/7900, Loss: 0.736911416053772\n",
            "Epoch: 67/100, Step: 5304/7900, Loss: 0.7075910568237305\n",
            "Epoch: 68/100, Step: 5382/7900, Loss: 0.7256139516830444\n",
            "Epoch: 69/100, Step: 5460/7900, Loss: 0.7414219379425049\n",
            "Epoch: 70/100, Step: 5538/7900, Loss: 0.7589462995529175\n",
            "Epoch: 71/100, Step: 5616/7900, Loss: 0.7021747827529907\n",
            "Epoch: 72/100, Step: 5694/7900, Loss: 0.7095990180969238\n",
            "Epoch: 73/100, Step: 5772/7900, Loss: 0.7397336959838867\n",
            "Epoch: 74/100, Step: 5850/7900, Loss: 0.7193005084991455\n",
            "Epoch: 75/100, Step: 5928/7900, Loss: 0.7166817784309387\n",
            "Epoch: 76/100, Step: 6006/7900, Loss: 0.7317385673522949\n",
            "Epoch: 77/100, Step: 6084/7900, Loss: 0.7095046043395996\n",
            "Epoch: 78/100, Step: 6162/7900, Loss: 0.7399014234542847\n",
            "Epoch: 79/100, Step: 6240/7900, Loss: 0.7445077300071716\n",
            "Epoch: 80/100, Step: 6318/7900, Loss: 0.6985007524490356\n",
            "Epoch: 81/100, Step: 6396/7900, Loss: 0.7135805487632751\n",
            "Epoch: 82/100, Step: 6474/7900, Loss: 0.7273463606834412\n",
            "Epoch: 83/100, Step: 6552/7900, Loss: 0.7454925179481506\n",
            "Epoch: 84/100, Step: 6630/7900, Loss: 0.7305983304977417\n",
            "Epoch: 85/100, Step: 6708/7900, Loss: 0.7320734262466431\n",
            "Epoch: 86/100, Step: 6786/7900, Loss: 0.6989336609840393\n",
            "Epoch: 87/100, Step: 6864/7900, Loss: 0.716416597366333\n",
            "Epoch: 88/100, Step: 6942/7900, Loss: 0.7252050042152405\n",
            "Epoch: 89/100, Step: 7020/7900, Loss: 0.7115997076034546\n",
            "Epoch: 90/100, Step: 7098/7900, Loss: 0.7474684715270996\n",
            "Epoch: 91/100, Step: 7176/7900, Loss: 0.7047240138053894\n",
            "Epoch: 92/100, Step: 7254/7900, Loss: 0.7428891658782959\n",
            "Epoch: 93/100, Step: 7332/7900, Loss: 0.7076347470283508\n",
            "Epoch: 94/100, Step: 7410/7900, Loss: 0.7072933912277222\n",
            "Epoch: 95/100, Step: 7488/7900, Loss: 0.7124610543251038\n",
            "Epoch: 96/100, Step: 7566/7900, Loss: 0.7273169755935669\n",
            "Epoch: 97/100, Step: 7644/7900, Loss: 0.7216362953186035\n",
            "Epoch: 98/100, Step: 7722/7900, Loss: 0.7109276056289673\n",
            "Epoch: 99/100, Step: 7800/7900, Loss: 0.7215999960899353\n"
          ]
        }
      ]
    },
    {
      "cell_type": "code",
      "source": [
        "predicted = classify(classifier, test_dataloader_cls)"
      ],
      "metadata": {
        "id": "ADXdy0WUteMd"
      },
      "execution_count": 154,
      "outputs": []
    },
    {
      "cell_type": "code",
      "source": [
        "metrics.accuracy_score(predicted, labels_classifier[train_len:].tolist())"
      ],
      "metadata": {
        "colab": {
          "base_uri": "https://localhost:8080/"
        },
        "id": "x82TeD-vtsEi",
        "outputId": "7e554b3a-38ec-4574-c678-a0ea5877fed2"
      },
      "execution_count": 155,
      "outputs": [
        {
          "output_type": "execute_result",
          "data": {
            "text/plain": [
              "0.3758"
            ]
          },
          "metadata": {},
          "execution_count": 155
        }
      ]
    },
    {
      "cell_type": "markdown",
      "source": [
        "Result - 0.38. It is very bad result. Algorithm is similar to constant one."
      ],
      "metadata": {
        "id": "MwMkQfkVw2aw"
      }
    },
    {
      "cell_type": "markdown",
      "source": [
        "This approach doesn't work in this particular case. I think it's my fault, encoder model needs more data, and it needs another data."
      ],
      "metadata": {
        "id": "Wdb2owPJwDQW"
      }
    },
    {
      "cell_type": "code",
      "source": [
        ""
      ],
      "metadata": {
        "id": "XDpF_7_N3knn"
      },
      "execution_count": null,
      "outputs": []
    }
  ]
}