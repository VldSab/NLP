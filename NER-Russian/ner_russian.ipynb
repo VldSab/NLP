{
  "nbformat": 4,
  "nbformat_minor": 0,
  "metadata": {
    "colab": {
      "name": "NER_PIPLINE.ipynb",
      "provenance": [],
      "collapsed_sections": []
    },
    "kernelspec": {
      "name": "python3",
      "display_name": "Python 3"
    },
    "language_info": {
      "name": "python"
    },
    "accelerator": "GPU"
  },
  "cells": [
    {
      "cell_type": "markdown",
      "source": [
        "# Named entity recognition pipline for russian language with Rubert-Tiny model."
      ],
      "metadata": {
        "id": "GNh8eYm-ADK-"
      }
    },
    {
      "cell_type": "code",
      "source": [
        "!pip install transformers"
      ],
      "metadata": {
        "colab": {
          "base_uri": "https://localhost:8080/",
          "height": 0
        },
        "id": "XAHfktiCqSoe",
        "outputId": "95f8f7fb-caf9-45ed-e0d0-e6f8a01c4a3a"
      },
      "execution_count": 2,
      "outputs": [
        {
          "output_type": "stream",
          "name": "stdout",
          "text": [
            "Requirement already satisfied: transformers in /usr/local/lib/python3.7/dist-packages (4.17.0)\n",
            "Requirement already satisfied: huggingface-hub<1.0,>=0.1.0 in /usr/local/lib/python3.7/dist-packages (from transformers) (0.4.0)\n",
            "Requirement already satisfied: regex!=2019.12.17 in /usr/local/lib/python3.7/dist-packages (from transformers) (2019.12.20)\n",
            "Requirement already satisfied: packaging>=20.0 in /usr/local/lib/python3.7/dist-packages (from transformers) (21.3)\n",
            "Requirement already satisfied: filelock in /usr/local/lib/python3.7/dist-packages (from transformers) (3.6.0)\n",
            "Requirement already satisfied: requests in /usr/local/lib/python3.7/dist-packages (from transformers) (2.23.0)\n",
            "Requirement already satisfied: numpy>=1.17 in /usr/local/lib/python3.7/dist-packages (from transformers) (1.21.5)\n",
            "Requirement already satisfied: tqdm>=4.27 in /usr/local/lib/python3.7/dist-packages (from transformers) (4.63.0)\n",
            "Requirement already satisfied: pyyaml>=5.1 in /usr/local/lib/python3.7/dist-packages (from transformers) (6.0)\n",
            "Requirement already satisfied: tokenizers!=0.11.3,>=0.11.1 in /usr/local/lib/python3.7/dist-packages (from transformers) (0.11.6)\n",
            "Requirement already satisfied: importlib-metadata in /usr/local/lib/python3.7/dist-packages (from transformers) (4.11.2)\n",
            "Requirement already satisfied: sacremoses in /usr/local/lib/python3.7/dist-packages (from transformers) (0.0.47)\n",
            "Requirement already satisfied: typing-extensions>=3.7.4.3 in /usr/local/lib/python3.7/dist-packages (from huggingface-hub<1.0,>=0.1.0->transformers) (3.10.0.2)\n",
            "Requirement already satisfied: pyparsing!=3.0.5,>=2.0.2 in /usr/local/lib/python3.7/dist-packages (from packaging>=20.0->transformers) (3.0.7)\n",
            "Requirement already satisfied: zipp>=0.5 in /usr/local/lib/python3.7/dist-packages (from importlib-metadata->transformers) (3.7.0)\n",
            "Requirement already satisfied: urllib3!=1.25.0,!=1.25.1,<1.26,>=1.21.1 in /usr/local/lib/python3.7/dist-packages (from requests->transformers) (1.24.3)\n",
            "Requirement already satisfied: chardet<4,>=3.0.2 in /usr/local/lib/python3.7/dist-packages (from requests->transformers) (3.0.4)\n",
            "Requirement already satisfied: certifi>=2017.4.17 in /usr/local/lib/python3.7/dist-packages (from requests->transformers) (2021.10.8)\n",
            "Requirement already satisfied: idna<3,>=2.5 in /usr/local/lib/python3.7/dist-packages (from requests->transformers) (2.10)\n",
            "Requirement already satisfied: click in /usr/local/lib/python3.7/dist-packages (from sacremoses->transformers) (7.1.2)\n",
            "Requirement already satisfied: six in /usr/local/lib/python3.7/dist-packages (from sacremoses->transformers) (1.15.0)\n",
            "Requirement already satisfied: joblib in /usr/local/lib/python3.7/dist-packages (from sacremoses->transformers) (1.1.0)\n"
          ]
        }
      ]
    },
    {
      "cell_type": "code",
      "execution_count": 3,
      "metadata": {
        "id": "Cp0QFSG6_cGK"
      },
      "outputs": [],
      "source": [
        "#import libraries\n",
        "import os\n",
        "import pandas as pd\n",
        "from time import time\n",
        "import numpy as np\n",
        "from sklearn.metrics import accuracy_score\n",
        "import torch\n",
        "from torch.utils.data import Dataset, DataLoader, TensorDataset, random_split, RandomSampler, SequentialSampler\n",
        "import transformers\n",
        "from transformers import BertConfig, BertForTokenClassification, RobertaTokenizerFast, AutoModelForTokenClassification, AdamW, AutoTokenizer, get_linear_schedule_with_warmup, AutoModel\n",
        "import matplotlib.pyplot as plt\n",
        "import seaborn as sns\n",
        "from sklearn.metrics import f1_score, accuracy_score"
      ]
    },
    {
      "cell_type": "code",
      "source": [
        "transformers.__version__"
      ],
      "metadata": {
        "colab": {
          "base_uri": "https://localhost:8080/",
          "height": 35
        },
        "id": "j3FMsdF8BKrK",
        "outputId": "6720d088-d521-4064-d382-7ff0dbe51306"
      },
      "execution_count": 4,
      "outputs": [
        {
          "output_type": "execute_result",
          "data": {
            "text/plain": [
              "'4.17.0'"
            ],
            "application/vnd.google.colaboratory.intrinsic+json": {
              "type": "string"
            }
          },
          "metadata": {},
          "execution_count": 4
        }
      ]
    },
    {
      "cell_type": "code",
      "source": [
        "from google.colab import drive\n",
        "drive.mount('/content/drive')"
      ],
      "metadata": {
        "colab": {
          "base_uri": "https://localhost:8080/",
          "height": 0
        },
        "id": "8gK2VcUKORz2",
        "outputId": "f95e881d-e0b8-4520-9de4-c55f9bf47a6b"
      },
      "execution_count": 5,
      "outputs": [
        {
          "output_type": "stream",
          "name": "stdout",
          "text": [
            "Drive already mounted at /content/drive; to attempt to forcibly remount, call drive.mount(\"/content/drive\", force_remount=True).\n"
          ]
        }
      ]
    },
    {
      "cell_type": "code",
      "source": [
        "#convert conllu dataset to csv\n",
        "DATASET_SIZE = 3000000\n",
        "start = time()\n",
        "file_path = '/content/drive/MyDrive/NER/nerus_lenta.conllu' #path where your .conllu file is located\n",
        "with open(file_path, 'r', encoding='utf-8') as file:\n",
        "    file_prefix = file_path.split('.')[0] + '_'\n",
        "    doc_id = ''\n",
        "    sent_id = ''\n",
        "    records = list()\n",
        "    for idx, line in enumerate(file):\n",
        "        if idx % 100000 == 0:\n",
        "            print(idx)\n",
        "        if idx == DATASET_SIZE:\n",
        "            break\n",
        "        if len(line) > 1 :\n",
        "            if line[0] == '#':\n",
        "                line = line.split('=')\n",
        "                if 'newdoc' in line[0]:\n",
        "                    doc_id = file_prefix + line[1].strip()\n",
        "                elif 'sent_id' in line[0]:\n",
        "                    sent_id = line[1].strip()\n",
        "            else:\n",
        "                info = line.split('\\t')\n",
        "                if len(info) == 10:\n",
        "                    records.append([doc_id, sent_id] + [x.strip() for x in info])\n",
        "end = time()\n",
        "print(\"Time elapsed:\", end-start, \"seconds\")"
      ],
      "metadata": {
        "colab": {
          "base_uri": "https://localhost:8080/",
          "height": 0
        },
        "id": "NiJdOOPOBb6g",
        "outputId": "9e2cf60c-9ed3-4dcf-89dc-34dfd930fa54"
      },
      "execution_count": 6,
      "outputs": [
        {
          "output_type": "stream",
          "name": "stdout",
          "text": [
            "0\n",
            "100000\n",
            "200000\n",
            "300000\n",
            "400000\n",
            "500000\n",
            "600000\n",
            "700000\n",
            "800000\n",
            "900000\n",
            "1000000\n",
            "1100000\n",
            "1200000\n",
            "1300000\n",
            "1400000\n",
            "1500000\n",
            "1600000\n",
            "1700000\n",
            "1800000\n",
            "1900000\n",
            "2000000\n",
            "2100000\n",
            "2200000\n",
            "2300000\n",
            "2400000\n",
            "2500000\n",
            "2600000\n",
            "2700000\n",
            "2800000\n",
            "2900000\n",
            "3000000\n",
            "Time elapsed: 18.3066828250885 seconds\n"
          ]
        }
      ]
    },
    {
      "cell_type": "code",
      "source": [
        "df = pd.DataFrame(records, columns=['DOC_NO', 'SENT_NO', 'ID', 'FORM','LEMMA','UPOS', 'XPOS', 'FEAT','HEAD', 'DEPREL', 'DEPS', 'MISC'])\n",
        "#rename columns\n",
        "df = df[['SENT_NO', 'FORM', 'UPOS', 'MISC']]\n",
        "df.rename(columns={\"SENT_NO\":\"sentence_id\",\"FORM\":\"words\",\"MISC\":\"Tag\"}, inplace =True)\n",
        "#clear 'Tag' column\n",
        "l = lambda x: x.replace('Tag=', '')\n",
        "df['Tag'] = df['Tag'].apply(l)\n",
        "df.head()"
      ],
      "metadata": {
        "colab": {
          "base_uri": "https://localhost:8080/",
          "height": 293
        },
        "id": "Si7YHC2VrFgH",
        "outputId": "353e76e3-16be-4d49-c259-dba7933029ac"
      },
      "execution_count": 7,
      "outputs": [
        {
          "output_type": "stream",
          "name": "stderr",
          "text": [
            "/usr/local/lib/python3.7/dist-packages/pandas/core/frame.py:5047: SettingWithCopyWarning: \n",
            "A value is trying to be set on a copy of a slice from a DataFrame\n",
            "\n",
            "See the caveats in the documentation: https://pandas.pydata.org/pandas-docs/stable/user_guide/indexing.html#returning-a-view-versus-a-copy\n",
            "  errors=errors,\n"
          ]
        },
        {
          "output_type": "execute_result",
          "data": {
            "text/plain": [
              "  sentence_id         words   UPOS    Tag\n",
              "0         0_0  Вице-премьер   NOUN      O\n",
              "1         0_0            по    ADP      O\n",
              "2         0_0    социальным    ADJ      O\n",
              "3         0_0      вопросам   NOUN      O\n",
              "4         0_0       Татьяна  PROPN  B-PER"
            ],
            "text/html": [
              "\n",
              "  <div id=\"df-3e594ff6-bae9-44c5-b8c6-ed567968623e\">\n",
              "    <div class=\"colab-df-container\">\n",
              "      <div>\n",
              "<style scoped>\n",
              "    .dataframe tbody tr th:only-of-type {\n",
              "        vertical-align: middle;\n",
              "    }\n",
              "\n",
              "    .dataframe tbody tr th {\n",
              "        vertical-align: top;\n",
              "    }\n",
              "\n",
              "    .dataframe thead th {\n",
              "        text-align: right;\n",
              "    }\n",
              "</style>\n",
              "<table border=\"1\" class=\"dataframe\">\n",
              "  <thead>\n",
              "    <tr style=\"text-align: right;\">\n",
              "      <th></th>\n",
              "      <th>sentence_id</th>\n",
              "      <th>words</th>\n",
              "      <th>UPOS</th>\n",
              "      <th>Tag</th>\n",
              "    </tr>\n",
              "  </thead>\n",
              "  <tbody>\n",
              "    <tr>\n",
              "      <th>0</th>\n",
              "      <td>0_0</td>\n",
              "      <td>Вице-премьер</td>\n",
              "      <td>NOUN</td>\n",
              "      <td>O</td>\n",
              "    </tr>\n",
              "    <tr>\n",
              "      <th>1</th>\n",
              "      <td>0_0</td>\n",
              "      <td>по</td>\n",
              "      <td>ADP</td>\n",
              "      <td>O</td>\n",
              "    </tr>\n",
              "    <tr>\n",
              "      <th>2</th>\n",
              "      <td>0_0</td>\n",
              "      <td>социальным</td>\n",
              "      <td>ADJ</td>\n",
              "      <td>O</td>\n",
              "    </tr>\n",
              "    <tr>\n",
              "      <th>3</th>\n",
              "      <td>0_0</td>\n",
              "      <td>вопросам</td>\n",
              "      <td>NOUN</td>\n",
              "      <td>O</td>\n",
              "    </tr>\n",
              "    <tr>\n",
              "      <th>4</th>\n",
              "      <td>0_0</td>\n",
              "      <td>Татьяна</td>\n",
              "      <td>PROPN</td>\n",
              "      <td>B-PER</td>\n",
              "    </tr>\n",
              "  </tbody>\n",
              "</table>\n",
              "</div>\n",
              "      <button class=\"colab-df-convert\" onclick=\"convertToInteractive('df-3e594ff6-bae9-44c5-b8c6-ed567968623e')\"\n",
              "              title=\"Convert this dataframe to an interactive table.\"\n",
              "              style=\"display:none;\">\n",
              "        \n",
              "  <svg xmlns=\"http://www.w3.org/2000/svg\" height=\"24px\"viewBox=\"0 0 24 24\"\n",
              "       width=\"24px\">\n",
              "    <path d=\"M0 0h24v24H0V0z\" fill=\"none\"/>\n",
              "    <path d=\"M18.56 5.44l.94 2.06.94-2.06 2.06-.94-2.06-.94-.94-2.06-.94 2.06-2.06.94zm-11 1L8.5 8.5l.94-2.06 2.06-.94-2.06-.94L8.5 2.5l-.94 2.06-2.06.94zm10 10l.94 2.06.94-2.06 2.06-.94-2.06-.94-.94-2.06-.94 2.06-2.06.94z\"/><path d=\"M17.41 7.96l-1.37-1.37c-.4-.4-.92-.59-1.43-.59-.52 0-1.04.2-1.43.59L10.3 9.45l-7.72 7.72c-.78.78-.78 2.05 0 2.83L4 21.41c.39.39.9.59 1.41.59.51 0 1.02-.2 1.41-.59l7.78-7.78 2.81-2.81c.8-.78.8-2.07 0-2.86zM5.41 20L4 18.59l7.72-7.72 1.47 1.35L5.41 20z\"/>\n",
              "  </svg>\n",
              "      </button>\n",
              "      \n",
              "  <style>\n",
              "    .colab-df-container {\n",
              "      display:flex;\n",
              "      flex-wrap:wrap;\n",
              "      gap: 12px;\n",
              "    }\n",
              "\n",
              "    .colab-df-convert {\n",
              "      background-color: #E8F0FE;\n",
              "      border: none;\n",
              "      border-radius: 50%;\n",
              "      cursor: pointer;\n",
              "      display: none;\n",
              "      fill: #1967D2;\n",
              "      height: 32px;\n",
              "      padding: 0 0 0 0;\n",
              "      width: 32px;\n",
              "    }\n",
              "\n",
              "    .colab-df-convert:hover {\n",
              "      background-color: #E2EBFA;\n",
              "      box-shadow: 0px 1px 2px rgba(60, 64, 67, 0.3), 0px 1px 3px 1px rgba(60, 64, 67, 0.15);\n",
              "      fill: #174EA6;\n",
              "    }\n",
              "\n",
              "    [theme=dark] .colab-df-convert {\n",
              "      background-color: #3B4455;\n",
              "      fill: #D2E3FC;\n",
              "    }\n",
              "\n",
              "    [theme=dark] .colab-df-convert:hover {\n",
              "      background-color: #434B5C;\n",
              "      box-shadow: 0px 1px 3px 1px rgba(0, 0, 0, 0.15);\n",
              "      filter: drop-shadow(0px 1px 2px rgba(0, 0, 0, 0.3));\n",
              "      fill: #FFFFFF;\n",
              "    }\n",
              "  </style>\n",
              "\n",
              "      <script>\n",
              "        const buttonEl =\n",
              "          document.querySelector('#df-3e594ff6-bae9-44c5-b8c6-ed567968623e button.colab-df-convert');\n",
              "        buttonEl.style.display =\n",
              "          google.colab.kernel.accessAllowed ? 'block' : 'none';\n",
              "\n",
              "        async function convertToInteractive(key) {\n",
              "          const element = document.querySelector('#df-3e594ff6-bae9-44c5-b8c6-ed567968623e');\n",
              "          const dataTable =\n",
              "            await google.colab.kernel.invokeFunction('convertToInteractive',\n",
              "                                                     [key], {});\n",
              "          if (!dataTable) return;\n",
              "\n",
              "          const docLinkHtml = 'Like what you see? Visit the ' +\n",
              "            '<a target=\"_blank\" href=https://colab.research.google.com/notebooks/data_table.ipynb>data table notebook</a>'\n",
              "            + ' to learn more about interactive tables.';\n",
              "          element.innerHTML = '';\n",
              "          dataTable['output_type'] = 'display_data';\n",
              "          await google.colab.output.renderOutput(dataTable, element);\n",
              "          const docLink = document.createElement('div');\n",
              "          docLink.innerHTML = docLinkHtml;\n",
              "          element.appendChild(docLink);\n",
              "        }\n",
              "      </script>\n",
              "    </div>\n",
              "  </div>\n",
              "  "
            ]
          },
          "metadata": {},
          "execution_count": 7
        }
      ]
    },
    {
      "cell_type": "code",
      "source": [
        "#create a new column called \"sentence\" which groups the words by sentence \n",
        "df['sentence'] = df[['sentence_id','words','Tag']].groupby(['sentence_id'])['words'].transform(lambda x: ' '.join(x))\n",
        "#create a new column called \"word_labels\" which groups the tags by sentence \n",
        "df['word_labels'] = df[['sentence_id','words','Tag']].groupby(['sentence_id'])['Tag'].transform(lambda x: ','.join(x))\n",
        "df.head()"
      ],
      "metadata": {
        "colab": {
          "base_uri": "https://localhost:8080/",
          "height": 206
        },
        "id": "My9ATcm0XDWV",
        "outputId": "0480a0f8-a9c4-4e1b-8254-478ab0833126"
      },
      "execution_count": 8,
      "outputs": [
        {
          "output_type": "execute_result",
          "data": {
            "text/plain": [
              "  sentence_id         words   UPOS    Tag  \\\n",
              "0         0_0  Вице-премьер   NOUN      O   \n",
              "1         0_0            по    ADP      O   \n",
              "2         0_0    социальным    ADJ      O   \n",
              "3         0_0      вопросам   NOUN      O   \n",
              "4         0_0       Татьяна  PROPN  B-PER   \n",
              "\n",
              "                                            sentence  \\\n",
              "0  Вице-премьер по социальным вопросам Татьяна Го...   \n",
              "1  Вице-премьер по социальным вопросам Татьяна Го...   \n",
              "2  Вице-премьер по социальным вопросам Татьяна Го...   \n",
              "3  Вице-премьер по социальным вопросам Татьяна Го...   \n",
              "4  Вице-премьер по социальным вопросам Татьяна Го...   \n",
              "\n",
              "                                         word_labels  \n",
              "0  O,O,O,O,B-PER,I-PER,O,O,O,O,O,B-LOC,O,O,O,O,O,...  \n",
              "1  O,O,O,O,B-PER,I-PER,O,O,O,O,O,B-LOC,O,O,O,O,O,...  \n",
              "2  O,O,O,O,B-PER,I-PER,O,O,O,O,O,B-LOC,O,O,O,O,O,...  \n",
              "3  O,O,O,O,B-PER,I-PER,O,O,O,O,O,B-LOC,O,O,O,O,O,...  \n",
              "4  O,O,O,O,B-PER,I-PER,O,O,O,O,O,B-LOC,O,O,O,O,O,...  "
            ],
            "text/html": [
              "\n",
              "  <div id=\"df-48615bf9-f9a4-458a-99d7-89b4e9e70d9c\">\n",
              "    <div class=\"colab-df-container\">\n",
              "      <div>\n",
              "<style scoped>\n",
              "    .dataframe tbody tr th:only-of-type {\n",
              "        vertical-align: middle;\n",
              "    }\n",
              "\n",
              "    .dataframe tbody tr th {\n",
              "        vertical-align: top;\n",
              "    }\n",
              "\n",
              "    .dataframe thead th {\n",
              "        text-align: right;\n",
              "    }\n",
              "</style>\n",
              "<table border=\"1\" class=\"dataframe\">\n",
              "  <thead>\n",
              "    <tr style=\"text-align: right;\">\n",
              "      <th></th>\n",
              "      <th>sentence_id</th>\n",
              "      <th>words</th>\n",
              "      <th>UPOS</th>\n",
              "      <th>Tag</th>\n",
              "      <th>sentence</th>\n",
              "      <th>word_labels</th>\n",
              "    </tr>\n",
              "  </thead>\n",
              "  <tbody>\n",
              "    <tr>\n",
              "      <th>0</th>\n",
              "      <td>0_0</td>\n",
              "      <td>Вице-премьер</td>\n",
              "      <td>NOUN</td>\n",
              "      <td>O</td>\n",
              "      <td>Вице-премьер по социальным вопросам Татьяна Го...</td>\n",
              "      <td>O,O,O,O,B-PER,I-PER,O,O,O,O,O,B-LOC,O,O,O,O,O,...</td>\n",
              "    </tr>\n",
              "    <tr>\n",
              "      <th>1</th>\n",
              "      <td>0_0</td>\n",
              "      <td>по</td>\n",
              "      <td>ADP</td>\n",
              "      <td>O</td>\n",
              "      <td>Вице-премьер по социальным вопросам Татьяна Го...</td>\n",
              "      <td>O,O,O,O,B-PER,I-PER,O,O,O,O,O,B-LOC,O,O,O,O,O,...</td>\n",
              "    </tr>\n",
              "    <tr>\n",
              "      <th>2</th>\n",
              "      <td>0_0</td>\n",
              "      <td>социальным</td>\n",
              "      <td>ADJ</td>\n",
              "      <td>O</td>\n",
              "      <td>Вице-премьер по социальным вопросам Татьяна Го...</td>\n",
              "      <td>O,O,O,O,B-PER,I-PER,O,O,O,O,O,B-LOC,O,O,O,O,O,...</td>\n",
              "    </tr>\n",
              "    <tr>\n",
              "      <th>3</th>\n",
              "      <td>0_0</td>\n",
              "      <td>вопросам</td>\n",
              "      <td>NOUN</td>\n",
              "      <td>O</td>\n",
              "      <td>Вице-премьер по социальным вопросам Татьяна Го...</td>\n",
              "      <td>O,O,O,O,B-PER,I-PER,O,O,O,O,O,B-LOC,O,O,O,O,O,...</td>\n",
              "    </tr>\n",
              "    <tr>\n",
              "      <th>4</th>\n",
              "      <td>0_0</td>\n",
              "      <td>Татьяна</td>\n",
              "      <td>PROPN</td>\n",
              "      <td>B-PER</td>\n",
              "      <td>Вице-премьер по социальным вопросам Татьяна Го...</td>\n",
              "      <td>O,O,O,O,B-PER,I-PER,O,O,O,O,O,B-LOC,O,O,O,O,O,...</td>\n",
              "    </tr>\n",
              "  </tbody>\n",
              "</table>\n",
              "</div>\n",
              "      <button class=\"colab-df-convert\" onclick=\"convertToInteractive('df-48615bf9-f9a4-458a-99d7-89b4e9e70d9c')\"\n",
              "              title=\"Convert this dataframe to an interactive table.\"\n",
              "              style=\"display:none;\">\n",
              "        \n",
              "  <svg xmlns=\"http://www.w3.org/2000/svg\" height=\"24px\"viewBox=\"0 0 24 24\"\n",
              "       width=\"24px\">\n",
              "    <path d=\"M0 0h24v24H0V0z\" fill=\"none\"/>\n",
              "    <path d=\"M18.56 5.44l.94 2.06.94-2.06 2.06-.94-2.06-.94-.94-2.06-.94 2.06-2.06.94zm-11 1L8.5 8.5l.94-2.06 2.06-.94-2.06-.94L8.5 2.5l-.94 2.06-2.06.94zm10 10l.94 2.06.94-2.06 2.06-.94-2.06-.94-.94-2.06-.94 2.06-2.06.94z\"/><path d=\"M17.41 7.96l-1.37-1.37c-.4-.4-.92-.59-1.43-.59-.52 0-1.04.2-1.43.59L10.3 9.45l-7.72 7.72c-.78.78-.78 2.05 0 2.83L4 21.41c.39.39.9.59 1.41.59.51 0 1.02-.2 1.41-.59l7.78-7.78 2.81-2.81c.8-.78.8-2.07 0-2.86zM5.41 20L4 18.59l7.72-7.72 1.47 1.35L5.41 20z\"/>\n",
              "  </svg>\n",
              "      </button>\n",
              "      \n",
              "  <style>\n",
              "    .colab-df-container {\n",
              "      display:flex;\n",
              "      flex-wrap:wrap;\n",
              "      gap: 12px;\n",
              "    }\n",
              "\n",
              "    .colab-df-convert {\n",
              "      background-color: #E8F0FE;\n",
              "      border: none;\n",
              "      border-radius: 50%;\n",
              "      cursor: pointer;\n",
              "      display: none;\n",
              "      fill: #1967D2;\n",
              "      height: 32px;\n",
              "      padding: 0 0 0 0;\n",
              "      width: 32px;\n",
              "    }\n",
              "\n",
              "    .colab-df-convert:hover {\n",
              "      background-color: #E2EBFA;\n",
              "      box-shadow: 0px 1px 2px rgba(60, 64, 67, 0.3), 0px 1px 3px 1px rgba(60, 64, 67, 0.15);\n",
              "      fill: #174EA6;\n",
              "    }\n",
              "\n",
              "    [theme=dark] .colab-df-convert {\n",
              "      background-color: #3B4455;\n",
              "      fill: #D2E3FC;\n",
              "    }\n",
              "\n",
              "    [theme=dark] .colab-df-convert:hover {\n",
              "      background-color: #434B5C;\n",
              "      box-shadow: 0px 1px 3px 1px rgba(0, 0, 0, 0.15);\n",
              "      filter: drop-shadow(0px 1px 2px rgba(0, 0, 0, 0.3));\n",
              "      fill: #FFFFFF;\n",
              "    }\n",
              "  </style>\n",
              "\n",
              "      <script>\n",
              "        const buttonEl =\n",
              "          document.querySelector('#df-48615bf9-f9a4-458a-99d7-89b4e9e70d9c button.colab-df-convert');\n",
              "        buttonEl.style.display =\n",
              "          google.colab.kernel.accessAllowed ? 'block' : 'none';\n",
              "\n",
              "        async function convertToInteractive(key) {\n",
              "          const element = document.querySelector('#df-48615bf9-f9a4-458a-99d7-89b4e9e70d9c');\n",
              "          const dataTable =\n",
              "            await google.colab.kernel.invokeFunction('convertToInteractive',\n",
              "                                                     [key], {});\n",
              "          if (!dataTable) return;\n",
              "\n",
              "          const docLinkHtml = 'Like what you see? Visit the ' +\n",
              "            '<a target=\"_blank\" href=https://colab.research.google.com/notebooks/data_table.ipynb>data table notebook</a>'\n",
              "            + ' to learn more about interactive tables.';\n",
              "          element.innerHTML = '';\n",
              "          dataTable['output_type'] = 'display_data';\n",
              "          await google.colab.output.renderOutput(dataTable, element);\n",
              "          const docLink = document.createElement('div');\n",
              "          docLink.innerHTML = docLinkHtml;\n",
              "          element.appendChild(docLink);\n",
              "        }\n",
              "      </script>\n",
              "    </div>\n",
              "  </div>\n",
              "  "
            ]
          },
          "metadata": {},
          "execution_count": 8
        }
      ]
    },
    {
      "cell_type": "code",
      "source": [
        "#create dictionaries\n",
        "labels_to_ids = {k: v for v, k in enumerate(df.Tag.unique())}\n",
        "ids_to_labels = {v: k for v, k in enumerate(df.Tag.unique())}\n",
        "labels_to_ids"
      ],
      "metadata": {
        "colab": {
          "base_uri": "https://localhost:8080/",
          "height": 0
        },
        "id": "7TKlgf72XDe5",
        "outputId": "5c4a1713-68c8-478c-872c-2d37ec5d1131"
      },
      "execution_count": 9,
      "outputs": [
        {
          "output_type": "execute_result",
          "data": {
            "text/plain": [
              "{'B-LOC': 3,\n",
              " 'B-ORG': 4,\n",
              " 'B-PER': 1,\n",
              " 'I-LOC': 6,\n",
              " 'I-ORG': 5,\n",
              " 'I-PER': 2,\n",
              " 'O': 0}"
            ]
          },
          "metadata": {},
          "execution_count": 9
        }
      ]
    },
    {
      "cell_type": "code",
      "source": [
        "#create data\n",
        "data = df[[\"sentence\", \"word_labels\"]].drop_duplicates().reset_index(drop=True)\n",
        "data.head()"
      ],
      "metadata": {
        "colab": {
          "base_uri": "https://localhost:8080/",
          "height": 206
        },
        "id": "mAkcPCxuXOL7",
        "outputId": "55a3b4f9-0afd-4312-9f18-0a61a3845cc5"
      },
      "execution_count": 10,
      "outputs": [
        {
          "output_type": "execute_result",
          "data": {
            "text/plain": [
              "                                            sentence  \\\n",
              "0  Вице-премьер по социальным вопросам Татьяна Го...   \n",
              "1  По словам Голиковой , чаще всего онкологически...   \n",
              "2  Вице-премьер напомнила , что главные факторы с...   \n",
              "3  В начале года стало известно , что смертность ...   \n",
              "4  По данным Росстата , в 2017 году от рака умерл...   \n",
              "\n",
              "                                         word_labels  \n",
              "0  O,O,O,O,B-PER,I-PER,O,O,O,O,O,B-LOC,O,O,O,O,O,...  \n",
              "1  O,O,B-PER,O,O,O,O,O,O,O,O,O,B-LOC,O,B-LOC,O,B-...  \n",
              "2                O,O,O,O,O,O,O,O,B-LOC,O,O,O,O,O,O,O  \n",
              "3              O,O,O,O,O,O,O,O,O,O,O,O,O,O,O,O,O,O,O  \n",
              "4                    O,O,B-ORG,O,O,O,O,O,O,O,O,O,O,O  "
            ],
            "text/html": [
              "\n",
              "  <div id=\"df-7d75d9ba-ac14-40ce-af80-9eb44fe5ba67\">\n",
              "    <div class=\"colab-df-container\">\n",
              "      <div>\n",
              "<style scoped>\n",
              "    .dataframe tbody tr th:only-of-type {\n",
              "        vertical-align: middle;\n",
              "    }\n",
              "\n",
              "    .dataframe tbody tr th {\n",
              "        vertical-align: top;\n",
              "    }\n",
              "\n",
              "    .dataframe thead th {\n",
              "        text-align: right;\n",
              "    }\n",
              "</style>\n",
              "<table border=\"1\" class=\"dataframe\">\n",
              "  <thead>\n",
              "    <tr style=\"text-align: right;\">\n",
              "      <th></th>\n",
              "      <th>sentence</th>\n",
              "      <th>word_labels</th>\n",
              "    </tr>\n",
              "  </thead>\n",
              "  <tbody>\n",
              "    <tr>\n",
              "      <th>0</th>\n",
              "      <td>Вице-премьер по социальным вопросам Татьяна Го...</td>\n",
              "      <td>O,O,O,O,B-PER,I-PER,O,O,O,O,O,B-LOC,O,O,O,O,O,...</td>\n",
              "    </tr>\n",
              "    <tr>\n",
              "      <th>1</th>\n",
              "      <td>По словам Голиковой , чаще всего онкологически...</td>\n",
              "      <td>O,O,B-PER,O,O,O,O,O,O,O,O,O,B-LOC,O,B-LOC,O,B-...</td>\n",
              "    </tr>\n",
              "    <tr>\n",
              "      <th>2</th>\n",
              "      <td>Вице-премьер напомнила , что главные факторы с...</td>\n",
              "      <td>O,O,O,O,O,O,O,O,B-LOC,O,O,O,O,O,O,O</td>\n",
              "    </tr>\n",
              "    <tr>\n",
              "      <th>3</th>\n",
              "      <td>В начале года стало известно , что смертность ...</td>\n",
              "      <td>O,O,O,O,O,O,O,O,O,O,O,O,O,O,O,O,O,O,O</td>\n",
              "    </tr>\n",
              "    <tr>\n",
              "      <th>4</th>\n",
              "      <td>По данным Росстата , в 2017 году от рака умерл...</td>\n",
              "      <td>O,O,B-ORG,O,O,O,O,O,O,O,O,O,O,O</td>\n",
              "    </tr>\n",
              "  </tbody>\n",
              "</table>\n",
              "</div>\n",
              "      <button class=\"colab-df-convert\" onclick=\"convertToInteractive('df-7d75d9ba-ac14-40ce-af80-9eb44fe5ba67')\"\n",
              "              title=\"Convert this dataframe to an interactive table.\"\n",
              "              style=\"display:none;\">\n",
              "        \n",
              "  <svg xmlns=\"http://www.w3.org/2000/svg\" height=\"24px\"viewBox=\"0 0 24 24\"\n",
              "       width=\"24px\">\n",
              "    <path d=\"M0 0h24v24H0V0z\" fill=\"none\"/>\n",
              "    <path d=\"M18.56 5.44l.94 2.06.94-2.06 2.06-.94-2.06-.94-.94-2.06-.94 2.06-2.06.94zm-11 1L8.5 8.5l.94-2.06 2.06-.94-2.06-.94L8.5 2.5l-.94 2.06-2.06.94zm10 10l.94 2.06.94-2.06 2.06-.94-2.06-.94-.94-2.06-.94 2.06-2.06.94z\"/><path d=\"M17.41 7.96l-1.37-1.37c-.4-.4-.92-.59-1.43-.59-.52 0-1.04.2-1.43.59L10.3 9.45l-7.72 7.72c-.78.78-.78 2.05 0 2.83L4 21.41c.39.39.9.59 1.41.59.51 0 1.02-.2 1.41-.59l7.78-7.78 2.81-2.81c.8-.78.8-2.07 0-2.86zM5.41 20L4 18.59l7.72-7.72 1.47 1.35L5.41 20z\"/>\n",
              "  </svg>\n",
              "      </button>\n",
              "      \n",
              "  <style>\n",
              "    .colab-df-container {\n",
              "      display:flex;\n",
              "      flex-wrap:wrap;\n",
              "      gap: 12px;\n",
              "    }\n",
              "\n",
              "    .colab-df-convert {\n",
              "      background-color: #E8F0FE;\n",
              "      border: none;\n",
              "      border-radius: 50%;\n",
              "      cursor: pointer;\n",
              "      display: none;\n",
              "      fill: #1967D2;\n",
              "      height: 32px;\n",
              "      padding: 0 0 0 0;\n",
              "      width: 32px;\n",
              "    }\n",
              "\n",
              "    .colab-df-convert:hover {\n",
              "      background-color: #E2EBFA;\n",
              "      box-shadow: 0px 1px 2px rgba(60, 64, 67, 0.3), 0px 1px 3px 1px rgba(60, 64, 67, 0.15);\n",
              "      fill: #174EA6;\n",
              "    }\n",
              "\n",
              "    [theme=dark] .colab-df-convert {\n",
              "      background-color: #3B4455;\n",
              "      fill: #D2E3FC;\n",
              "    }\n",
              "\n",
              "    [theme=dark] .colab-df-convert:hover {\n",
              "      background-color: #434B5C;\n",
              "      box-shadow: 0px 1px 3px 1px rgba(0, 0, 0, 0.15);\n",
              "      filter: drop-shadow(0px 1px 2px rgba(0, 0, 0, 0.3));\n",
              "      fill: #FFFFFF;\n",
              "    }\n",
              "  </style>\n",
              "\n",
              "      <script>\n",
              "        const buttonEl =\n",
              "          document.querySelector('#df-7d75d9ba-ac14-40ce-af80-9eb44fe5ba67 button.colab-df-convert');\n",
              "        buttonEl.style.display =\n",
              "          google.colab.kernel.accessAllowed ? 'block' : 'none';\n",
              "\n",
              "        async function convertToInteractive(key) {\n",
              "          const element = document.querySelector('#df-7d75d9ba-ac14-40ce-af80-9eb44fe5ba67');\n",
              "          const dataTable =\n",
              "            await google.colab.kernel.invokeFunction('convertToInteractive',\n",
              "                                                     [key], {});\n",
              "          if (!dataTable) return;\n",
              "\n",
              "          const docLinkHtml = 'Like what you see? Visit the ' +\n",
              "            '<a target=\"_blank\" href=https://colab.research.google.com/notebooks/data_table.ipynb>data table notebook</a>'\n",
              "            + ' to learn more about interactive tables.';\n",
              "          element.innerHTML = '';\n",
              "          dataTable['output_type'] = 'display_data';\n",
              "          await google.colab.output.renderOutput(dataTable, element);\n",
              "          const docLink = document.createElement('div');\n",
              "          docLink.innerHTML = docLinkHtml;\n",
              "          element.appendChild(docLink);\n",
              "        }\n",
              "      </script>\n",
              "    </div>\n",
              "  </div>\n",
              "  "
            ]
          },
          "metadata": {},
          "execution_count": 10
        }
      ]
    },
    {
      "cell_type": "code",
      "source": [
        "data.sentence[14][:300]"
      ],
      "metadata": {
        "colab": {
          "base_uri": "https://localhost:8080/",
          "height": 35
        },
        "id": "z9zOrAvdkE0a",
        "outputId": "092bf744-a60b-41f2-b141-cdfb1f1721be"
      },
      "execution_count": 11,
      "outputs": [
        {
          "output_type": "execute_result",
          "data": {
            "text/plain": [
              "'Биатлонисту Антону Шипулину , также попавшему в список , полиция нанесла отдельный визит : сейчас он тренируется отдельно в австрийском Обертиллахе .'"
            ],
            "application/vnd.google.colaboratory.intrinsic+json": {
              "type": "string"
            }
          },
          "metadata": {},
          "execution_count": 11
        }
      ]
    },
    {
      "cell_type": "code",
      "source": [
        "print(len(data))\n",
        "print(data.iloc[41].sentence)\n",
        "print(data.iloc[41].word_labels)"
      ],
      "metadata": {
        "colab": {
          "base_uri": "https://localhost:8080/",
          "height": 0
        },
        "id": "g6DOxlbSXOOp",
        "outputId": "99ec942c-97c0-428d-cc57-dd501d5ef73f"
      },
      "execution_count": 12,
      "outputs": [
        {
          "output_type": "stream",
          "name": "stdout",
          "text": [
            "131227\n",
            "Согласно документам , в 2014 году Доннелли выдвинул ряд предложений британским властям в связи с ситуацией в Крыму .\n",
            "O,O,O,O,O,O,B-PER,O,O,O,O,O,O,O,O,O,O,B-LOC,O\n"
          ]
        }
      ]
    },
    {
      "cell_type": "markdown",
      "source": [
        "## Preparing dataloader"
      ],
      "metadata": {
        "id": "ZNmxX6TZXmiN"
      }
    },
    {
      "cell_type": "code",
      "source": [
        "tokenizer = AutoTokenizer.from_pretrained(\"cointegrated/rubert-tiny\")"
      ],
      "metadata": {
        "id": "vrCRACOXXOQ_"
      },
      "execution_count": 13,
      "outputs": []
    },
    {
      "cell_type": "code",
      "source": [
        "dataset = {}\n",
        "# all sentences list\n",
        "sentences = list(data.sentence)\n",
        "sentences = [sentence.split() for sentence in sentences]\n",
        "# all labels list\n",
        "labels = list(data.word_labels)\n",
        "labels = [lable.split(',') for lable in labels]\n",
        "\n",
        "\n",
        "MAX_LEN = 300\n",
        "\n",
        "def labels_to_number(labeled_list: list, labels_to_ids: dict, max_length) -> list:\n",
        "    \"\"\"\n",
        "    input: list of labels ['O','O','O','B-PER','I-PER','O','O','B-LOC']\n",
        "    output: list of labels numbers [0, 0, 0, 1, ...] with padding\n",
        "    \"\"\"\n",
        "    new_labels = [0 for _ in range(max_length)]\n",
        "    labeled_list = labeled_list if len(labeled_list) <= max_length else labeled_list[:max_length]\n",
        "    for idx in range(len(labeled_list)):\n",
        "        new_labels[idx] = labels_to_ids[labeled_list[idx]]\n",
        "    return new_labels\n",
        "\n",
        "def tokenize(sentence: list, tokenizer, max_length):\n",
        "    \"\"\"\n",
        "    input: one sentence ['some', 'sentence', 'here'];\n",
        "    output: tokens_ids - tensor([1234, 23, 3241]), \n",
        "            attention_mask -  tensor([1, 1, 1, 1, 1, 1, 1, 1, 0,]),\n",
        "            bert_tokens - ['what', 'both', 'al', 'pac', '##ino', 'and', 'robert', 'den'].\n",
        "    \"\"\"\n",
        "    tokens_ids = []\n",
        "    attention_mask = []\n",
        "    bert_tokens = []\n",
        "    tokenized_input = tokenizer(sentence,\n",
        "                                add_special_tokens = True,\n",
        "                                truncation = True,\n",
        "                                max_length = max_length,           \n",
        "                                pad_to_max_length = True,\n",
        "                                return_attention_mask = True,   \n",
        "                                return_tensors = 'pt',\n",
        "                                is_split_into_words=True\n",
        "                               )\n",
        "    \n",
        "    tokens_ids = tokenized_input['input_ids'][0]\n",
        "    attention_mask = tokenized_input['attention_mask'][0]\n",
        "    bert_tokens = tokenizer.convert_ids_to_tokens(tokenized_input[\"input_ids\"][0])\n",
        "    return tokens_ids, attention_mask, bert_tokens\n"
      ],
      "metadata": {
        "id": "hcDCtb7XXOVj"
      },
      "execution_count": 14,
      "outputs": []
    },
    {
      "cell_type": "code",
      "source": [
        "# lists of bert tokens\n",
        "bert_tokens = []\n",
        "#tokens ids\n",
        "tokens_ids = []\n",
        "# new int labels\n",
        "new_labels = []\n",
        "# attention masks\n",
        "attentions_masks = []\n",
        "# tokenize each sentence \n",
        "for sentence in sentences:\n",
        "    token_id, attention_mask, bert_token = tokenize(sentence, tokenizer, MAX_LEN)\n",
        "    tokens_ids.append(token_id)\n",
        "    attentions_masks.append(attention_mask)\n",
        "    bert_tokens.append(bert_token)\n",
        "for label in labels:\n",
        "    new_label = labels_to_number(label, labels_to_ids, MAX_LEN)\n",
        "    new_labels.append(new_label)"
      ],
      "metadata": {
        "colab": {
          "base_uri": "https://localhost:8080/",
          "height": 0
        },
        "id": "REaRwU4FXOX9",
        "outputId": "024f78db-5bed-4c48-ae42-5f58d10408cc"
      },
      "execution_count": 15,
      "outputs": [
        {
          "output_type": "stream",
          "name": "stderr",
          "text": [
            "/usr/local/lib/python3.7/dist-packages/transformers/tokenization_utils_base.py:2277: FutureWarning: The `pad_to_max_length` argument is deprecated and will be removed in a future version, use `padding=True` or `padding='longest'` to pad to the longest sequence in the batch, or use `padding='max_length'` to pad to a max length. In this case, you can give a specific length with `max_length` (e.g. `max_length=45`) or leave max_length to None to pad to the maximal input size of the model (e.g. 512 for Bert).\n",
            "  FutureWarning,\n"
          ]
        }
      ]
    },
    {
      "cell_type": "code",
      "source": [
        "print(\"Bert tokens: \", bert_tokens[0])\n",
        "print(\"Tokens ids: \", tokens_ids[0])\n",
        "print(\"New labels: \", new_labels[0])\n",
        "print(\"Attantion mask: \", attentions_masks[0])"
      ],
      "metadata": {
        "colab": {
          "base_uri": "https://localhost:8080/",
          "height": 0
        },
        "id": "iOS9SIgIXOaj",
        "outputId": "5ba544cc-8d0b-449f-e1fc-85073d8219c7"
      },
      "execution_count": 16,
      "outputs": [
        {
          "output_type": "stream",
          "name": "stdout",
          "text": [
            "Bert tokens:  ['[CLS]', 'В', '##ице', '-', 'премьер', 'по', 'со', '##циальным', 'вопросам', 'Татьяна', 'Г', '##оли', '##кова', 'р', '##ассказ', '##ала', ',', 'в', 'как', '##их', 'региона', '##х', 'России', 'за', '##фи', '##кс', '##ирован', '##а', 'наиболее', 'вы', '##сок', '##ая', 'см', '##ерт', '##ность', 'от', 'рака', ',', 'со', '##об', '##щает', 'Р', '##И', '##А', 'Ново', '##сти', '.', '[SEP]', '[PAD]', '[PAD]', '[PAD]', '[PAD]', '[PAD]', '[PAD]', '[PAD]', '[PAD]', '[PAD]', '[PAD]', '[PAD]', '[PAD]', '[PAD]', '[PAD]', '[PAD]', '[PAD]', '[PAD]', '[PAD]', '[PAD]', '[PAD]', '[PAD]', '[PAD]', '[PAD]', '[PAD]', '[PAD]', '[PAD]', '[PAD]', '[PAD]', '[PAD]', '[PAD]', '[PAD]', '[PAD]', '[PAD]', '[PAD]', '[PAD]', '[PAD]', '[PAD]', '[PAD]', '[PAD]', '[PAD]', '[PAD]', '[PAD]', '[PAD]', '[PAD]', '[PAD]', '[PAD]', '[PAD]', '[PAD]', '[PAD]', '[PAD]', '[PAD]', '[PAD]', '[PAD]', '[PAD]', '[PAD]', '[PAD]', '[PAD]', '[PAD]', '[PAD]', '[PAD]', '[PAD]', '[PAD]', '[PAD]', '[PAD]', '[PAD]', '[PAD]', '[PAD]', '[PAD]', '[PAD]', '[PAD]', '[PAD]', '[PAD]', '[PAD]', '[PAD]', '[PAD]', '[PAD]', '[PAD]', '[PAD]', '[PAD]', '[PAD]', '[PAD]', '[PAD]', '[PAD]', '[PAD]', '[PAD]', '[PAD]', '[PAD]', '[PAD]', '[PAD]', '[PAD]', '[PAD]', '[PAD]', '[PAD]', '[PAD]', '[PAD]', '[PAD]', '[PAD]', '[PAD]', '[PAD]', '[PAD]', '[PAD]', '[PAD]', '[PAD]', '[PAD]', '[PAD]', '[PAD]', '[PAD]', '[PAD]', '[PAD]', '[PAD]', '[PAD]', '[PAD]', '[PAD]', '[PAD]', '[PAD]', '[PAD]', '[PAD]', '[PAD]', '[PAD]', '[PAD]', '[PAD]', '[PAD]', '[PAD]', '[PAD]', '[PAD]', '[PAD]', '[PAD]', '[PAD]', '[PAD]', '[PAD]', '[PAD]', '[PAD]', '[PAD]', '[PAD]', '[PAD]', '[PAD]', '[PAD]', '[PAD]', '[PAD]', '[PAD]', '[PAD]', '[PAD]', '[PAD]', '[PAD]', '[PAD]', '[PAD]', '[PAD]', '[PAD]', '[PAD]', '[PAD]', '[PAD]', '[PAD]', '[PAD]', '[PAD]', '[PAD]', '[PAD]', '[PAD]', '[PAD]', '[PAD]', '[PAD]', '[PAD]', '[PAD]', '[PAD]', '[PAD]', '[PAD]', '[PAD]', '[PAD]', '[PAD]', '[PAD]', '[PAD]', '[PAD]', '[PAD]', '[PAD]', '[PAD]', '[PAD]', '[PAD]', '[PAD]', '[PAD]', '[PAD]', '[PAD]', '[PAD]', '[PAD]', '[PAD]', '[PAD]', '[PAD]', '[PAD]', '[PAD]', '[PAD]', '[PAD]', '[PAD]', '[PAD]', '[PAD]', '[PAD]', '[PAD]', '[PAD]', '[PAD]', '[PAD]', '[PAD]', '[PAD]', '[PAD]', '[PAD]', '[PAD]', '[PAD]', '[PAD]', '[PAD]', '[PAD]', '[PAD]', '[PAD]', '[PAD]', '[PAD]', '[PAD]', '[PAD]', '[PAD]', '[PAD]', '[PAD]', '[PAD]', '[PAD]', '[PAD]', '[PAD]', '[PAD]', '[PAD]', '[PAD]', '[PAD]', '[PAD]', '[PAD]', '[PAD]', '[PAD]', '[PAD]', '[PAD]', '[PAD]', '[PAD]', '[PAD]', '[PAD]', '[PAD]', '[PAD]', '[PAD]', '[PAD]', '[PAD]', '[PAD]', '[PAD]', '[PAD]', '[PAD]', '[PAD]', '[PAD]', '[PAD]', '[PAD]', '[PAD]', '[PAD]', '[PAD]', '[PAD]', '[PAD]', '[PAD]']\n",
            "Tokens ids:  tensor([    2,   282, 12702,    17, 16414,   705,  1154, 22232, 20265, 23530,\n",
            "          283, 13633,  5812,   328, 26512,  3683,    16,   314,  1150,  2395,\n",
            "        15107,   753,  1928,   650,  8243,  5179, 23176,   603,  8379, 26629,\n",
            "        14354,  3261,  4159, 25800,  4420,   733, 23336,    16,  1154, 10658,\n",
            "        13325,   296,  8759,  4292, 23020,  1948,    18,     3,     0,     0,\n",
            "            0,     0,     0,     0,     0,     0,     0,     0,     0,     0,\n",
            "            0,     0,     0,     0,     0,     0,     0,     0,     0,     0,\n",
            "            0,     0,     0,     0,     0,     0,     0,     0,     0,     0,\n",
            "            0,     0,     0,     0,     0,     0,     0,     0,     0,     0,\n",
            "            0,     0,     0,     0,     0,     0,     0,     0,     0,     0,\n",
            "            0,     0,     0,     0,     0,     0,     0,     0,     0,     0,\n",
            "            0,     0,     0,     0,     0,     0,     0,     0,     0,     0,\n",
            "            0,     0,     0,     0,     0,     0,     0,     0,     0,     0,\n",
            "            0,     0,     0,     0,     0,     0,     0,     0,     0,     0,\n",
            "            0,     0,     0,     0,     0,     0,     0,     0,     0,     0,\n",
            "            0,     0,     0,     0,     0,     0,     0,     0,     0,     0,\n",
            "            0,     0,     0,     0,     0,     0,     0,     0,     0,     0,\n",
            "            0,     0,     0,     0,     0,     0,     0,     0,     0,     0,\n",
            "            0,     0,     0,     0,     0,     0,     0,     0,     0,     0,\n",
            "            0,     0,     0,     0,     0,     0,     0,     0,     0,     0,\n",
            "            0,     0,     0,     0,     0,     0,     0,     0,     0,     0,\n",
            "            0,     0,     0,     0,     0,     0,     0,     0,     0,     0,\n",
            "            0,     0,     0,     0,     0,     0,     0,     0,     0,     0,\n",
            "            0,     0,     0,     0,     0,     0,     0,     0,     0,     0,\n",
            "            0,     0,     0,     0,     0,     0,     0,     0,     0,     0,\n",
            "            0,     0,     0,     0,     0,     0,     0,     0,     0,     0,\n",
            "            0,     0,     0,     0,     0,     0,     0,     0,     0,     0,\n",
            "            0,     0,     0,     0,     0,     0,     0,     0,     0,     0,\n",
            "            0,     0,     0,     0,     0,     0,     0,     0,     0,     0,\n",
            "            0,     0,     0,     0,     0,     0,     0,     0,     0,     0])\n",
            "New labels:  [0, 0, 0, 0, 1, 2, 0, 0, 0, 0, 0, 3, 0, 0, 0, 0, 0, 0, 0, 0, 4, 5, 0, 0, 0, 0, 0, 0, 0, 0, 0, 0, 0, 0, 0, 0, 0, 0, 0, 0, 0, 0, 0, 0, 0, 0, 0, 0, 0, 0, 0, 0, 0, 0, 0, 0, 0, 0, 0, 0, 0, 0, 0, 0, 0, 0, 0, 0, 0, 0, 0, 0, 0, 0, 0, 0, 0, 0, 0, 0, 0, 0, 0, 0, 0, 0, 0, 0, 0, 0, 0, 0, 0, 0, 0, 0, 0, 0, 0, 0, 0, 0, 0, 0, 0, 0, 0, 0, 0, 0, 0, 0, 0, 0, 0, 0, 0, 0, 0, 0, 0, 0, 0, 0, 0, 0, 0, 0, 0, 0, 0, 0, 0, 0, 0, 0, 0, 0, 0, 0, 0, 0, 0, 0, 0, 0, 0, 0, 0, 0, 0, 0, 0, 0, 0, 0, 0, 0, 0, 0, 0, 0, 0, 0, 0, 0, 0, 0, 0, 0, 0, 0, 0, 0, 0, 0, 0, 0, 0, 0, 0, 0, 0, 0, 0, 0, 0, 0, 0, 0, 0, 0, 0, 0, 0, 0, 0, 0, 0, 0, 0, 0, 0, 0, 0, 0, 0, 0, 0, 0, 0, 0, 0, 0, 0, 0, 0, 0, 0, 0, 0, 0, 0, 0, 0, 0, 0, 0, 0, 0, 0, 0, 0, 0, 0, 0, 0, 0, 0, 0, 0, 0, 0, 0, 0, 0, 0, 0, 0, 0, 0, 0, 0, 0, 0, 0, 0, 0, 0, 0, 0, 0, 0, 0, 0, 0, 0, 0, 0, 0, 0, 0, 0, 0, 0, 0, 0, 0, 0, 0, 0, 0, 0, 0, 0, 0, 0, 0, 0, 0, 0, 0, 0, 0, 0, 0, 0, 0, 0, 0]\n",
            "Attantion mask:  tensor([1, 1, 1, 1, 1, 1, 1, 1, 1, 1, 1, 1, 1, 1, 1, 1, 1, 1, 1, 1, 1, 1, 1, 1,\n",
            "        1, 1, 1, 1, 1, 1, 1, 1, 1, 1, 1, 1, 1, 1, 1, 1, 1, 1, 1, 1, 1, 1, 1, 1,\n",
            "        0, 0, 0, 0, 0, 0, 0, 0, 0, 0, 0, 0, 0, 0, 0, 0, 0, 0, 0, 0, 0, 0, 0, 0,\n",
            "        0, 0, 0, 0, 0, 0, 0, 0, 0, 0, 0, 0, 0, 0, 0, 0, 0, 0, 0, 0, 0, 0, 0, 0,\n",
            "        0, 0, 0, 0, 0, 0, 0, 0, 0, 0, 0, 0, 0, 0, 0, 0, 0, 0, 0, 0, 0, 0, 0, 0,\n",
            "        0, 0, 0, 0, 0, 0, 0, 0, 0, 0, 0, 0, 0, 0, 0, 0, 0, 0, 0, 0, 0, 0, 0, 0,\n",
            "        0, 0, 0, 0, 0, 0, 0, 0, 0, 0, 0, 0, 0, 0, 0, 0, 0, 0, 0, 0, 0, 0, 0, 0,\n",
            "        0, 0, 0, 0, 0, 0, 0, 0, 0, 0, 0, 0, 0, 0, 0, 0, 0, 0, 0, 0, 0, 0, 0, 0,\n",
            "        0, 0, 0, 0, 0, 0, 0, 0, 0, 0, 0, 0, 0, 0, 0, 0, 0, 0, 0, 0, 0, 0, 0, 0,\n",
            "        0, 0, 0, 0, 0, 0, 0, 0, 0, 0, 0, 0, 0, 0, 0, 0, 0, 0, 0, 0, 0, 0, 0, 0,\n",
            "        0, 0, 0, 0, 0, 0, 0, 0, 0, 0, 0, 0, 0, 0, 0, 0, 0, 0, 0, 0, 0, 0, 0, 0,\n",
            "        0, 0, 0, 0, 0, 0, 0, 0, 0, 0, 0, 0, 0, 0, 0, 0, 0, 0, 0, 0, 0, 0, 0, 0,\n",
            "        0, 0, 0, 0, 0, 0, 0, 0, 0, 0, 0, 0])\n"
          ]
        }
      ]
    },
    {
      "cell_type": "markdown",
      "source": [
        "## Convert input_ids, attentions_masks and new_labels to TensorDataset"
      ],
      "metadata": {
        "id": "Js2A_Cl3cOC2"
      }
    },
    {
      "cell_type": "code",
      "source": [
        "pt_input_ids = torch.stack(tokens_ids, dim=0)\n",
        "\n",
        "pt_attention_masks = torch.stack(attentions_masks, dim=0)\n",
        "\n",
        "pt_labels = torch.tensor(new_labels, dtype=torch.long)"
      ],
      "metadata": {
        "id": "SJMkLIUob7k0"
      },
      "execution_count": 17,
      "outputs": []
    },
    {
      "cell_type": "code",
      "source": [
        "# Combine the training inputs into a TensorDataset.\n",
        "dataset = TensorDataset(pt_input_ids, pt_attention_masks, pt_labels)\n",
        "\n",
        "# Create a 90-10 train-validation split.\n",
        "train_size = int(0.9 * len(dataset))\n",
        "val_size = len(dataset) - train_size\n",
        "\n",
        "# Divide the dataset by randomly selecting samples.\n",
        "train_dataset, val_dataset = random_split(dataset, [train_size, val_size])\n",
        "\n",
        "print('{:>5,} training samples'.format(train_size))\n",
        "print('{:>5,} validation samples'.format(val_size))"
      ],
      "metadata": {
        "colab": {
          "base_uri": "https://localhost:8080/",
          "height": 0
        },
        "id": "f2CdccITcQ3r",
        "outputId": "7e7ac3d9-aa65-4cbf-e6d3-e75fb1ed777c"
      },
      "execution_count": 18,
      "outputs": [
        {
          "output_type": "stream",
          "name": "stdout",
          "text": [
            "118,104 training samples\n",
            "13,123 validation samples\n"
          ]
        }
      ]
    },
    {
      "cell_type": "code",
      "source": [
        "BATCH_SIZE = 64\n",
        "\n",
        "train_dataloader = DataLoader(train_dataset, sampler=RandomSampler(train_dataset), batch_size=BATCH_SIZE)\n",
        "validation_dataloader = DataLoader(val_dataset, sampler=SequentialSampler(val_dataset), batch_size=BATCH_SIZE)\n",
        "\n",
        "print(type(train_dataset))"
      ],
      "metadata": {
        "colab": {
          "base_uri": "https://localhost:8080/",
          "height": 0
        },
        "id": "jtyBIfQccQ9H",
        "outputId": "99dfade4-54a4-4056-91ce-6768e3708ce1"
      },
      "execution_count": 20,
      "outputs": [
        {
          "output_type": "stream",
          "name": "stdout",
          "text": [
            "<class 'torch.utils.data.dataset.Subset'>\n"
          ]
        }
      ]
    },
    {
      "cell_type": "markdown",
      "source": [
        "## Build model"
      ],
      "metadata": {
        "id": "yznHS9tWc3yS"
      }
    },
    {
      "cell_type": "code",
      "source": [
        "model = AutoModelForTokenClassification.from_pretrained(\"cointegrated/rubert-tiny\", num_labels=len(labels_to_ids.values()))\n",
        "#model = AutoModel.from_pretrained(\"cointegrated/rubert-tiny\", num_labels=len(labels_to_ids.values()))"
      ],
      "metadata": {
        "colab": {
          "base_uri": "https://localhost:8080/",
          "height": 0
        },
        "id": "MghpiSQxcQ__",
        "outputId": "261e930c-ef2b-4a85-cbd9-de121c430554"
      },
      "execution_count": 21,
      "outputs": [
        {
          "output_type": "stream",
          "name": "stderr",
          "text": [
            "Some weights of the model checkpoint at cointegrated/rubert-tiny were not used when initializing BertForTokenClassification: ['cls.predictions.bias', 'cls.predictions.transform.dense.bias', 'cls.predictions.transform.dense.weight', 'cls.seq_relationship.weight', 'cls.predictions.transform.LayerNorm.weight', 'cls.predictions.decoder.bias', 'cls.predictions.transform.LayerNorm.bias', 'cls.predictions.decoder.weight', 'cls.seq_relationship.bias']\n",
            "- This IS expected if you are initializing BertForTokenClassification from the checkpoint of a model trained on another task or with another architecture (e.g. initializing a BertForSequenceClassification model from a BertForPreTraining model).\n",
            "- This IS NOT expected if you are initializing BertForTokenClassification from the checkpoint of a model that you expect to be exactly identical (initializing a BertForSequenceClassification model from a BertForSequenceClassification model).\n",
            "Some weights of BertForTokenClassification were not initialized from the model checkpoint at cointegrated/rubert-tiny and are newly initialized: ['classifier.bias', 'classifier.weight']\n",
            "You should probably TRAIN this model on a down-stream task to be able to use it for predictions and inference.\n"
          ]
        }
      ]
    },
    {
      "cell_type": "markdown",
      "source": [
        "## Training "
      ],
      "metadata": {
        "id": "viWLk9iXdCm-"
      }
    },
    {
      "cell_type": "code",
      "source": [
        "# Load the AdamW optimizer\n",
        "optimizer = AdamW(model.parameters(),\n",
        "                  lr = 4e-5, # args.learning_rate \n",
        "                  eps = 1e-8 # args.adam_epsilon \n",
        "                )"
      ],
      "metadata": {
        "colab": {
          "base_uri": "https://localhost:8080/",
          "height": 0
        },
        "id": "gd01O4cjcRFh",
        "outputId": "62746cef-cb45-4415-da23-fbb4e40fa8a4"
      },
      "execution_count": 22,
      "outputs": [
        {
          "output_type": "stream",
          "name": "stderr",
          "text": [
            "/usr/local/lib/python3.7/dist-packages/transformers/optimization.py:309: FutureWarning: This implementation of AdamW is deprecated and will be removed in a future version. Use the PyTorch implementation torch.optim.AdamW instead, or set `no_deprecation_warning=True` to disable this warning\n",
            "  FutureWarning,\n"
          ]
        }
      ]
    },
    {
      "cell_type": "code",
      "source": [
        "# Number of training epochs \n",
        "epochs = 10\n",
        "\n",
        "# Total number of training steps is number of batches * number of epochs.\n",
        "total_steps = len(train_dataloader) * epochs\n",
        "\n",
        "# Create the learning rate scheduler.\n",
        "scheduler = get_linear_schedule_with_warmup(optimizer, \n",
        "                                            num_warmup_steps = 0,\n",
        "                                            num_training_steps = total_steps)"
      ],
      "metadata": {
        "id": "AdsNKC9HcRIE"
      },
      "execution_count": 23,
      "outputs": []
    },
    {
      "cell_type": "code",
      "source": [
        "device = torch.device(\"cuda:0\" if torch.cuda.is_available() else \"cpu\")"
      ],
      "metadata": {
        "id": "6IpwifWqd0OA"
      },
      "execution_count": 24,
      "outputs": []
    },
    {
      "cell_type": "code",
      "source": [
        "import random\n",
        "\n",
        "model.to(device)\n",
        "\n",
        "seed_val = 42\n",
        "\n",
        "random.seed(seed_val)\n",
        "np.random.seed(seed_val)\n",
        "torch.manual_seed(seed_val)\n",
        "torch.cuda.manual_seed_all(seed_val)\n",
        "\n",
        "loss_values = []\n",
        "\n",
        "for epoch_i in range(0, epochs):\n",
        "\n",
        "    print('======== Epoch {:} / {:} ========'.format(epoch_i + 1, epochs))\n",
        "    print('Training...')\n",
        "    \n",
        "    total_loss = 0\n",
        "\n",
        "    model.train()\n",
        "    \n",
        "    for step, batch in enumerate(train_dataloader):\n",
        "       \n",
        "        if step % 100 == 0 and not step == 0:\n",
        "            \n",
        "            # Report progress.\n",
        "            print('  Batch {:>5,}  of  {:>5,}.'.format(step, len(train_dataloader)))\n",
        "\n",
        "        b_input_ids = batch[0].to(device)\n",
        "        b_input_mask = batch[1].to(device)\n",
        "        b_labels = batch[2].to(device)\n",
        "\n",
        "        model.zero_grad()        \n",
        "\n",
        "        outputs = model(b_input_ids, token_type_ids=None, attention_mask=b_input_mask, labels=b_labels)\n",
        "        \n",
        "        loss = outputs[0]\n",
        "\n",
        "        total_loss += loss.item()\n",
        "\n",
        "        loss.backward()\n",
        "\n",
        "        torch.nn.utils.clip_grad_norm_(model.parameters(), 1.0)\n",
        "\n",
        "        optimizer.step()\n",
        "        \n",
        "        scheduler.step()\n",
        "\n",
        "    avg_train_loss = total_loss / len(train_dataloader)            \n",
        "    loss_values.append(avg_train_loss)\n",
        "\n",
        "    print(\"  Average training loss: {0:.5f}\".format(avg_train_loss))"
      ],
      "metadata": {
        "colab": {
          "base_uri": "https://localhost:8080/",
          "height": 0
        },
        "id": "tOtdsgJYcRKr",
        "outputId": "ec12be6d-d87f-49ac-f5e8-8a62b6c4bceb"
      },
      "execution_count": 25,
      "outputs": [
        {
          "output_type": "stream",
          "name": "stdout",
          "text": [
            "======== Epoch 1 / 10 ========\n",
            "Training...\n",
            "  Batch   100  of  1,846.\n",
            "  Batch   200  of  1,846.\n",
            "  Batch   300  of  1,846.\n",
            "  Batch   400  of  1,846.\n",
            "  Batch   500  of  1,846.\n",
            "  Batch   600  of  1,846.\n",
            "  Batch   700  of  1,846.\n",
            "  Batch   800  of  1,846.\n",
            "  Batch   900  of  1,846.\n",
            "  Batch 1,000  of  1,846.\n",
            "  Batch 1,100  of  1,846.\n",
            "  Batch 1,200  of  1,846.\n",
            "  Batch 1,300  of  1,846.\n",
            "  Batch 1,400  of  1,846.\n",
            "  Batch 1,500  of  1,846.\n",
            "  Batch 1,600  of  1,846.\n",
            "  Batch 1,700  of  1,846.\n",
            "  Batch 1,800  of  1,846.\n",
            "  Average training loss: 0.04\n",
            "======== Epoch 2 / 10 ========\n",
            "Training...\n",
            "  Batch   100  of  1,846.\n",
            "  Batch   200  of  1,846.\n",
            "  Batch   300  of  1,846.\n",
            "  Batch   400  of  1,846.\n",
            "  Batch   500  of  1,846.\n",
            "  Batch   600  of  1,846.\n",
            "  Batch   700  of  1,846.\n",
            "  Batch   800  of  1,846.\n",
            "  Batch   900  of  1,846.\n",
            "  Batch 1,000  of  1,846.\n",
            "  Batch 1,100  of  1,846.\n",
            "  Batch 1,200  of  1,846.\n",
            "  Batch 1,300  of  1,846.\n",
            "  Batch 1,400  of  1,846.\n",
            "  Batch 1,500  of  1,846.\n",
            "  Batch 1,600  of  1,846.\n",
            "  Batch 1,700  of  1,846.\n",
            "  Batch 1,800  of  1,846.\n",
            "  Average training loss: 0.01\n",
            "======== Epoch 3 / 10 ========\n",
            "Training...\n",
            "  Batch   100  of  1,846.\n",
            "  Batch   200  of  1,846.\n",
            "  Batch   300  of  1,846.\n",
            "  Batch   400  of  1,846.\n",
            "  Batch   500  of  1,846.\n",
            "  Batch   600  of  1,846.\n",
            "  Batch   700  of  1,846.\n",
            "  Batch   800  of  1,846.\n",
            "  Batch   900  of  1,846.\n",
            "  Batch 1,000  of  1,846.\n",
            "  Batch 1,100  of  1,846.\n",
            "  Batch 1,200  of  1,846.\n",
            "  Batch 1,300  of  1,846.\n",
            "  Batch 1,400  of  1,846.\n",
            "  Batch 1,500  of  1,846.\n",
            "  Batch 1,600  of  1,846.\n",
            "  Batch 1,700  of  1,846.\n",
            "  Batch 1,800  of  1,846.\n",
            "  Average training loss: 0.01\n",
            "======== Epoch 4 / 10 ========\n",
            "Training...\n",
            "  Batch   100  of  1,846.\n",
            "  Batch   200  of  1,846.\n",
            "  Batch   300  of  1,846.\n",
            "  Batch   400  of  1,846.\n",
            "  Batch   500  of  1,846.\n",
            "  Batch   600  of  1,846.\n",
            "  Batch   700  of  1,846.\n",
            "  Batch   800  of  1,846.\n",
            "  Batch   900  of  1,846.\n",
            "  Batch 1,000  of  1,846.\n",
            "  Batch 1,100  of  1,846.\n",
            "  Batch 1,200  of  1,846.\n",
            "  Batch 1,300  of  1,846.\n",
            "  Batch 1,400  of  1,846.\n",
            "  Batch 1,500  of  1,846.\n",
            "  Batch 1,600  of  1,846.\n",
            "  Batch 1,700  of  1,846.\n",
            "  Batch 1,800  of  1,846.\n",
            "  Average training loss: 0.01\n",
            "======== Epoch 5 / 10 ========\n",
            "Training...\n",
            "  Batch   100  of  1,846.\n",
            "  Batch   200  of  1,846.\n",
            "  Batch   300  of  1,846.\n",
            "  Batch   400  of  1,846.\n",
            "  Batch   500  of  1,846.\n",
            "  Batch   600  of  1,846.\n",
            "  Batch   700  of  1,846.\n",
            "  Batch   800  of  1,846.\n",
            "  Batch   900  of  1,846.\n",
            "  Batch 1,000  of  1,846.\n",
            "  Batch 1,100  of  1,846.\n",
            "  Batch 1,200  of  1,846.\n",
            "  Batch 1,300  of  1,846.\n",
            "  Batch 1,400  of  1,846.\n",
            "  Batch 1,500  of  1,846.\n",
            "  Batch 1,600  of  1,846.\n",
            "  Batch 1,700  of  1,846.\n",
            "  Batch 1,800  of  1,846.\n",
            "  Average training loss: 0.01\n",
            "======== Epoch 6 / 10 ========\n",
            "Training...\n",
            "  Batch   100  of  1,846.\n",
            "  Batch   200  of  1,846.\n",
            "  Batch   300  of  1,846.\n",
            "  Batch   400  of  1,846.\n",
            "  Batch   500  of  1,846.\n",
            "  Batch   600  of  1,846.\n",
            "  Batch   700  of  1,846.\n",
            "  Batch   800  of  1,846.\n",
            "  Batch   900  of  1,846.\n",
            "  Batch 1,000  of  1,846.\n",
            "  Batch 1,100  of  1,846.\n",
            "  Batch 1,200  of  1,846.\n",
            "  Batch 1,300  of  1,846.\n",
            "  Batch 1,400  of  1,846.\n",
            "  Batch 1,500  of  1,846.\n",
            "  Batch 1,600  of  1,846.\n",
            "  Batch 1,700  of  1,846.\n",
            "  Batch 1,800  of  1,846.\n",
            "  Average training loss: 0.01\n",
            "======== Epoch 7 / 10 ========\n",
            "Training...\n",
            "  Batch   100  of  1,846.\n",
            "  Batch   200  of  1,846.\n",
            "  Batch   300  of  1,846.\n",
            "  Batch   400  of  1,846.\n",
            "  Batch   500  of  1,846.\n",
            "  Batch   600  of  1,846.\n",
            "  Batch   700  of  1,846.\n",
            "  Batch   800  of  1,846.\n",
            "  Batch   900  of  1,846.\n",
            "  Batch 1,000  of  1,846.\n",
            "  Batch 1,100  of  1,846.\n",
            "  Batch 1,200  of  1,846.\n",
            "  Batch 1,300  of  1,846.\n",
            "  Batch 1,400  of  1,846.\n",
            "  Batch 1,500  of  1,846.\n",
            "  Batch 1,600  of  1,846.\n",
            "  Batch 1,700  of  1,846.\n",
            "  Batch 1,800  of  1,846.\n",
            "  Average training loss: 0.01\n",
            "======== Epoch 8 / 10 ========\n",
            "Training...\n",
            "  Batch   100  of  1,846.\n",
            "  Batch   200  of  1,846.\n",
            "  Batch   300  of  1,846.\n",
            "  Batch   400  of  1,846.\n",
            "  Batch   500  of  1,846.\n",
            "  Batch   600  of  1,846.\n",
            "  Batch   700  of  1,846.\n",
            "  Batch   800  of  1,846.\n",
            "  Batch   900  of  1,846.\n",
            "  Batch 1,000  of  1,846.\n",
            "  Batch 1,100  of  1,846.\n",
            "  Batch 1,200  of  1,846.\n",
            "  Batch 1,300  of  1,846.\n",
            "  Batch 1,400  of  1,846.\n",
            "  Batch 1,500  of  1,846.\n",
            "  Batch 1,600  of  1,846.\n",
            "  Batch 1,700  of  1,846.\n",
            "  Batch 1,800  of  1,846.\n",
            "  Average training loss: 0.01\n",
            "======== Epoch 9 / 10 ========\n",
            "Training...\n",
            "  Batch   100  of  1,846.\n",
            "  Batch   200  of  1,846.\n",
            "  Batch   300  of  1,846.\n",
            "  Batch   400  of  1,846.\n",
            "  Batch   500  of  1,846.\n",
            "  Batch   600  of  1,846.\n",
            "  Batch   700  of  1,846.\n",
            "  Batch   800  of  1,846.\n",
            "  Batch   900  of  1,846.\n",
            "  Batch 1,000  of  1,846.\n",
            "  Batch 1,100  of  1,846.\n",
            "  Batch 1,200  of  1,846.\n",
            "  Batch 1,300  of  1,846.\n",
            "  Batch 1,400  of  1,846.\n",
            "  Batch 1,500  of  1,846.\n",
            "  Batch 1,600  of  1,846.\n",
            "  Batch 1,700  of  1,846.\n",
            "  Batch 1,800  of  1,846.\n",
            "  Average training loss: 0.01\n",
            "======== Epoch 10 / 10 ========\n",
            "Training...\n",
            "  Batch   100  of  1,846.\n",
            "  Batch   200  of  1,846.\n",
            "  Batch   300  of  1,846.\n",
            "  Batch   400  of  1,846.\n",
            "  Batch   500  of  1,846.\n",
            "  Batch   600  of  1,846.\n",
            "  Batch   700  of  1,846.\n",
            "  Batch   800  of  1,846.\n",
            "  Batch   900  of  1,846.\n",
            "  Batch 1,000  of  1,846.\n",
            "  Batch 1,100  of  1,846.\n",
            "  Batch 1,200  of  1,846.\n",
            "  Batch 1,300  of  1,846.\n",
            "  Batch 1,400  of  1,846.\n",
            "  Batch 1,500  of  1,846.\n",
            "  Batch 1,600  of  1,846.\n",
            "  Batch 1,700  of  1,846.\n",
            "  Batch 1,800  of  1,846.\n",
            "  Average training loss: 0.01\n"
          ]
        }
      ]
    },
    {
      "cell_type": "code",
      "source": [
        "# Use plot styling from seaborn.\n",
        "sns.set(style='darkgrid')\n",
        "\n",
        "# Increase the plot size and font size.\n",
        "sns.set(font_scale=1.5)\n",
        "plt.rcParams[\"figure.figsize\"] = (12,6)\n",
        "\n",
        "# Plot the learning curve.\n",
        "plt.plot(loss_values, 'b-o')\n",
        "\n",
        "# Label the plot.\n",
        "plt.title(\"Training loss\")\n",
        "plt.xlabel(\"Epoch\")\n",
        "plt.ylabel(\"Loss\")\n",
        "\n",
        "plt.show()"
      ],
      "metadata": {
        "colab": {
          "base_uri": "https://localhost:8080/",
          "height": 427
        },
        "id": "1FKyi0AdcRNT",
        "outputId": "e14ee520-cac3-4a4b-b7f9-63143034ece2"
      },
      "execution_count": 26,
      "outputs": [
        {
          "output_type": "display_data",
          "data": {
            "text/plain": [
              "<Figure size 864x432 with 1 Axes>"
            ],
            "image/png": "[encoded data removed]"
          },
          "metadata": {}
        }
      ]
    },
    {
      "cell_type": "code",
      "source": [
        "# Put model in evaluation mode\n",
        "model.eval()\n",
        "\n",
        "# Tracking variables \n",
        "predictions, true_labels = [], []\n",
        "\n",
        "# Predict \n",
        "for batch in validation_dataloader:\n",
        "    # Add batch to GPU\n",
        "    batch = tuple(t.to(device) for t in batch) ##t.to(device)\n",
        "  \n",
        "    # Unpack the inputs from our dataloader\n",
        "    b_input_ids, b_input_mask, b_labels = batch\n",
        "  \n",
        "    # Telling the model not to compute or store gradients, saving memory and \n",
        "\n",
        "    with torch.no_grad():\n",
        "        # Forward pass, calculate logit predictions\n",
        "        outputs = model(b_input_ids, token_type_ids=None, \n",
        "                      attention_mask=b_input_mask)\n",
        "\n",
        "    logits = outputs[0]\n",
        "\n",
        "    # Move logits and labels to CPU\n",
        "    logits = logits.detach().cpu().numpy()\n",
        "    label_ids = b_labels.to('cpu').numpy()\n",
        "\n",
        "    # Store predictions and true labels\n",
        "    predictions.append(logits)\n",
        "    true_labels.append(label_ids)\n",
        "\n",
        "print('    DONE.')"
      ],
      "metadata": {
        "colab": {
          "base_uri": "https://localhost:8080/",
          "height": 0
        },
        "id": "ajG5A4xpcRPl",
        "outputId": "bc6a720a-fe3a-48ca-de09-cdff2c15deb8"
      },
      "execution_count": 27,
      "outputs": [
        {
          "output_type": "stream",
          "name": "stdout",
          "text": [
            "    DONE.\n"
          ]
        }
      ]
    },
    {
      "cell_type": "code",
      "source": [
        "# First, combine the results across the batches.\n",
        "all_predictions = np.concatenate(predictions, axis=0)\n",
        "all_true_labels = np.concatenate(true_labels, axis=0)\n",
        "\n",
        "print(\"After flattening the batches, the predictions have shape:\")\n",
        "print(\"    \", all_predictions.shape)\n",
        "\n",
        "# Next, let's remove the third dimension (axis 2), which has the scores\n",
        "# for all 18 labels. \n",
        "\n",
        "# For each token, pick the label with the highest score.\n",
        "predicted_label_ids = np.argmax(all_predictions, axis=2)\n",
        "\n",
        "print(\"\\nAfter choosing the highest scoring label for each token:\")\n",
        "print(\"    \", predicted_label_ids.shape) \n",
        "\n",
        "\n",
        "# Eliminate axis 0, which corresponds to the sentences.\n",
        "predicted_label_ids = np.concatenate(predicted_label_ids, axis=0)\n",
        "all_true_labels = np.concatenate(all_true_labels, axis=0)\n",
        "\n",
        "print(\"\\nAfter flattening the sentences, we have predictions:\")\n",
        "print(\"    \", predicted_label_ids.shape)\n",
        "print(\"and ground truth:\")\n",
        "print(\"    \", all_true_labels.shape)"
      ],
      "metadata": {
        "colab": {
          "base_uri": "https://localhost:8080/",
          "height": 0
        },
        "id": "4cF6h9s7cRSz",
        "outputId": "09afecce-5cb1-4101-f11e-45a0217e0911"
      },
      "execution_count": 28,
      "outputs": [
        {
          "output_type": "stream",
          "name": "stdout",
          "text": [
            "After flattening the batches, the predictions have shape:\n",
            "     (13123, 300, 7)\n",
            "\n",
            "After choosing the highest scoring label for each token:\n",
            "     (13123, 300)\n",
            "\n",
            "After flattening the sentences, we have predictions:\n",
            "     (3936900,)\n",
            "and ground truth:\n",
            "     (3936900,)\n"
          ]
        }
      ]
    },
    {
      "cell_type": "code",
      "source": [
        "# Construct new lists of predictions which don't include any null tokens.\n",
        "real_token_predictions = []\n",
        "real_token_labels = []\n",
        "\n",
        "# For each of the input tokens in the dataset...\n",
        "for i in range(len(all_true_labels)):\n",
        "\n",
        "    # If it's not a token with a null label...\n",
        "    if not all_true_labels[i] == -100:\n",
        "        \n",
        "        # Add the prediction and the ground truth to their lists.\n",
        "        real_token_predictions.append(predicted_label_ids[i])\n",
        "        real_token_labels.append(all_true_labels[i])\n",
        "\n",
        "print(\"Before filtering out `null` tokens, length = {:,}\".format(len(all_true_labels)))\n",
        "print(\" After filtering out `null` tokens, length = {:,}\".format(len(real_token_labels)))"
      ],
      "metadata": {
        "colab": {
          "base_uri": "https://localhost:8080/",
          "height": 0
        },
        "id": "JvnmP2tQcRVb",
        "outputId": "1d4e9b77-45af-4f47-b5d8-2ac99cc638ac"
      },
      "execution_count": 29,
      "outputs": [
        {
          "output_type": "stream",
          "name": "stdout",
          "text": [
            "Before filtering out `null` tokens, length = 3,936,900\n",
            " After filtering out `null` tokens, length = 3,936,900\n"
          ]
        }
      ]
    },
    {
      "cell_type": "code",
      "source": [
        "from sklearn.metrics import f1_score\n",
        "\n",
        "f1 = f1_score(real_token_labels, real_token_predictions, average='micro') \n",
        "\n",
        "print (\"F1 score: {:.2%}\".format(f1))"
      ],
      "metadata": {
        "colab": {
          "base_uri": "https://localhost:8080/",
          "height": 0
        },
        "id": "2oV2odZ8cRhp",
        "outputId": "2c939606-6afb-4c09-95b7-0c84c00c2feb"
      },
      "execution_count": 30,
      "outputs": [
        {
          "output_type": "stream",
          "name": "stdout",
          "text": [
            "F1 score: 99.76%\n"
          ]
        }
      ]
    },
    {
      "cell_type": "code",
      "source": [
        "accuracy_score(real_token_labels, real_token_predictions)"
      ],
      "metadata": {
        "colab": {
          "base_uri": "https://localhost:8080/",
          "height": 166
        },
        "id": "sJGT1s2soxCq",
        "outputId": "b0d962b1-b8c6-4234-c401-fd65dfad9e31"
      },
      "execution_count": 1,
      "outputs": [
        {
          "output_type": "error",
          "ename": "NameError",
          "evalue": "ignored",
          "traceback": [
            "\u001b[0;31m---------------------------------------------------------------------------\u001b[0m",
            "\u001b[0;31mNameError\u001b[0m                                 Traceback (most recent call last)",
            "\u001b[0;32m<ipython-input-1-38cf70bac122>\u001b[0m in \u001b[0;36m<module>\u001b[0;34m()\u001b[0m\n\u001b[0;32m----> 1\u001b[0;31m \u001b[0maccuracy_score\u001b[0m\u001b[0;34m(\u001b[0m\u001b[0mreal_token_labels\u001b[0m\u001b[0;34m,\u001b[0m \u001b[0mreal_token_predictions\u001b[0m\u001b[0;34m)\u001b[0m\u001b[0;34m\u001b[0m\u001b[0;34m\u001b[0m\u001b[0m\n\u001b[0m",
            "\u001b[0;31mNameError\u001b[0m: name 'accuracy_score' is not defined"
          ]
        }
      ]
    },
    {
      "cell_type": "code",
      "source": [
        "from sklearn.metrics import precision_score, recall_score\n",
        "print(precision_score(real_token_labels, real_token_predictions, average='micro'))\n",
        "print(recall_score(real_token_labels, real_token_predictions))"
      ],
      "metadata": {
        "id": "rs_VGQSFo3Wy"
      },
      "execution_count": null,
      "outputs": []
    },
    {
      "cell_type": "code",
      "source": [
        "test_sentence = input (\"Enter number :\") "
      ],
      "metadata": {
        "colab": {
          "base_uri": "https://localhost:8080/",
          "height": 0
        },
        "id": "IhpY_pA-ejyK",
        "outputId": "c5db1cde-8e0a-4d31-fe70-1ad80b838733"
      },
      "execution_count": 38,
      "outputs": [
        {
          "name": "stdout",
          "output_type": "stream",
          "text": [
            "Enter number :На работе Енакентий евгеньевич украл кота\n"
          ]
        }
      ]
    },
    {
      "cell_type": "code",
      "source": [
        "#Encoding and convert the sentences into tensors\n",
        "sample_sentence = tokenizer.encode(test_sentence)\n",
        "sample_input_ids = torch.tensor([sample_sentence]).cuda()\n",
        "\n",
        "#Predicting the test data set using model() function\n",
        "with torch.no_grad():\n",
        "    output = model(sample_input_ids)\n",
        "label_indices = np.argmax(output[0].to('cpu').numpy(), axis=2)\n",
        "\n",
        "#Function which retrieves key value for our Label Dictionary\n",
        "def get_key(val):\n",
        "    for key, value in labels_to_ids.items():\n",
        "         if val == value:\n",
        "             return key\n",
        " \n",
        "    return \"key doesn't exist\"\n",
        "\n",
        "#Tokenize  \n",
        "tokens = tokenizer.convert_ids_to_tokens(sample_input_ids.to('cpu').numpy()[0])\n",
        "new_tokens, new_label = [], []\n",
        "for token, label_idx in zip(tokens, label_indices[0]):\n",
        "    if token.startswith(\"##\"):\n",
        "        new_tokens[-1] = new_tokens[-1] + token[2:]\n",
        "    else:\n",
        "        new_label.append(get_key(label_idx))\n",
        "        new_tokens.append(token)\n",
        "\n",
        "#cheat\n",
        "new_label = ['O'] + new_label[:-1]\n",
        "#Appending Tokens and Labels\n",
        "movie_token=[]\n",
        "movie_label=[]\n",
        "for token, label in zip(new_tokens, new_label):\n",
        "    movie_token.append(token) \n",
        "    movie_label.append(label)\n",
        "\n",
        "df=pd.DataFrame({\"Token\":movie_token,\"Movie_Label\":movie_label})\n",
        "df.T"
      ],
      "metadata": {
        "colab": {
          "base_uri": "https://localhost:8080/",
          "height": 112
        },
        "id": "TjzqLwSjej1p",
        "outputId": "1cc5edae-77ca-4c80-b6e7-8e52f15afd97"
      },
      "execution_count": 39,
      "outputs": [
        {
          "output_type": "execute_result",
          "data": {
            "text/plain": [
              "                 0   1       2          3           4      5     6      7\n",
              "Token        [CLS]  На  работе  Енакентий  евгеньевич  украл  кота  [SEP]\n",
              "Movie_Label      O   O       O      B-PER           O      O     O      O"
            ],
            "text/html": [
              "\n",
              "  <div id=\"df-af8c5226-412d-4b28-ad11-03543ec9ab75\">\n",
              "    <div class=\"colab-df-container\">\n",
              "      <div>\n",
              "<style scoped>\n",
              "    .dataframe tbody tr th:only-of-type {\n",
              "        vertical-align: middle;\n",
              "    }\n",
              "\n",
              "    .dataframe tbody tr th {\n",
              "        vertical-align: top;\n",
              "    }\n",
              "\n",
              "    .dataframe thead th {\n",
              "        text-align: right;\n",
              "    }\n",
              "</style>\n",
              "<table border=\"1\" class=\"dataframe\">\n",
              "  <thead>\n",
              "    <tr style=\"text-align: right;\">\n",
              "      <th></th>\n",
              "      <th>0</th>\n",
              "      <th>1</th>\n",
              "      <th>2</th>\n",
              "      <th>3</th>\n",
              "      <th>4</th>\n",
              "      <th>5</th>\n",
              "      <th>6</th>\n",
              "      <th>7</th>\n",
              "    </tr>\n",
              "  </thead>\n",
              "  <tbody>\n",
              "    <tr>\n",
              "      <th>Token</th>\n",
              "      <td>[CLS]</td>\n",
              "      <td>На</td>\n",
              "      <td>работе</td>\n",
              "      <td>Енакентий</td>\n",
              "      <td>евгеньевич</td>\n",
              "      <td>украл</td>\n",
              "      <td>кота</td>\n",
              "      <td>[SEP]</td>\n",
              "    </tr>\n",
              "    <tr>\n",
              "      <th>Movie_Label</th>\n",
              "      <td>O</td>\n",
              "      <td>O</td>\n",
              "      <td>O</td>\n",
              "      <td>B-PER</td>\n",
              "      <td>O</td>\n",
              "      <td>O</td>\n",
              "      <td>O</td>\n",
              "      <td>O</td>\n",
              "    </tr>\n",
              "  </tbody>\n",
              "</table>\n",
              "</div>\n",
              "      <button class=\"colab-df-convert\" onclick=\"convertToInteractive('df-af8c5226-412d-4b28-ad11-03543ec9ab75')\"\n",
              "              title=\"Convert this dataframe to an interactive table.\"\n",
              "              style=\"display:none;\">\n",
              "        \n",
              "  <svg xmlns=\"http://www.w3.org/2000/svg\" height=\"24px\"viewBox=\"0 0 24 24\"\n",
              "       width=\"24px\">\n",
              "    <path d=\"M0 0h24v24H0V0z\" fill=\"none\"/>\n",
              "    <path d=\"M18.56 5.44l.94 2.06.94-2.06 2.06-.94-2.06-.94-.94-2.06-.94 2.06-2.06.94zm-11 1L8.5 8.5l.94-2.06 2.06-.94-2.06-.94L8.5 2.5l-.94 2.06-2.06.94zm10 10l.94 2.06.94-2.06 2.06-.94-2.06-.94-.94-2.06-.94 2.06-2.06.94z\"/><path d=\"M17.41 7.96l-1.37-1.37c-.4-.4-.92-.59-1.43-.59-.52 0-1.04.2-1.43.59L10.3 9.45l-7.72 7.72c-.78.78-.78 2.05 0 2.83L4 21.41c.39.39.9.59 1.41.59.51 0 1.02-.2 1.41-.59l7.78-7.78 2.81-2.81c.8-.78.8-2.07 0-2.86zM5.41 20L4 18.59l7.72-7.72 1.47 1.35L5.41 20z\"/>\n",
              "  </svg>\n",
              "      </button>\n",
              "      \n",
              "  <style>\n",
              "    .colab-df-container {\n",
              "      display:flex;\n",
              "      flex-wrap:wrap;\n",
              "      gap: 12px;\n",
              "    }\n",
              "\n",
              "    .colab-df-convert {\n",
              "      background-color: #E8F0FE;\n",
              "      border: none;\n",
              "      border-radius: 50%;\n",
              "      cursor: pointer;\n",
              "      display: none;\n",
              "      fill: #1967D2;\n",
              "      height: 32px;\n",
              "      padding: 0 0 0 0;\n",
              "      width: 32px;\n",
              "    }\n",
              "\n",
              "    .colab-df-convert:hover {\n",
              "      background-color: #E2EBFA;\n",
              "      box-shadow: 0px 1px 2px rgba(60, 64, 67, 0.3), 0px 1px 3px 1px rgba(60, 64, 67, 0.15);\n",
              "      fill: #174EA6;\n",
              "    }\n",
              "\n",
              "    [theme=dark] .colab-df-convert {\n",
              "      background-color: #3B4455;\n",
              "      fill: #D2E3FC;\n",
              "    }\n",
              "\n",
              "    [theme=dark] .colab-df-convert:hover {\n",
              "      background-color: #434B5C;\n",
              "      box-shadow: 0px 1px 3px 1px rgba(0, 0, 0, 0.15);\n",
              "      filter: drop-shadow(0px 1px 2px rgba(0, 0, 0, 0.3));\n",
              "      fill: #FFFFFF;\n",
              "    }\n",
              "  </style>\n",
              "\n",
              "      <script>\n",
              "        const buttonEl =\n",
              "          document.querySelector('#df-af8c5226-412d-4b28-ad11-03543ec9ab75 button.colab-df-convert');\n",
              "        buttonEl.style.display =\n",
              "          google.colab.kernel.accessAllowed ? 'block' : 'none';\n",
              "\n",
              "        async function convertToInteractive(key) {\n",
              "          const element = document.querySelector('#df-af8c5226-412d-4b28-ad11-03543ec9ab75');\n",
              "          const dataTable =\n",
              "            await google.colab.kernel.invokeFunction('convertToInteractive',\n",
              "                                                     [key], {});\n",
              "          if (!dataTable) return;\n",
              "\n",
              "          const docLinkHtml = 'Like what you see? Visit the ' +\n",
              "            '<a target=\"_blank\" href=https://colab.research.google.com/notebooks/data_table.ipynb>data table notebook</a>'\n",
              "            + ' to learn more about interactive tables.';\n",
              "          element.innerHTML = '';\n",
              "          dataTable['output_type'] = 'display_data';\n",
              "          await google.colab.output.renderOutput(dataTable, element);\n",
              "          const docLink = document.createElement('div');\n",
              "          docLink.innerHTML = docLinkHtml;\n",
              "          element.appendChild(docLink);\n",
              "        }\n",
              "      </script>\n",
              "    </div>\n",
              "  </div>\n",
              "  "
            ]
          },
          "metadata": {},
          "execution_count": 39
        }
      ]
    },
    {
      "cell_type": "code",
      "source": [
        "torch.save(model.state_dict(), 'ner-model-best.pth')"
      ],
      "metadata": {
        "id": "U9AmHtzRej4R"
      },
      "execution_count": 41,
      "outputs": []
    },
    {
      "cell_type": "code",
      "source": [
        ""
      ],
      "metadata": {
        "id": "JbgjpqImjTk4"
      },
      "execution_count": 31,
      "outputs": []
    }
  ]
}